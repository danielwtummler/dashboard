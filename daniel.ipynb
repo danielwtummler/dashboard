{
 "cells": [
  {
   "cell_type": "code",
   "execution_count": 1,
   "id": "429355a9-cdee-4934-89ce-0b99674d3e12",
   "metadata": {},
   "outputs": [],
   "source": [
    "import streamlit as st\n",
    "from utils import filtrar\n",
    "from data import load_data\n",
    "import pandas as pd\n",
    "import numpy as np\n",
    "import requests\n",
    "import soft\n",
    "import tech\n",
    "import tech_\n",
    "from pprint import pprint\n",
    "import plotly.express as px\n",
    "\n",
    "\n",
    "tables_id = {\"Trabajadores\"               : \"tblNBHV9KDGDQNs8y\",\n",
    "             \"Roles\"                      : \"tblk2itGEWE7ePo73\",\n",
    "             \"Tecnologías\"                : \"tblXhF1lZUBKiNixP\",\n",
    "             \"Competencias técnicas\"      : \"tblLUDGmhm7otZhGp\",\n",
    "             \"Competencias blandas\"       : \"tblvuUUjjnUvdS1z1\",\n",
    "             \"Certificaciones\"            : \"tblUforpTYin3pEZs\",\n",
    "             \"Formulario certificaciones\" : \"tblERjkIA64JGPgNW\",\n",
    "             \"Pruebas técnicas\"           : \"tblGy8pLPexkcpJcq\",\n",
    "             \"Verticales\"                 : \"tblDZzmvFmWfMbmx5\",\n",
    "             \"Assessment MAPFRE\"          : \"tbl7EYNl618IhKAse\",\n",
    "             \"Data blandas\"               : \"tblImXJh9fSnqrW8B\",\n",
    "             \"Data Competencias técnicas\" : \"tbl1kSY13iQhxi1O3\",\n",
    "             \"Data Tecnologías\"           : \"tblca2y3nQTUPrbfx\"}\n",
    "\n",
    "def extract_airtable(app: str, tbl: str, token: str) -> pd.DataFrame:\n",
    "    url = f\"https://api.airtable.com/v0/{app}/{tbl}\"\n",
    "\n",
    "    response = requests.get(url, headers={\"Authorization\" : f\"Bearer {\"patAavpcVDkODOexK.4077431682eb04c6617a62752b02d81efc3031128fc8294b2328d4e18d5233bb\"}\"})\n",
    "    data = response.json()\n",
    "    records = data[\"records\"]\n",
    "\n",
    "    while \"offset\" in data.keys():\n",
    "        r = requests.get(url, headers={\"Authorization\" : f\"Bearer {token}\"}, params={\"offset\" : data[\"offset\"]})\n",
    "        data = r.json()\n",
    "        records.extend(data[\"records\"])\n",
    "\n",
    "    return pd.json_normalize(records)\n",
    "\n",
    "def extract_all_airtable(tables_id: dict) -> dict:\n",
    "\n",
    "    AIRTABLE_API_KEY = \"patAavpcVDkODOexK.4077431682eb04c6617a62752b02d81efc3031128fc8294b2328d4e18d5233bb\"\n",
    "\n",
    "    app_id = \"appACxf1z2b7fsR44\"\n",
    "\n",
    "    df_dicts = dict()\n",
    "    for k, v in tables_id.items():\n",
    "        \n",
    "        df_bucle = extract_airtable(app = app_id, tbl = v, token = AIRTABLE_API_KEY).drop([\"createdTime\"], axis = 1)\n",
    "\n",
    "        df_bucle.columns = [col.replace(\"fields.\", \"\") for col in df_bucle.columns]\n",
    "\n",
    "        df_dicts[k] = df_bucle\n",
    "    return df_dicts\n",
    "\n",
    "df_dicts = extract_all_airtable(tables_id = tables_id)"
   ]
  },
  {
   "cell_type": "markdown",
   "id": "f0966af2-5705-4356-9def-3faea6773453",
   "metadata": {},
   "source": [
    "# Primera Gráfica"
   ]
  },
  {
   "cell_type": "code",
   "execution_count": null,
   "id": "cbebbd2f-0d1e-464a-b9b1-93d7647a0517",
   "metadata": {},
   "outputs": [],
   "source": [
    "def primera_grafica(df_dicts):\n",
    "    # Relación \"Certificaciones (from Rol que le corresponde)\" vs \"\"Certificaciones faltantes para el rol (INFORME)\"\"\n",
    "    \n",
    "    df = df_dicts[\"Trabajadores\"][[\"Nombre\", \"Certificaciones\", \"Certificaciones (from Rol que le corresponde)\", \"Certificaciones faltantes para el rol (INFORME)\", \"Nueva vertical\"]]\n",
    "    \n",
    "    for col in df.columns:\n",
    "    \n",
    "        df[col] = df[col].apply(lambda x : list(set(x)) if type(x) == list else x)\n",
    "    \n",
    "    df[\"Certificaciones Totales\"] = df[\"Certificaciones\"].apply(lambda x : len(x) if type(x) == list else 0)\n",
    "    \n",
    "    df[\"Certificaciones Totales por Rol\"] = df[\"Certificaciones (from Rol que le corresponde)\"].apply(lambda x : len(x) if type(x) == list else 0)\n",
    "    \n",
    "    df[\"Certificaciones Faltantes\"] = df[\"Certificaciones faltantes para el rol (INFORME)\"].apply(lambda x : len(x) if type(x) == list else 0)\n",
    "    \n",
    "    df[\"Porcentaje Certificaciones Faltantes\"] = np.round(df[\"Certificaciones Faltantes\"] / df[\"Certificaciones Totales por Rol\"] * 100, 2)\n",
    "    \n",
    "    df = pd.merge(left = df.explode(\"Nueva vertical\"), right = df_dicts[\"Verticales\"][[\"id\", \"Vertical\"]], left_on = \"Nueva vertical\", right_on = \"id\", how = \"left\")\n",
    "    \n",
    "    df_resultado = df.groupby(by = [\"Vertical\"], as_index = False).agg({\"Porcentaje Certificaciones Faltantes\" : \"mean\"})\n",
    "    \n",
    "    df_resultado[\"Porcentaje Certificaciones Faltantes\"] = df_resultado[\"Porcentaje Certificaciones Faltantes\"].clip(lower = 0, upper = 100)\n",
    "    df_resultado[\"Porcentaje Certificaciones Realizadas\"] = 100 - df_resultado[\"Porcentaje Certificaciones Faltantes\"].clip(lower = 0, upper = 100)\n",
    "    \n",
    "    df_resultado[[\"Porcentaje Certificaciones Faltantes\", \"Porcentaje Certificaciones Realizadas\"]] = df_resultado[[\"Porcentaje Certificaciones Faltantes\", \"Porcentaje Certificaciones Realizadas\"]].round(decimals = 2)\n",
    "    \n",
    "    df_resultado = df_resultado.sort_values(\"Porcentaje Certificaciones Faltantes\")\n",
    "    \n",
    "    fig = px.bar(data_frame = df_resultado,\n",
    "                 x          = \"Vertical\",\n",
    "                 y          = \"Porcentaje Certificaciones Realizadas\",\n",
    "                 range_y    = [0, 100],\n",
    "                 text_auto  = True,\n",
    "                 title      = \"Procentaje de Certificaciones Finalizadas por Vertical\")\n",
    "    \n",
    "    fig.update_layout(xaxis = dict(title = dict(text = \"Vertical\")),\n",
    "                      yaxis = dict(title = dict(text = \"% Certificaciones Finalizadas\")))\n",
    "    \n",
    "    fig.show()"
   ]
  },
  {
   "cell_type": "code",
   "execution_count": 97,
   "id": "5857b4cf-726f-447b-9442-52d3f821cfaf",
   "metadata": {},
   "outputs": [],
   "source": [
    "# Relación \"Certificaciones (from Rol que le corresponde)\" vs \"\"Certificaciones faltantes para el rol (INFORME)\"\"\n",
    "\n",
    "df = df_dicts[\"Trabajadores\"][[\"Nombre\", \"Certificaciones\", \"Certificaciones (from Rol que le corresponde)\", \"Certificaciones faltantes para el rol (INFORME)\", \"Nueva vertical\"]]"
   ]
  },
  {
   "cell_type": "code",
   "execution_count": 98,
   "id": "c0a9ffa6-9004-4126-83d3-9779bf8f7f76",
   "metadata": {},
   "outputs": [
    {
     "name": "stderr",
     "output_type": "stream",
     "text": [
      "C:\\Users\\danie\\AppData\\Local\\Temp\\ipykernel_19492\\2149317163.py:3: SettingWithCopyWarning:\n",
      "\n",
      "\n",
      "A value is trying to be set on a copy of a slice from a DataFrame.\n",
      "Try using .loc[row_indexer,col_indexer] = value instead\n",
      "\n",
      "See the caveats in the documentation: https://pandas.pydata.org/pandas-docs/stable/user_guide/indexing.html#returning-a-view-versus-a-copy\n",
      "\n"
     ]
    }
   ],
   "source": [
    "for col in df.columns:\n",
    "\n",
    "    df[col] = df[col].apply(lambda x : list(set(x)) if type(x) == list else x)"
   ]
  },
  {
   "cell_type": "code",
   "execution_count": 99,
   "id": "776b4725-9b9b-4226-8e4e-c0581ae6bcd7",
   "metadata": {},
   "outputs": [
    {
     "name": "stderr",
     "output_type": "stream",
     "text": [
      "C:\\Users\\danie\\AppData\\Local\\Temp\\ipykernel_19492\\4050949787.py:1: SettingWithCopyWarning:\n",
      "\n",
      "\n",
      "A value is trying to be set on a copy of a slice from a DataFrame.\n",
      "Try using .loc[row_indexer,col_indexer] = value instead\n",
      "\n",
      "See the caveats in the documentation: https://pandas.pydata.org/pandas-docs/stable/user_guide/indexing.html#returning-a-view-versus-a-copy\n",
      "\n",
      "C:\\Users\\danie\\AppData\\Local\\Temp\\ipykernel_19492\\4050949787.py:3: SettingWithCopyWarning:\n",
      "\n",
      "\n",
      "A value is trying to be set on a copy of a slice from a DataFrame.\n",
      "Try using .loc[row_indexer,col_indexer] = value instead\n",
      "\n",
      "See the caveats in the documentation: https://pandas.pydata.org/pandas-docs/stable/user_guide/indexing.html#returning-a-view-versus-a-copy\n",
      "\n",
      "C:\\Users\\danie\\AppData\\Local\\Temp\\ipykernel_19492\\4050949787.py:5: SettingWithCopyWarning:\n",
      "\n",
      "\n",
      "A value is trying to be set on a copy of a slice from a DataFrame.\n",
      "Try using .loc[row_indexer,col_indexer] = value instead\n",
      "\n",
      "See the caveats in the documentation: https://pandas.pydata.org/pandas-docs/stable/user_guide/indexing.html#returning-a-view-versus-a-copy\n",
      "\n",
      "C:\\Users\\danie\\AppData\\Local\\Temp\\ipykernel_19492\\4050949787.py:7: SettingWithCopyWarning:\n",
      "\n",
      "\n",
      "A value is trying to be set on a copy of a slice from a DataFrame.\n",
      "Try using .loc[row_indexer,col_indexer] = value instead\n",
      "\n",
      "See the caveats in the documentation: https://pandas.pydata.org/pandas-docs/stable/user_guide/indexing.html#returning-a-view-versus-a-copy\n",
      "\n"
     ]
    }
   ],
   "source": [
    "df[\"Certificaciones Totales\"] = df[\"Certificaciones\"].apply(lambda x : len(x) if type(x) == list else 0)\n",
    "\n",
    "df[\"Certificaciones Totales por Rol\"] = df[\"Certificaciones (from Rol que le corresponde)\"].apply(lambda x : len(x) if type(x) == list else 0)\n",
    "\n",
    "df[\"Certificaciones Faltantes\"] = df[\"Certificaciones faltantes para el rol (INFORME)\"].apply(lambda x : len(x) if type(x) == list else 0)\n",
    "\n",
    "df[\"Porcentaje Certificaciones Faltantes\"] = np.round(df[\"Certificaciones Faltantes\"] / df[\"Certificaciones Totales por Rol\"] * 100, 2)"
   ]
  },
  {
   "cell_type": "code",
   "execution_count": 100,
   "id": "0d06876c-b4c9-440b-a705-675c30bfd151",
   "metadata": {},
   "outputs": [],
   "source": [
    "df = pd.merge(left = df.explode(\"Nueva vertical\"), right = df_dicts[\"Verticales\"][[\"id\", \"Vertical\"]], left_on = \"Nueva vertical\", right_on = \"id\", how = \"left\")"
   ]
  },
  {
   "cell_type": "code",
   "execution_count": 101,
   "id": "fdd9c39f-a954-43ec-97f1-e337c58e3aed",
   "metadata": {},
   "outputs": [],
   "source": [
    "df_resultado = df.groupby(by = [\"Vertical\"], as_index = False).agg({\"Porcentaje Certificaciones Faltantes\" : \"mean\"})\n",
    "\n",
    "df_resultado[\"Porcentaje Certificaciones Faltantes\"] = df_resultado[\"Porcentaje Certificaciones Faltantes\"].clip(lower = 0, upper = 100)\n",
    "df_resultado[\"Porcentaje Certificaciones Realizadas\"] = 100 - df_resultado[\"Porcentaje Certificaciones Faltantes\"].clip(lower = 0, upper = 100)\n",
    "\n",
    "df_resultado[[\"Porcentaje Certificaciones Faltantes\", \"Porcentaje Certificaciones Realizadas\"]] = df_resultado[[\"Porcentaje Certificaciones Faltantes\", \"Porcentaje Certificaciones Realizadas\"]].round(decimals = 2)\n",
    "\n",
    "df_resultado = df_resultado.sort_values(\"Porcentaje Certificaciones Faltantes\")"
   ]
  },
  {
   "cell_type": "code",
   "execution_count": 102,
   "id": "db90436e-2f50-440d-af28-15e5e5b5b134",
   "metadata": {},
   "outputs": [
    {
     "data": {
      "application/vnd.plotly.v1+json": {
       "config": {
        "plotlyServerURL": "https://plot.ly"
       },
       "data": [
        {
         "alignmentgroup": "True",
         "hovertemplate": "Vertical=%{x}<br>Porcentaje Certificaciones Realizadas=%{y}<extra></extra>",
         "legendgroup": "",
         "marker": {
          "color": "#000001",
          "pattern": {
           "shape": ""
          }
         },
         "name": "",
         "offsetgroup": "",
         "orientation": "v",
         "showlegend": false,
         "textposition": "auto",
         "texttemplate": "%{y}",
         "type": "bar",
         "x": [
          "DATA & AI Architect",
          "DATA & AI Strategy & Operations",
          "DATA & AI Engineering",
          "DATA & AI Scientist",
          "DATA & IA Business",
          "DATA & AI Jerárquico"
         ],
         "xaxis": "x",
         "y": [
          2.6,
          2.08,
          1.34,
          1.24,
          0,
          null
         ],
         "yaxis": "y"
        }
       ],
       "layout": {
        "barmode": "relative",
        "legend": {
         "tracegroupgap": 0
        },
        "template": {
         "data": {
          "candlestick": [
           {
            "decreasing": {
             "line": {
              "color": "#000033"
             }
            },
            "increasing": {
             "line": {
              "color": "#000032"
             }
            },
            "type": "candlestick"
           }
          ],
          "contour": [
           {
            "colorscale": [
             [
              0,
              "#000011"
             ],
             [
              0.1111111111111111,
              "#000012"
             ],
             [
              0.2222222222222222,
              "#000013"
             ],
             [
              0.3333333333333333,
              "#000014"
             ],
             [
              0.4444444444444444,
              "#000015"
             ],
             [
              0.5555555555555556,
              "#000016"
             ],
             [
              0.6666666666666666,
              "#000017"
             ],
             [
              0.7777777777777778,
              "#000018"
             ],
             [
              0.8888888888888888,
              "#000019"
             ],
             [
              1,
              "#000020"
             ]
            ],
            "type": "contour"
           }
          ],
          "contourcarpet": [
           {
            "colorscale": [
             [
              0,
              "#000011"
             ],
             [
              0.1111111111111111,
              "#000012"
             ],
             [
              0.2222222222222222,
              "#000013"
             ],
             [
              0.3333333333333333,
              "#000014"
             ],
             [
              0.4444444444444444,
              "#000015"
             ],
             [
              0.5555555555555556,
              "#000016"
             ],
             [
              0.6666666666666666,
              "#000017"
             ],
             [
              0.7777777777777778,
              "#000018"
             ],
             [
              0.8888888888888888,
              "#000019"
             ],
             [
              1,
              "#000020"
             ]
            ],
            "type": "contourcarpet"
           }
          ],
          "heatmap": [
           {
            "colorscale": [
             [
              0,
              "#000011"
             ],
             [
              0.1111111111111111,
              "#000012"
             ],
             [
              0.2222222222222222,
              "#000013"
             ],
             [
              0.3333333333333333,
              "#000014"
             ],
             [
              0.4444444444444444,
              "#000015"
             ],
             [
              0.5555555555555556,
              "#000016"
             ],
             [
              0.6666666666666666,
              "#000017"
             ],
             [
              0.7777777777777778,
              "#000018"
             ],
             [
              0.8888888888888888,
              "#000019"
             ],
             [
              1,
              "#000020"
             ]
            ],
            "type": "heatmap"
           }
          ],
          "histogram2d": [
           {
            "colorscale": [
             [
              0,
              "#000011"
             ],
             [
              0.1111111111111111,
              "#000012"
             ],
             [
              0.2222222222222222,
              "#000013"
             ],
             [
              0.3333333333333333,
              "#000014"
             ],
             [
              0.4444444444444444,
              "#000015"
             ],
             [
              0.5555555555555556,
              "#000016"
             ],
             [
              0.6666666666666666,
              "#000017"
             ],
             [
              0.7777777777777778,
              "#000018"
             ],
             [
              0.8888888888888888,
              "#000019"
             ],
             [
              1,
              "#000020"
             ]
            ],
            "type": "histogram2d"
           }
          ],
          "icicle": [
           {
            "textfont": {
             "color": "white"
            },
            "type": "icicle"
           }
          ],
          "sankey": [
           {
            "textfont": {
             "color": "#000036"
            },
            "type": "sankey"
           }
          ],
          "scatter": [
           {
            "marker": {
             "line": {
              "width": 0
             }
            },
            "type": "scatter"
           }
          ],
          "table": [
           {
            "cells": {
             "fill": {
              "color": "#000038"
             },
             "font": {
              "color": "#000037"
             },
             "line": {
              "color": "#000039"
             }
            },
            "header": {
             "fill": {
              "color": "#000040"
             },
             "font": {
              "color": "#000036"
             },
             "line": {
              "color": "#000039"
             }
            },
            "type": "table"
           }
          ],
          "waterfall": [
           {
            "connector": {
             "line": {
              "color": "#000036",
              "width": 2
             }
            },
            "decreasing": {
             "marker": {
              "color": "#000033"
             }
            },
            "increasing": {
             "marker": {
              "color": "#000032"
             }
            },
            "totals": {
             "marker": {
              "color": "#000034"
             }
            },
            "type": "waterfall"
           }
          ]
         },
         "layout": {
          "coloraxis": {
           "colorscale": [
            [
             0,
             "#000011"
            ],
            [
             0.1111111111111111,
             "#000012"
            ],
            [
             0.2222222222222222,
             "#000013"
            ],
            [
             0.3333333333333333,
             "#000014"
            ],
            [
             0.4444444444444444,
             "#000015"
            ],
            [
             0.5555555555555556,
             "#000016"
            ],
            [
             0.6666666666666666,
             "#000017"
            ],
            [
             0.7777777777777778,
             "#000018"
            ],
            [
             0.8888888888888888,
             "#000019"
            ],
            [
             1,
             "#000020"
            ]
           ]
          },
          "colorscale": {
           "diverging": [
            [
             0,
             "#000021"
            ],
            [
             0.1,
             "#000022"
            ],
            [
             0.2,
             "#000023"
            ],
            [
             0.3,
             "#000024"
            ],
            [
             0.4,
             "#000025"
            ],
            [
             0.5,
             "#000026"
            ],
            [
             0.6,
             "#000027"
            ],
            [
             0.7,
             "#000028"
            ],
            [
             0.8,
             "#000029"
            ],
            [
             0.9,
             "#000030"
            ],
            [
             1,
             "#000031"
            ]
           ],
           "sequential": [
            [
             0,
             "#000011"
            ],
            [
             0.1111111111111111,
             "#000012"
            ],
            [
             0.2222222222222222,
             "#000013"
            ],
            [
             0.3333333333333333,
             "#000014"
            ],
            [
             0.4444444444444444,
             "#000015"
            ],
            [
             0.5555555555555556,
             "#000016"
            ],
            [
             0.6666666666666666,
             "#000017"
            ],
            [
             0.7777777777777778,
             "#000018"
            ],
            [
             0.8888888888888888,
             "#000019"
            ],
            [
             1,
             "#000020"
            ]
           ],
           "sequentialminus": [
            [
             0,
             "#000011"
            ],
            [
             0.1111111111111111,
             "#000012"
            ],
            [
             0.2222222222222222,
             "#000013"
            ],
            [
             0.3333333333333333,
             "#000014"
            ],
            [
             0.4444444444444444,
             "#000015"
            ],
            [
             0.5555555555555556,
             "#000016"
            ],
            [
             0.6666666666666666,
             "#000017"
            ],
            [
             0.7777777777777778,
             "#000018"
            ],
            [
             0.8888888888888888,
             "#000019"
            ],
            [
             1,
             "#000020"
            ]
           ]
          },
          "colorway": [
           "#000001",
           "#000002",
           "#000003",
           "#000004",
           "#000005",
           "#000006",
           "#000007",
           "#000008",
           "#000009",
           "#000010"
          ]
         }
        },
        "title": {
         "text": "Procentaje de Certificaciones Finalizadas por Vertical"
        },
        "xaxis": {
         "anchor": "y",
         "domain": [
          0,
          1
         ],
         "title": {
          "text": "Vertical"
         }
        },
        "yaxis": {
         "anchor": "x",
         "domain": [
          0,
          1
         ],
         "range": [
          0,
          100
         ],
         "title": {
          "text": "% Certificaciones Finalizadas"
         }
        }
       }
      },
      "image/png": "[encoded data removed]",
      "text/html": [
       "<div>                            <div id=\"bdef2e77-c3cd-4018-9dc6-48f1c0b68e0a\" class=\"plotly-graph-div\" style=\"height:525px; width:100%;\"></div>            <script type=\"text/javascript\">                require([\"plotly\"], function(Plotly) {                    window.PLOTLYENV=window.PLOTLYENV || {};                                    if (document.getElementById(\"bdef2e77-c3cd-4018-9dc6-48f1c0b68e0a\")) {                    Plotly.newPlot(                        \"bdef2e77-c3cd-4018-9dc6-48f1c0b68e0a\",                        [{\"alignmentgroup\":\"True\",\"hovertemplate\":\"Vertical=%{x}\\u003cbr\\u003ePorcentaje Certificaciones Realizadas=%{y}\\u003cextra\\u003e\\u003c\\u002fextra\\u003e\",\"legendgroup\":\"\",\"marker\":{\"color\":\"#000001\",\"pattern\":{\"shape\":\"\"}},\"name\":\"\",\"offsetgroup\":\"\",\"orientation\":\"v\",\"showlegend\":false,\"textposition\":\"auto\",\"texttemplate\":\"%{y}\",\"x\":[\"DATA & AI Architect\",\"DATA & AI Strategy & Operations\",\"DATA & AI Engineering\",\"DATA & AI Scientist\",\"DATA & IA Business\",\"DATA & AI Jer\\u00e1rquico\"],\"xaxis\":\"x\",\"y\":[2.6,2.08,1.34,1.24,0.0,null],\"yaxis\":\"y\",\"type\":\"bar\"}],                        {\"template\":{\"data\":{\"candlestick\":[{\"decreasing\":{\"line\":{\"color\":\"#000033\"}},\"increasing\":{\"line\":{\"color\":\"#000032\"}},\"type\":\"candlestick\"}],\"contourcarpet\":[{\"colorscale\":[[0.0,\"#000011\"],[0.1111111111111111,\"#000012\"],[0.2222222222222222,\"#000013\"],[0.3333333333333333,\"#000014\"],[0.4444444444444444,\"#000015\"],[0.5555555555555556,\"#000016\"],[0.6666666666666666,\"#000017\"],[0.7777777777777778,\"#000018\"],[0.8888888888888888,\"#000019\"],[1.0,\"#000020\"]],\"type\":\"contourcarpet\"}],\"contour\":[{\"colorscale\":[[0.0,\"#000011\"],[0.1111111111111111,\"#000012\"],[0.2222222222222222,\"#000013\"],[0.3333333333333333,\"#000014\"],[0.4444444444444444,\"#000015\"],[0.5555555555555556,\"#000016\"],[0.6666666666666666,\"#000017\"],[0.7777777777777778,\"#000018\"],[0.8888888888888888,\"#000019\"],[1.0,\"#000020\"]],\"type\":\"contour\"}],\"heatmap\":[{\"colorscale\":[[0.0,\"#000011\"],[0.1111111111111111,\"#000012\"],[0.2222222222222222,\"#000013\"],[0.3333333333333333,\"#000014\"],[0.4444444444444444,\"#000015\"],[0.5555555555555556,\"#000016\"],[0.6666666666666666,\"#000017\"],[0.7777777777777778,\"#000018\"],[0.8888888888888888,\"#000019\"],[1.0,\"#000020\"]],\"type\":\"heatmap\"}],\"histogram2d\":[{\"colorscale\":[[0.0,\"#000011\"],[0.1111111111111111,\"#000012\"],[0.2222222222222222,\"#000013\"],[0.3333333333333333,\"#000014\"],[0.4444444444444444,\"#000015\"],[0.5555555555555556,\"#000016\"],[0.6666666666666666,\"#000017\"],[0.7777777777777778,\"#000018\"],[0.8888888888888888,\"#000019\"],[1.0,\"#000020\"]],\"type\":\"histogram2d\"}],\"icicle\":[{\"textfont\":{\"color\":\"white\"},\"type\":\"icicle\"}],\"sankey\":[{\"textfont\":{\"color\":\"#000036\"},\"type\":\"sankey\"}],\"scatter\":[{\"marker\":{\"line\":{\"width\":0}},\"type\":\"scatter\"}],\"table\":[{\"cells\":{\"fill\":{\"color\":\"#000038\"},\"font\":{\"color\":\"#000037\"},\"line\":{\"color\":\"#000039\"}},\"header\":{\"fill\":{\"color\":\"#000040\"},\"font\":{\"color\":\"#000036\"},\"line\":{\"color\":\"#000039\"}},\"type\":\"table\"}],\"waterfall\":[{\"connector\":{\"line\":{\"color\":\"#000036\",\"width\":2}},\"decreasing\":{\"marker\":{\"color\":\"#000033\"}},\"increasing\":{\"marker\":{\"color\":\"#000032\"}},\"totals\":{\"marker\":{\"color\":\"#000034\"}},\"type\":\"waterfall\"}]},\"layout\":{\"coloraxis\":{\"colorscale\":[[0.0,\"#000011\"],[0.1111111111111111,\"#000012\"],[0.2222222222222222,\"#000013\"],[0.3333333333333333,\"#000014\"],[0.4444444444444444,\"#000015\"],[0.5555555555555556,\"#000016\"],[0.6666666666666666,\"#000017\"],[0.7777777777777778,\"#000018\"],[0.8888888888888888,\"#000019\"],[1.0,\"#000020\"]]},\"colorscale\":{\"diverging\":[[0.0,\"#000021\"],[0.1,\"#000022\"],[0.2,\"#000023\"],[0.3,\"#000024\"],[0.4,\"#000025\"],[0.5,\"#000026\"],[0.6,\"#000027\"],[0.7,\"#000028\"],[0.8,\"#000029\"],[0.9,\"#000030\"],[1.0,\"#000031\"]],\"sequential\":[[0.0,\"#000011\"],[0.1111111111111111,\"#000012\"],[0.2222222222222222,\"#000013\"],[0.3333333333333333,\"#000014\"],[0.4444444444444444,\"#000015\"],[0.5555555555555556,\"#000016\"],[0.6666666666666666,\"#000017\"],[0.7777777777777778,\"#000018\"],[0.8888888888888888,\"#000019\"],[1.0,\"#000020\"]],\"sequentialminus\":[[0.0,\"#000011\"],[0.1111111111111111,\"#000012\"],[0.2222222222222222,\"#000013\"],[0.3333333333333333,\"#000014\"],[0.4444444444444444,\"#000015\"],[0.5555555555555556,\"#000016\"],[0.6666666666666666,\"#000017\"],[0.7777777777777778,\"#000018\"],[0.8888888888888888,\"#000019\"],[1.0,\"#000020\"]]},\"colorway\":[\"#000001\",\"#000002\",\"#000003\",\"#000004\",\"#000005\",\"#000006\",\"#000007\",\"#000008\",\"#000009\",\"#000010\"]}},\"xaxis\":{\"anchor\":\"y\",\"domain\":[0.0,1.0],\"title\":{\"text\":\"Vertical\"}},\"yaxis\":{\"anchor\":\"x\",\"domain\":[0.0,1.0],\"title\":{\"text\":\"% Certificaciones Finalizadas\"},\"range\":[0,100]},\"legend\":{\"tracegroupgap\":0},\"title\":{\"text\":\"Procentaje de Certificaciones Finalizadas por Vertical\"},\"barmode\":\"relative\"},                        {\"responsive\": true}                    ).then(function(){\n",
       "                            \n",
       "var gd = document.getElementById('bdef2e77-c3cd-4018-9dc6-48f1c0b68e0a');\n",
       "var x = new MutationObserver(function (mutations, observer) {{\n",
       "        var display = window.getComputedStyle(gd).display;\n",
       "        if (!display || display === 'none') {{\n",
       "            console.log([gd, 'removed!']);\n",
       "            Plotly.purge(gd);\n",
       "            observer.disconnect();\n",
       "        }}\n",
       "}});\n",
       "\n",
       "// Listen for the removal of the full notebook cells\n",
       "var notebookContainer = gd.closest('#notebook-container');\n",
       "if (notebookContainer) {{\n",
       "    x.observe(notebookContainer, {childList: true});\n",
       "}}\n",
       "\n",
       "// Listen for the clearing of the current output cell\n",
       "var outputEl = gd.closest('.output');\n",
       "if (outputEl) {{\n",
       "    x.observe(outputEl, {childList: true});\n",
       "}}\n",
       "\n",
       "                        })                };                });            </script>        </div>"
      ]
     },
     "metadata": {},
     "output_type": "display_data"
    }
   ],
   "source": [
    "fig = px.bar(data_frame = df_resultado,\n",
    "             x          = \"Vertical\",\n",
    "             y          = \"Porcentaje Certificaciones Realizadas\",\n",
    "             range_y    = [0, 100],\n",
    "             text_auto  = True,\n",
    "             title      = \"Procentaje de Certificaciones Finalizadas por Vertical\")\n",
    "\n",
    "fig.update_layout(xaxis = dict(title = dict(text = \"Vertical\")),\n",
    "                  yaxis = dict(title = dict(text = \"% Certificaciones Finalizadas\")))\n",
    "\n",
    "fig.show()"
   ]
  },
  {
   "cell_type": "markdown",
   "id": "42ceb7e9-062e-45e8-a11c-98ba0c4d40a0",
   "metadata": {},
   "source": [
    "# Segunda Gráfica"
   ]
  },
  {
   "cell_type": "code",
   "execution_count": 103,
   "id": "e0001052-fca9-4a9f-bb10-ce84e2491ed9",
   "metadata": {},
   "outputs": [
    {
     "name": "stderr",
     "output_type": "stream",
     "text": [
      "C:\\Users\\danie\\AppData\\Local\\Temp\\ipykernel_19492\\667183489.py:31: FutureWarning:\n",
      "\n",
      "The default of observed=False is deprecated and will be changed to True in a future version of pandas. Pass observed=False to retain current behavior or observed=True to adopt the future default and silence this warning.\n",
      "\n"
     ]
    }
   ],
   "source": [
    "df = pd.merge(left = df_dicts[\"Trabajadores\"].explode(\"Nivel\").drop(\"id\", axis = 1),\n",
    "              right = df_dicts[\"Roles\"][[\"id\", \"Nivel de carrera MAPFRE\"]],\n",
    "              left_on = \"Nivel\",\n",
    "              right_on = \"id\")\n",
    "\n",
    "df = df[[\"Certificaciones\", \"Certificaciones (from Rol que le corresponde)\", \"Certificaciones faltantes para el rol (INFORME)\", \"Nivel de carrera MAPFRE\"]]\n",
    "\n",
    "puestos_orden = [\"TÉCNICO AVANZADO\",\n",
    "                 \"TÉCNICO SENIOR\",\n",
    "                 \"ESPECIALISTA\",\n",
    "                 \"EXPERTO\",\n",
    "                 \"CONSULTOR\",\n",
    "                 \"RESPONSABLE\",\n",
    "                 \"JEFE\",\n",
    "                 \"SUBDIRECTOR\",\n",
    "                 \"DIRECTOR\"]\n",
    "\n",
    "df[\"Nivel de carrera MAPFRE\"] = pd.Categorical(df[\"Nivel de carrera MAPFRE\"], categories = puestos_orden, ordered = True)\n",
    "df = df.sort_values(\"Nivel de carrera MAPFRE\")\n",
    "\n",
    "df = df.reset_index(drop = True)\n",
    "\n",
    "df[\"Certificaciones Totales\"] = df[\"Certificaciones\"].apply(lambda x : len(x) if type(x) == list else 0)\n",
    "\n",
    "df[\"Certificaciones Totales por Rol\"] = df[\"Certificaciones (from Rol que le corresponde)\"].apply(lambda x : len(x) if type(x) == list else 0)\n",
    "\n",
    "df[\"Certificaciones Faltantes\"] = df[\"Certificaciones faltantes para el rol (INFORME)\"].apply(lambda x : len(x) if type(x) == list else 0)\n",
    "\n",
    "df[\"Porcentaje Certificaciones Faltantes\"] = np.round(df[\"Certificaciones Faltantes\"] / df[\"Certificaciones Totales por Rol\"] * 100, 2)\n",
    "\n",
    "df_resultado = df.groupby(by = [\"Nivel de carrera MAPFRE\"], as_index = False).agg({\"Porcentaje Certificaciones Faltantes\" : \"mean\"})\n",
    "\n",
    "df_resultado[\"Porcentaje Certificaciones Faltantes\"] = df_resultado[\"Porcentaje Certificaciones Faltantes\"].clip(lower = 0, upper = 100)\n",
    "df_resultado[\"Porcentaje Certificaciones Realizadas\"] = 100 - df_resultado[\"Porcentaje Certificaciones Faltantes\"].clip(lower = 0, upper = 100)\n",
    "\n",
    "df_resultado[[\"Porcentaje Certificaciones Faltantes\", \"Porcentaje Certificaciones Realizadas\"]] = df_resultado[[\"Porcentaje Certificaciones Faltantes\", \"Porcentaje Certificaciones Realizadas\"]].round(decimals = 2)\n",
    "\n",
    "# df_resultado = df_resultado.sort_values(\"Porcentaje Certificaciones Faltantes\")"
   ]
  },
  {
   "cell_type": "code",
   "execution_count": 105,
   "id": "2ec10cbc-32c2-4fe8-9324-a981424e6036",
   "metadata": {},
   "outputs": [
    {
     "data": {
      "application/vnd.plotly.v1+json": {
       "config": {
        "plotlyServerURL": "https://plot.ly"
       },
       "data": [
        {
         "alignmentgroup": "True",
         "hovertemplate": "Nivel de carrera MAPFRE=%{x}<br>Porcentaje Certificaciones Realizadas=%{y}<extra></extra>",
         "legendgroup": "",
         "marker": {
          "color": "#000001",
          "pattern": {
           "shape": ""
          }
         },
         "name": "",
         "offsetgroup": "",
         "orientation": "v",
         "showlegend": false,
         "textposition": "auto",
         "texttemplate": "%{y}",
         "type": "bar",
         "x": [
          "TÉCNICO AVANZADO",
          "TÉCNICO SENIOR",
          "ESPECIALISTA",
          "EXPERTO",
          "CONSULTOR",
          "RESPONSABLE",
          "JEFE",
          "SUBDIRECTOR",
          "DIRECTOR"
         ],
         "xaxis": "x",
         "y": [
          0,
          3.16,
          0,
          0,
          0,
          null,
          null,
          null,
          null
         ],
         "yaxis": "y"
        }
       ],
       "layout": {
        "barmode": "relative",
        "legend": {
         "tracegroupgap": 0
        },
        "template": {
         "data": {
          "candlestick": [
           {
            "decreasing": {
             "line": {
              "color": "#000033"
             }
            },
            "increasing": {
             "line": {
              "color": "#000032"
             }
            },
            "type": "candlestick"
           }
          ],
          "contour": [
           {
            "colorscale": [
             [
              0,
              "#000011"
             ],
             [
              0.1111111111111111,
              "#000012"
             ],
             [
              0.2222222222222222,
              "#000013"
             ],
             [
              0.3333333333333333,
              "#000014"
             ],
             [
              0.4444444444444444,
              "#000015"
             ],
             [
              0.5555555555555556,
              "#000016"
             ],
             [
              0.6666666666666666,
              "#000017"
             ],
             [
              0.7777777777777778,
              "#000018"
             ],
             [
              0.8888888888888888,
              "#000019"
             ],
             [
              1,
              "#000020"
             ]
            ],
            "type": "contour"
           }
          ],
          "contourcarpet": [
           {
            "colorscale": [
             [
              0,
              "#000011"
             ],
             [
              0.1111111111111111,
              "#000012"
             ],
             [
              0.2222222222222222,
              "#000013"
             ],
             [
              0.3333333333333333,
              "#000014"
             ],
             [
              0.4444444444444444,
              "#000015"
             ],
             [
              0.5555555555555556,
              "#000016"
             ],
             [
              0.6666666666666666,
              "#000017"
             ],
             [
              0.7777777777777778,
              "#000018"
             ],
             [
              0.8888888888888888,
              "#000019"
             ],
             [
              1,
              "#000020"
             ]
            ],
            "type": "contourcarpet"
           }
          ],
          "heatmap": [
           {
            "colorscale": [
             [
              0,
              "#000011"
             ],
             [
              0.1111111111111111,
              "#000012"
             ],
             [
              0.2222222222222222,
              "#000013"
             ],
             [
              0.3333333333333333,
              "#000014"
             ],
             [
              0.4444444444444444,
              "#000015"
             ],
             [
              0.5555555555555556,
              "#000016"
             ],
             [
              0.6666666666666666,
              "#000017"
             ],
             [
              0.7777777777777778,
              "#000018"
             ],
             [
              0.8888888888888888,
              "#000019"
             ],
             [
              1,
              "#000020"
             ]
            ],
            "type": "heatmap"
           }
          ],
          "histogram2d": [
           {
            "colorscale": [
             [
              0,
              "#000011"
             ],
             [
              0.1111111111111111,
              "#000012"
             ],
             [
              0.2222222222222222,
              "#000013"
             ],
             [
              0.3333333333333333,
              "#000014"
             ],
             [
              0.4444444444444444,
              "#000015"
             ],
             [
              0.5555555555555556,
              "#000016"
             ],
             [
              0.6666666666666666,
              "#000017"
             ],
             [
              0.7777777777777778,
              "#000018"
             ],
             [
              0.8888888888888888,
              "#000019"
             ],
             [
              1,
              "#000020"
             ]
            ],
            "type": "histogram2d"
           }
          ],
          "icicle": [
           {
            "textfont": {
             "color": "white"
            },
            "type": "icicle"
           }
          ],
          "sankey": [
           {
            "textfont": {
             "color": "#000036"
            },
            "type": "sankey"
           }
          ],
          "scatter": [
           {
            "marker": {
             "line": {
              "width": 0
             }
            },
            "type": "scatter"
           }
          ],
          "table": [
           {
            "cells": {
             "fill": {
              "color": "#000038"
             },
             "font": {
              "color": "#000037"
             },
             "line": {
              "color": "#000039"
             }
            },
            "header": {
             "fill": {
              "color": "#000040"
             },
             "font": {
              "color": "#000036"
             },
             "line": {
              "color": "#000039"
             }
            },
            "type": "table"
           }
          ],
          "waterfall": [
           {
            "connector": {
             "line": {
              "color": "#000036",
              "width": 2
             }
            },
            "decreasing": {
             "marker": {
              "color": "#000033"
             }
            },
            "increasing": {
             "marker": {
              "color": "#000032"
             }
            },
            "totals": {
             "marker": {
              "color": "#000034"
             }
            },
            "type": "waterfall"
           }
          ]
         },
         "layout": {
          "coloraxis": {
           "colorscale": [
            [
             0,
             "#000011"
            ],
            [
             0.1111111111111111,
             "#000012"
            ],
            [
             0.2222222222222222,
             "#000013"
            ],
            [
             0.3333333333333333,
             "#000014"
            ],
            [
             0.4444444444444444,
             "#000015"
            ],
            [
             0.5555555555555556,
             "#000016"
            ],
            [
             0.6666666666666666,
             "#000017"
            ],
            [
             0.7777777777777778,
             "#000018"
            ],
            [
             0.8888888888888888,
             "#000019"
            ],
            [
             1,
             "#000020"
            ]
           ]
          },
          "colorscale": {
           "diverging": [
            [
             0,
             "#000021"
            ],
            [
             0.1,
             "#000022"
            ],
            [
             0.2,
             "#000023"
            ],
            [
             0.3,
             "#000024"
            ],
            [
             0.4,
             "#000025"
            ],
            [
             0.5,
             "#000026"
            ],
            [
             0.6,
             "#000027"
            ],
            [
             0.7,
             "#000028"
            ],
            [
             0.8,
             "#000029"
            ],
            [
             0.9,
             "#000030"
            ],
            [
             1,
             "#000031"
            ]
           ],
           "sequential": [
            [
             0,
             "#000011"
            ],
            [
             0.1111111111111111,
             "#000012"
            ],
            [
             0.2222222222222222,
             "#000013"
            ],
            [
             0.3333333333333333,
             "#000014"
            ],
            [
             0.4444444444444444,
             "#000015"
            ],
            [
             0.5555555555555556,
             "#000016"
            ],
            [
             0.6666666666666666,
             "#000017"
            ],
            [
             0.7777777777777778,
             "#000018"
            ],
            [
             0.8888888888888888,
             "#000019"
            ],
            [
             1,
             "#000020"
            ]
           ],
           "sequentialminus": [
            [
             0,
             "#000011"
            ],
            [
             0.1111111111111111,
             "#000012"
            ],
            [
             0.2222222222222222,
             "#000013"
            ],
            [
             0.3333333333333333,
             "#000014"
            ],
            [
             0.4444444444444444,
             "#000015"
            ],
            [
             0.5555555555555556,
             "#000016"
            ],
            [
             0.6666666666666666,
             "#000017"
            ],
            [
             0.7777777777777778,
             "#000018"
            ],
            [
             0.8888888888888888,
             "#000019"
            ],
            [
             1,
             "#000020"
            ]
           ]
          },
          "colorway": [
           "#000001",
           "#000002",
           "#000003",
           "#000004",
           "#000005",
           "#000006",
           "#000007",
           "#000008",
           "#000009",
           "#000010"
          ]
         }
        },
        "title": {
         "text": "Procentaje de Certificaciones Finalizadas por Nivel"
        },
        "xaxis": {
         "anchor": "y",
         "domain": [
          0,
          1
         ],
         "title": {
          "text": "Nivel"
         }
        },
        "yaxis": {
         "anchor": "x",
         "domain": [
          0,
          1
         ],
         "range": [
          0,
          100
         ],
         "title": {
          "text": "% Certificaciones Finalizadas"
         }
        }
       }
      },
      "image/png": "[encoded data removed]",
      "text/html": [
       "<div>                            <div id=\"30db886c-328e-41e3-a4bd-3995b73b32bd\" class=\"plotly-graph-div\" style=\"height:525px; width:100%;\"></div>            <script type=\"text/javascript\">                require([\"plotly\"], function(Plotly) {                    window.PLOTLYENV=window.PLOTLYENV || {};                                    if (document.getElementById(\"30db886c-328e-41e3-a4bd-3995b73b32bd\")) {                    Plotly.newPlot(                        \"30db886c-328e-41e3-a4bd-3995b73b32bd\",                        [{\"alignmentgroup\":\"True\",\"hovertemplate\":\"Nivel de carrera MAPFRE=%{x}\\u003cbr\\u003ePorcentaje Certificaciones Realizadas=%{y}\\u003cextra\\u003e\\u003c\\u002fextra\\u003e\",\"legendgroup\":\"\",\"marker\":{\"color\":\"#000001\",\"pattern\":{\"shape\":\"\"}},\"name\":\"\",\"offsetgroup\":\"\",\"orientation\":\"v\",\"showlegend\":false,\"textposition\":\"auto\",\"texttemplate\":\"%{y}\",\"x\":[\"T\\u00c9CNICO AVANZADO\",\"T\\u00c9CNICO SENIOR\",\"ESPECIALISTA\",\"EXPERTO\",\"CONSULTOR\",\"RESPONSABLE\",\"JEFE\",\"SUBDIRECTOR\",\"DIRECTOR\"],\"xaxis\":\"x\",\"y\":[0.0,3.16,0.0,0.0,0.0,null,null,null,null],\"yaxis\":\"y\",\"type\":\"bar\"}],                        {\"template\":{\"data\":{\"candlestick\":[{\"decreasing\":{\"line\":{\"color\":\"#000033\"}},\"increasing\":{\"line\":{\"color\":\"#000032\"}},\"type\":\"candlestick\"}],\"contourcarpet\":[{\"colorscale\":[[0.0,\"#000011\"],[0.1111111111111111,\"#000012\"],[0.2222222222222222,\"#000013\"],[0.3333333333333333,\"#000014\"],[0.4444444444444444,\"#000015\"],[0.5555555555555556,\"#000016\"],[0.6666666666666666,\"#000017\"],[0.7777777777777778,\"#000018\"],[0.8888888888888888,\"#000019\"],[1.0,\"#000020\"]],\"type\":\"contourcarpet\"}],\"contour\":[{\"colorscale\":[[0.0,\"#000011\"],[0.1111111111111111,\"#000012\"],[0.2222222222222222,\"#000013\"],[0.3333333333333333,\"#000014\"],[0.4444444444444444,\"#000015\"],[0.5555555555555556,\"#000016\"],[0.6666666666666666,\"#000017\"],[0.7777777777777778,\"#000018\"],[0.8888888888888888,\"#000019\"],[1.0,\"#000020\"]],\"type\":\"contour\"}],\"heatmap\":[{\"colorscale\":[[0.0,\"#000011\"],[0.1111111111111111,\"#000012\"],[0.2222222222222222,\"#000013\"],[0.3333333333333333,\"#000014\"],[0.4444444444444444,\"#000015\"],[0.5555555555555556,\"#000016\"],[0.6666666666666666,\"#000017\"],[0.7777777777777778,\"#000018\"],[0.8888888888888888,\"#000019\"],[1.0,\"#000020\"]],\"type\":\"heatmap\"}],\"histogram2d\":[{\"colorscale\":[[0.0,\"#000011\"],[0.1111111111111111,\"#000012\"],[0.2222222222222222,\"#000013\"],[0.3333333333333333,\"#000014\"],[0.4444444444444444,\"#000015\"],[0.5555555555555556,\"#000016\"],[0.6666666666666666,\"#000017\"],[0.7777777777777778,\"#000018\"],[0.8888888888888888,\"#000019\"],[1.0,\"#000020\"]],\"type\":\"histogram2d\"}],\"icicle\":[{\"textfont\":{\"color\":\"white\"},\"type\":\"icicle\"}],\"sankey\":[{\"textfont\":{\"color\":\"#000036\"},\"type\":\"sankey\"}],\"scatter\":[{\"marker\":{\"line\":{\"width\":0}},\"type\":\"scatter\"}],\"table\":[{\"cells\":{\"fill\":{\"color\":\"#000038\"},\"font\":{\"color\":\"#000037\"},\"line\":{\"color\":\"#000039\"}},\"header\":{\"fill\":{\"color\":\"#000040\"},\"font\":{\"color\":\"#000036\"},\"line\":{\"color\":\"#000039\"}},\"type\":\"table\"}],\"waterfall\":[{\"connector\":{\"line\":{\"color\":\"#000036\",\"width\":2}},\"decreasing\":{\"marker\":{\"color\":\"#000033\"}},\"increasing\":{\"marker\":{\"color\":\"#000032\"}},\"totals\":{\"marker\":{\"color\":\"#000034\"}},\"type\":\"waterfall\"}]},\"layout\":{\"coloraxis\":{\"colorscale\":[[0.0,\"#000011\"],[0.1111111111111111,\"#000012\"],[0.2222222222222222,\"#000013\"],[0.3333333333333333,\"#000014\"],[0.4444444444444444,\"#000015\"],[0.5555555555555556,\"#000016\"],[0.6666666666666666,\"#000017\"],[0.7777777777777778,\"#000018\"],[0.8888888888888888,\"#000019\"],[1.0,\"#000020\"]]},\"colorscale\":{\"diverging\":[[0.0,\"#000021\"],[0.1,\"#000022\"],[0.2,\"#000023\"],[0.3,\"#000024\"],[0.4,\"#000025\"],[0.5,\"#000026\"],[0.6,\"#000027\"],[0.7,\"#000028\"],[0.8,\"#000029\"],[0.9,\"#000030\"],[1.0,\"#000031\"]],\"sequential\":[[0.0,\"#000011\"],[0.1111111111111111,\"#000012\"],[0.2222222222222222,\"#000013\"],[0.3333333333333333,\"#000014\"],[0.4444444444444444,\"#000015\"],[0.5555555555555556,\"#000016\"],[0.6666666666666666,\"#000017\"],[0.7777777777777778,\"#000018\"],[0.8888888888888888,\"#000019\"],[1.0,\"#000020\"]],\"sequentialminus\":[[0.0,\"#000011\"],[0.1111111111111111,\"#000012\"],[0.2222222222222222,\"#000013\"],[0.3333333333333333,\"#000014\"],[0.4444444444444444,\"#000015\"],[0.5555555555555556,\"#000016\"],[0.6666666666666666,\"#000017\"],[0.7777777777777778,\"#000018\"],[0.8888888888888888,\"#000019\"],[1.0,\"#000020\"]]},\"colorway\":[\"#000001\",\"#000002\",\"#000003\",\"#000004\",\"#000005\",\"#000006\",\"#000007\",\"#000008\",\"#000009\",\"#000010\"]}},\"xaxis\":{\"anchor\":\"y\",\"domain\":[0.0,1.0],\"title\":{\"text\":\"Nivel\"}},\"yaxis\":{\"anchor\":\"x\",\"domain\":[0.0,1.0],\"title\":{\"text\":\"% Certificaciones Finalizadas\"},\"range\":[0,100]},\"legend\":{\"tracegroupgap\":0},\"title\":{\"text\":\"Procentaje de Certificaciones Finalizadas por Nivel\"},\"barmode\":\"relative\"},                        {\"responsive\": true}                    ).then(function(){\n",
       "                            \n",
       "var gd = document.getElementById('30db886c-328e-41e3-a4bd-3995b73b32bd');\n",
       "var x = new MutationObserver(function (mutations, observer) {{\n",
       "        var display = window.getComputedStyle(gd).display;\n",
       "        if (!display || display === 'none') {{\n",
       "            console.log([gd, 'removed!']);\n",
       "            Plotly.purge(gd);\n",
       "            observer.disconnect();\n",
       "        }}\n",
       "}});\n",
       "\n",
       "// Listen for the removal of the full notebook cells\n",
       "var notebookContainer = gd.closest('#notebook-container');\n",
       "if (notebookContainer) {{\n",
       "    x.observe(notebookContainer, {childList: true});\n",
       "}}\n",
       "\n",
       "// Listen for the clearing of the current output cell\n",
       "var outputEl = gd.closest('.output');\n",
       "if (outputEl) {{\n",
       "    x.observe(outputEl, {childList: true});\n",
       "}}\n",
       "\n",
       "                        })                };                });            </script>        </div>"
      ]
     },
     "metadata": {},
     "output_type": "display_data"
    }
   ],
   "source": [
    "fig = px.bar(data_frame = df_resultado,\n",
    "             x          = \"Nivel de carrera MAPFRE\",\n",
    "             y          = \"Porcentaje Certificaciones Realizadas\",\n",
    "             range_y    = [0, 100],\n",
    "             text_auto  = True,\n",
    "             title      = \"Procentaje de Certificaciones Finalizadas por Nivel\")\n",
    "\n",
    "fig.update_layout(xaxis = {\"title\" : {\"text\" : \"Nivel\"}},\n",
    "                  yaxis = {\"title\" : {\"text\" : \"% Certificaciones Finalizadas\"}})\n",
    "\n",
    "fig.show()"
   ]
  },
  {
   "cell_type": "markdown",
   "id": "80ccea78-a4bc-45bd-8bd3-ccac6e1effc9",
   "metadata": {},
   "source": [
    "# Tercera Gráfica"
   ]
  },
  {
   "cell_type": "code",
   "execution_count": null,
   "id": "fb9fe5d7-a7c4-47b8-a225-958a57c4424b",
   "metadata": {},
   "outputs": [],
   "source": []
  },
  {
   "cell_type": "code",
   "execution_count": null,
   "id": "65f2cc0c-a641-4260-9b5d-743e1f799ce6",
   "metadata": {},
   "outputs": [],
   "source": []
  },
  {
   "cell_type": "code",
   "execution_count": null,
   "id": "73d9aeec-4fd5-45e5-a799-1232c9de1d9d",
   "metadata": {},
   "outputs": [],
   "source": []
  },
  {
   "cell_type": "code",
   "execution_count": null,
   "id": "08f5fb1a-f677-457f-9ae8-26500a1508aa",
   "metadata": {},
   "outputs": [],
   "source": []
  },
  {
   "cell_type": "code",
   "execution_count": null,
   "id": "a63bb39b-b5de-4f33-975e-373dedaaaae3",
   "metadata": {},
   "outputs": [],
   "source": []
  },
  {
   "cell_type": "code",
   "execution_count": null,
   "id": "4ae87373-2891-4fdc-be8e-4c38403b2fc0",
   "metadata": {},
   "outputs": [],
   "source": []
  }
 ],
 "metadata": {
  "kernelspec": {
   "display_name": "Python 3 (ipykernel)",
   "language": "python",
   "name": "python3"
  },
  "language_info": {
   "codemirror_mode": {
    "name": "ipython",
    "version": 3
   },
   "file_extension": ".py",
   "mimetype": "text/x-python",
   "name": "python",
   "nbconvert_exporter": "python",
   "pygments_lexer": "ipython3",
   "version": "3.13.5"
  }
 },
 "nbformat": 4,
 "nbformat_minor": 5
}
