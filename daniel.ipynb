{
 "cells": [
  {
   "cell_type": "code",
   "execution_count": 1,
   "id": "429355a9-cdee-4934-89ce-0b99674d3e12",
   "metadata": {},
   "outputs": [],
   "source": [
    "import streamlit as st\n",
    "from utils import filtrar\n",
    "from data import load_data\n",
    "import pandas as pd\n",
    "import numpy as np\n",
    "import requests\n",
    "import soft\n",
    "import tech\n",
    "import tech_\n",
    "from pprint import pprint\n",
    "import plotly.express as px\n",
    "\n",
    "\n",
    "tables_id = {\"Trabajadores\"               : \"tblNBHV9KDGDQNs8y\",\n",
    "             \"Roles\"                      : \"tblk2itGEWE7ePo73\",\n",
    "             \"Tecnologías\"                : \"tblXhF1lZUBKiNixP\",\n",
    "             \"Competencias técnicas\"      : \"tblLUDGmhm7otZhGp\",\n",
    "             \"Competencias blandas\"       : \"tblvuUUjjnUvdS1z1\",\n",
    "             \"Certificaciones\"            : \"tblUforpTYin3pEZs\",\n",
    "             \"Formulario certificaciones\" : \"tblERjkIA64JGPgNW\",\n",
    "             \"Pruebas técnicas\"           : \"tblGy8pLPexkcpJcq\",\n",
    "             \"Verticales\"                 : \"tblDZzmvFmWfMbmx5\",\n",
    "             \"Assessment MAPFRE\"          : \"tbl7EYNl618IhKAse\",\n",
    "             \"Data blandas\"               : \"tblImXJh9fSnqrW8B\",\n",
    "             \"Data Competencias técnicas\" : \"tbl1kSY13iQhxi1O3\",\n",
    "             \"Data Tecnologías\"           : \"tblca2y3nQTUPrbfx\"}\n",
    "\n",
    "def extract_airtable(app: str, tbl: str, token: str) -> pd.DataFrame:\n",
    "    url = f\"https://api.airtable.com/v0/{app}/{tbl}\"\n",
    "\n",
    "    response = requests.get(url, headers={\"Authorization\" : f\"Bearer {\"patAavpcVDkODOexK.4077431682eb04c6617a62752b02d81efc3031128fc8294b2328d4e18d5233bb\"}\"})\n",
    "    data = response.json()\n",
    "    records = data[\"records\"]\n",
    "\n",
    "    while \"offset\" in data.keys():\n",
    "        r = requests.get(url, headers={\"Authorization\" : f\"Bearer {token}\"}, params={\"offset\" : data[\"offset\"]})\n",
    "        data = r.json()\n",
    "        records.extend(data[\"records\"])\n",
    "\n",
    "    return pd.json_normalize(records)\n",
    "\n",
    "def extract_all_airtable(tables_id: dict) -> dict:\n",
    "\n",
    "    AIRTABLE_API_KEY = \"patAavpcVDkODOexK.4077431682eb04c6617a62752b02d81efc3031128fc8294b2328d4e18d5233bb\"\n",
    "\n",
    "    app_id = \"appACxf1z2b7fsR44\"\n",
    "\n",
    "    df_dicts = dict()\n",
    "    for k, v in tables_id.items():\n",
    "        \n",
    "        df_bucle = extract_airtable(app = app_id, tbl = v, token = AIRTABLE_API_KEY).drop([\"createdTime\"], axis = 1)\n",
    "\n",
    "        df_bucle.columns = [col.replace(\"fields.\", \"\") for col in df_bucle.columns]\n",
    "\n",
    "        df_dicts[k] = df_bucle\n",
    "    return df_dicts\n",
    "\n",
    "df_dicts = extract_all_airtable(tables_id = tables_id)"
   ]
  },
  {
   "cell_type": "markdown",
   "id": "f0966af2-5705-4356-9def-3faea6773453",
   "metadata": {},
   "source": [
    "# Primera Gráfica"
   ]
  },
  {
   "cell_type": "code",
   "execution_count": null,
   "id": "cbebbd2f-0d1e-464a-b9b1-93d7647a0517",
   "metadata": {},
   "outputs": [],
   "source": [
    "def primera_grafica(df_dicts):\n",
    "    # Relación \"Certificaciones (from Rol que le corresponde)\" vs \"\"Certificaciones faltantes para el rol (INFORME)\"\"\n",
    "    \n",
    "    df = df_dicts[\"Trabajadores\"][[\"Nombre\", \"Certificaciones\", \"Certificaciones (from Rol que le corresponde)\", \"Certificaciones faltantes para el rol (INFORME)\", \"Nueva vertical\"]]\n",
    "    \n",
    "    for col in df.columns:\n",
    "    \n",
    "        df[col] = df[col].apply(lambda x : list(set(x)) if type(x) == list else x)\n",
    "    \n",
    "    df[\"Certificaciones Totales\"] = df[\"Certificaciones\"].apply(lambda x : len(x) if type(x) == list else 0)\n",
    "    \n",
    "    df[\"Certificaciones Totales por Rol\"] = df[\"Certificaciones (from Rol que le corresponde)\"].apply(lambda x : len(x) if type(x) == list else 0)\n",
    "    \n",
    "    df[\"Certificaciones Faltantes\"] = df[\"Certificaciones faltantes para el rol (INFORME)\"].apply(lambda x : len(x) if type(x) == list else 0)\n",
    "    \n",
    "    df[\"Porcentaje Certificaciones Faltantes\"] = np.round(df[\"Certificaciones Faltantes\"] / df[\"Certificaciones Totales por Rol\"] * 100, 2)\n",
    "    \n",
    "    df = pd.merge(left = df.explode(\"Nueva vertical\"), right = df_dicts[\"Verticales\"][[\"id\", \"Vertical\"]], left_on = \"Nueva vertical\", right_on = \"id\", how = \"left\")\n",
    "    \n",
    "    df_resultado = df.groupby(by = [\"Vertical\"], as_index = False).agg({\"Porcentaje Certificaciones Faltantes\" : \"mean\"})\n",
    "    \n",
    "    df_resultado[\"Porcentaje Certificaciones Faltantes\"] = df_resultado[\"Porcentaje Certificaciones Faltantes\"].clip(lower = 0, upper = 100)\n",
    "    df_resultado[\"Porcentaje Certificaciones Realizadas\"] = 100 - df_resultado[\"Porcentaje Certificaciones Faltantes\"].clip(lower = 0, upper = 100)\n",
    "    \n",
    "    df_resultado[[\"Porcentaje Certificaciones Faltantes\", \"Porcentaje Certificaciones Realizadas\"]] = df_resultado[[\"Porcentaje Certificaciones Faltantes\", \"Porcentaje Certificaciones Realizadas\"]].round(decimals = 2)\n",
    "    \n",
    "    df_resultado = df_resultado.sort_values(\"Porcentaje Certificaciones Faltantes\")\n",
    "    \n",
    "    fig = px.bar(data_frame = df_resultado,\n",
    "                 x          = \"Vertical\",\n",
    "                 y          = \"Porcentaje Certificaciones Realizadas\",\n",
    "                 range_y    = [0, 100],\n",
    "                 text_auto  = True,\n",
    "                 title      = \"Procentaje de Certificaciones Finalizadas por Vertical\")\n",
    "    \n",
    "    fig.update_layout(xaxis = dict(title = dict(text = \"Vertical\")),\n",
    "                      yaxis = dict(title = dict(text = \"% Certificaciones Finalizadas\")))\n",
    "    \n",
    "    fig.show()"
   ]
  },
  {
   "cell_type": "code",
   "execution_count": 97,
   "id": "5857b4cf-726f-447b-9442-52d3f821cfaf",
   "metadata": {},
   "outputs": [],
   "source": [
    "# Relación \"Certificaciones (from Rol que le corresponde)\" vs \"\"Certificaciones faltantes para el rol (INFORME)\"\"\n",
    "\n",
    "df = df_dicts[\"Trabajadores\"][[\"Nombre\", \"Certificaciones\", \"Certificaciones (from Rol que le corresponde)\", \"Certificaciones faltantes para el rol (INFORME)\", \"Nueva vertical\"]]"
   ]
  },
  {
   "cell_type": "code",
   "execution_count": 98,
   "id": "c0a9ffa6-9004-4126-83d3-9779bf8f7f76",
   "metadata": {},
   "outputs": [
    {
     "name": "stderr",
     "output_type": "stream",
     "text": [
      "C:\\Users\\danie\\AppData\\Local\\Temp\\ipykernel_19492\\2149317163.py:3: SettingWithCopyWarning:\n",
      "\n",
      "\n",
      "A value is trying to be set on a copy of a slice from a DataFrame.\n",
      "Try using .loc[row_indexer,col_indexer] = value instead\n",
      "\n",
      "See the caveats in the documentation: https://pandas.pydata.org/pandas-docs/stable/user_guide/indexing.html#returning-a-view-versus-a-copy\n",
      "\n"
     ]
    }
   ],
   "source": [
    "for col in df.columns:\n",
    "\n",
    "    df[col] = df[col].apply(lambda x : list(set(x)) if type(x) == list else x)"
   ]
  },
  {
   "cell_type": "code",
   "execution_count": 99,
   "id": "776b4725-9b9b-4226-8e4e-c0581ae6bcd7",
   "metadata": {},
   "outputs": [
    {
     "name": "stderr",
     "output_type": "stream",
     "text": [
      "C:\\Users\\danie\\AppData\\Local\\Temp\\ipykernel_19492\\4050949787.py:1: SettingWithCopyWarning:\n",
      "\n",
      "\n",
      "A value is trying to be set on a copy of a slice from a DataFrame.\n",
      "Try using .loc[row_indexer,col_indexer] = value instead\n",
      "\n",
      "See the caveats in the documentation: https://pandas.pydata.org/pandas-docs/stable/user_guide/indexing.html#returning-a-view-versus-a-copy\n",
      "\n",
      "C:\\Users\\danie\\AppData\\Local\\Temp\\ipykernel_19492\\4050949787.py:3: SettingWithCopyWarning:\n",
      "\n",
      "\n",
      "A value is trying to be set on a copy of a slice from a DataFrame.\n",
      "Try using .loc[row_indexer,col_indexer] = value instead\n",
      "\n",
      "See the caveats in the documentation: https://pandas.pydata.org/pandas-docs/stable/user_guide/indexing.html#returning-a-view-versus-a-copy\n",
      "\n",
      "C:\\Users\\danie\\AppData\\Local\\Temp\\ipykernel_19492\\4050949787.py:5: SettingWithCopyWarning:\n",
      "\n",
      "\n",
      "A value is trying to be set on a copy of a slice from a DataFrame.\n",
      "Try using .loc[row_indexer,col_indexer] = value instead\n",
      "\n",
      "See the caveats in the documentation: https://pandas.pydata.org/pandas-docs/stable/user_guide/indexing.html#returning-a-view-versus-a-copy\n",
      "\n",
      "C:\\Users\\danie\\AppData\\Local\\Temp\\ipykernel_19492\\4050949787.py:7: SettingWithCopyWarning:\n",
      "\n",
      "\n",
      "A value is trying to be set on a copy of a slice from a DataFrame.\n",
      "Try using .loc[row_indexer,col_indexer] = value instead\n",
      "\n",
      "See the caveats in the documentation: https://pandas.pydata.org/pandas-docs/stable/user_guide/indexing.html#returning-a-view-versus-a-copy\n",
      "\n"
     ]
    }
   ],
   "source": [
    "df[\"Certificaciones Totales\"] = df[\"Certificaciones\"].apply(lambda x : len(x) if type(x) == list else 0)\n",
    "\n",
    "df[\"Certificaciones Totales por Rol\"] = df[\"Certificaciones (from Rol que le corresponde)\"].apply(lambda x : len(x) if type(x) == list else 0)\n",
    "\n",
    "df[\"Certificaciones Faltantes\"] = df[\"Certificaciones faltantes para el rol (INFORME)\"].apply(lambda x : len(x) if type(x) == list else 0)\n",
    "\n",
    "df[\"Porcentaje Certificaciones Faltantes\"] = np.round(df[\"Certificaciones Faltantes\"] / df[\"Certificaciones Totales por Rol\"] * 100, 2)"
   ]
  },
  {
   "cell_type": "code",
   "execution_count": 100,
   "id": "0d06876c-b4c9-440b-a705-675c30bfd151",
   "metadata": {},
   "outputs": [],
   "source": [
    "df = pd.merge(left = df.explode(\"Nueva vertical\"), right = df_dicts[\"Verticales\"][[\"id\", \"Vertical\"]], left_on = \"Nueva vertical\", right_on = \"id\", how = \"left\")"
   ]
  },
  {
   "cell_type": "code",
   "execution_count": 101,
   "id": "fdd9c39f-a954-43ec-97f1-e337c58e3aed",
   "metadata": {},
   "outputs": [],
   "source": [
    "df_resultado = df.groupby(by = [\"Vertical\"], as_index = False).agg({\"Porcentaje Certificaciones Faltantes\" : \"mean\"})\n",
    "\n",
    "df_resultado[\"Porcentaje Certificaciones Faltantes\"] = df_resultado[\"Porcentaje Certificaciones Faltantes\"].clip(lower = 0, upper = 100)\n",
    "df_resultado[\"Porcentaje Certificaciones Realizadas\"] = 100 - df_resultado[\"Porcentaje Certificaciones Faltantes\"].clip(lower = 0, upper = 100)\n",
    "\n",
    "df_resultado[[\"Porcentaje Certificaciones Faltantes\", \"Porcentaje Certificaciones Realizadas\"]] = df_resultado[[\"Porcentaje Certificaciones Faltantes\", \"Porcentaje Certificaciones Realizadas\"]].round(decimals = 2)\n",
    "\n",
    "df_resultado = df_resultado.sort_values(\"Porcentaje Certificaciones Faltantes\")"
   ]
  },
  {
   "cell_type": "code",
   "execution_count": 102,
   "id": "db90436e-2f50-440d-af28-15e5e5b5b134",
   "metadata": {},
   "outputs": [
    {
     "data": {
      "application/vnd.plotly.v1+json": {
       "config": {
        "plotlyServerURL": "https://plot.ly"
       },
       "data": [
        {
         "alignmentgroup": "True",
         "hovertemplate": "Vertical=%{x}<br>Porcentaje Certificaciones Realizadas=%{y}<extra></extra>",
         "legendgroup": "",
         "marker": {
          "color": "#000001",
          "pattern": {
           "shape": ""
          }
         },
         "name": "",
         "offsetgroup": "",
         "orientation": "v",
         "showlegend": false,
         "textposition": "auto",
         "texttemplate": "%{y}",
         "type": "bar",
         "x": [
          "DATA & AI Architect",
          "DATA & AI Strategy & Operations",
          "DATA & AI Engineering",
          "DATA & AI Scientist",
          "DATA & IA Business",
          "DATA & AI Jerárquico"
         ],
         "xaxis": "x",
         "y": [
          2.6,
          2.08,
          1.34,
          1.24,
          0,
          null
         ],
         "yaxis": "y"
        }
       ],
       "layout": {
        "barmode": "relative",
        "legend": {
         "tracegroupgap": 0
        },
        "template": {
         "data": {
          "candlestick": [
           {
            "decreasing": {
             "line": {
              "color": "#000033"
             }
            },
            "increasing": {
             "line": {
              "color": "#000032"
             }
            },
            "type": "candlestick"
           }
          ],
          "contour": [
           {
            "colorscale": [
             [
              0,
              "#000011"
             ],
             [
              0.1111111111111111,
              "#000012"
             ],
             [
              0.2222222222222222,
              "#000013"
             ],
             [
              0.3333333333333333,
              "#000014"
             ],
             [
              0.4444444444444444,
              "#000015"
             ],
             [
              0.5555555555555556,
              "#000016"
             ],
             [
              0.6666666666666666,
              "#000017"
             ],
             [
              0.7777777777777778,
              "#000018"
             ],
             [
              0.8888888888888888,
              "#000019"
             ],
             [
              1,
              "#000020"
             ]
            ],
            "type": "contour"
           }
          ],
          "contourcarpet": [
           {
            "colorscale": [
             [
              0,
              "#000011"
             ],
             [
              0.1111111111111111,
              "#000012"
             ],
             [
              0.2222222222222222,
              "#000013"
             ],
             [
              0.3333333333333333,
              "#000014"
             ],
             [
              0.4444444444444444,
              "#000015"
             ],
             [
              0.5555555555555556,
              "#000016"
             ],
             [
              0.6666666666666666,
              "#000017"
             ],
             [
              0.7777777777777778,
              "#000018"
             ],
             [
              0.8888888888888888,
              "#000019"
             ],
             [
              1,
              "#000020"
             ]
            ],
            "type": "contourcarpet"
           }
          ],
          "heatmap": [
           {
            "colorscale": [
             [
              0,
              "#000011"
             ],
             [
              0.1111111111111111,
              "#000012"
             ],
             [
              0.2222222222222222,
              "#000013"
             ],
             [
              0.3333333333333333,
              "#000014"
             ],
             [
              0.4444444444444444,
              "#000015"
             ],
             [
              0.5555555555555556,
              "#000016"
             ],
             [
              0.6666666666666666,
              "#000017"
             ],
             [
              0.7777777777777778,
              "#000018"
             ],
             [
              0.8888888888888888,
              "#000019"
             ],
             [
              1,
              "#000020"
             ]
            ],
            "type": "heatmap"
           }
          ],
          "histogram2d": [
           {
            "colorscale": [
             [
              0,
              "#000011"
             ],
             [
              0.1111111111111111,
              "#000012"
             ],
             [
              0.2222222222222222,
              "#000013"
             ],
             [
              0.3333333333333333,
              "#000014"
             ],
             [
              0.4444444444444444,
              "#000015"
             ],
             [
              0.5555555555555556,
              "#000016"
             ],
             [
              0.6666666666666666,
              "#000017"
             ],
             [
              0.7777777777777778,
              "#000018"
             ],
             [
              0.8888888888888888,
              "#000019"
             ],
             [
              1,
              "#000020"
             ]
            ],
            "type": "histogram2d"
           }
          ],
          "icicle": [
           {
            "textfont": {
             "color": "white"
            },
            "type": "icicle"
           }
          ],
          "sankey": [
           {
            "textfont": {
             "color": "#000036"
            },
            "type": "sankey"
           }
          ],
          "scatter": [
           {
            "marker": {
             "line": {
              "width": 0
             }
            },
            "type": "scatter"
           }
          ],
          "table": [
           {
            "cells": {
             "fill": {
              "color": "#000038"
             },
             "font": {
              "color": "#000037"
             },
             "line": {
              "color": "#000039"
             }
            },
            "header": {
             "fill": {
              "color": "#000040"
             },
             "font": {
              "color": "#000036"
             },
             "line": {
              "color": "#000039"
             }
            },
            "type": "table"
           }
          ],
          "waterfall": [
           {
            "connector": {
             "line": {
              "color": "#000036",
              "width": 2
             }
            },
            "decreasing": {
             "marker": {
              "color": "#000033"
             }
            },
            "increasing": {
             "marker": {
              "color": "#000032"
             }
            },
            "totals": {
             "marker": {
              "color": "#000034"
             }
            },
            "type": "waterfall"
           }
          ]
         },
         "layout": {
          "coloraxis": {
           "colorscale": [
            [
             0,
             "#000011"
            ],
            [
             0.1111111111111111,
             "#000012"
            ],
            [
             0.2222222222222222,
             "#000013"
            ],
            [
             0.3333333333333333,
             "#000014"
            ],
            [
             0.4444444444444444,
             "#000015"
            ],
            [
             0.5555555555555556,
             "#000016"
            ],
            [
             0.6666666666666666,
             "#000017"
            ],
            [
             0.7777777777777778,
             "#000018"
            ],
            [
             0.8888888888888888,
             "#000019"
            ],
            [
             1,
             "#000020"
            ]
           ]
          },
          "colorscale": {
           "diverging": [
            [
             0,
             "#000021"
            ],
            [
             0.1,
             "#000022"
            ],
            [
             0.2,
             "#000023"
            ],
            [
             0.3,
             "#000024"
            ],
            [
             0.4,
             "#000025"
            ],
            [
             0.5,
             "#000026"
            ],
            [
             0.6,
             "#000027"
            ],
            [
             0.7,
             "#000028"
            ],
            [
             0.8,
             "#000029"
            ],
            [
             0.9,
             "#000030"
            ],
            [
             1,
             "#000031"
            ]
           ],
           "sequential": [
            [
             0,
             "#000011"
            ],
            [
             0.1111111111111111,
             "#000012"
            ],
            [
             0.2222222222222222,
             "#000013"
            ],
            [
             0.3333333333333333,
             "#000014"
            ],
            [
             0.4444444444444444,
             "#000015"
            ],
            [
             0.5555555555555556,
             "#000016"
            ],
            [
             0.6666666666666666,
             "#000017"
            ],
            [
             0.7777777777777778,
             "#000018"
            ],
            [
             0.8888888888888888,
             "#000019"
            ],
            [
             1,
             "#000020"
            ]
           ],
           "sequentialminus": [
            [
             0,
             "#000011"
            ],
            [
             0.1111111111111111,
             "#000012"
            ],
            [
             0.2222222222222222,
             "#000013"
            ],
            [
             0.3333333333333333,
             "#000014"
            ],
            [
             0.4444444444444444,
             "#000015"
            ],
            [
             0.5555555555555556,
             "#000016"
            ],
            [
             0.6666666666666666,
             "#000017"
            ],
            [
             0.7777777777777778,
             "#000018"
            ],
            [
             0.8888888888888888,
             "#000019"
            ],
            [
             1,
             "#000020"
            ]
           ]
          },
          "colorway": [
           "#000001",
           "#000002",
           "#000003",
           "#000004",
           "#000005",
           "#000006",
           "#000007",
           "#000008",
           "#000009",
           "#000010"
          ]
         }
        },
        "title": {
         "text": "Procentaje de Certificaciones Finalizadas por Vertical"
        },
        "xaxis": {
         "anchor": "y",
         "domain": [
          0,
          1
         ],
         "title": {
          "text": "Vertical"
         }
        },
        "yaxis": {
         "anchor": "x",
         "domain": [
          0,
          1
         ],
         "range": [
          0,
          100
         ],
         "title": {
          "text": "% Certificaciones Finalizadas"
         }
        }
       }
      },
      "image/png": "[encoded data removed]",
      "text/html": [
       "<div>                            <div id=\"bdef2e77-c3cd-4018-9dc6-48f1c0b68e0a\" class=\"plotly-graph-div\" style=\"height:525px; width:100%;\"></div>            <script type=\"text/javascript\">                require([\"plotly\"], function(Plotly) {                    window.PLOTLYENV=window.PLOTLYENV || {};                                    if (document.getElementById(\"bdef2e77-c3cd-4018-9dc6-48f1c0b68e0a\")) {                    Plotly.newPlot(                        \"bdef2e77-c3cd-4018-9dc6-48f1c0b68e0a\",                        [{\"alignmentgroup\":\"True\",\"hovertemplate\":\"Vertical=%{x}\\u003cbr\\u003ePorcentaje Certificaciones Realizadas=%{y}\\u003cextra\\u003e\\u003c\\u002fextra\\u003e\",\"legendgroup\":\"\",\"marker\":{\"color\":\"#000001\",\"pattern\":{\"shape\":\"\"}},\"name\":\"\",\"offsetgroup\":\"\",\"orientation\":\"v\",\"showlegend\":false,\"textposition\":\"auto\",\"texttemplate\":\"%{y}\",\"x\":[\"DATA & AI Architect\",\"DATA & AI Strategy & Operations\",\"DATA & AI Engineering\",\"DATA & AI Scientist\",\"DATA & IA Business\",\"DATA & AI Jer\\u00e1rquico\"],\"xaxis\":\"x\",\"y\":[2.6,2.08,1.34,1.24,0.0,null],\"yaxis\":\"y\",\"type\":\"bar\"}],                        {\"template\":{\"data\":{\"candlestick\":[{\"decreasing\":{\"line\":{\"color\":\"#000033\"}},\"increasing\":{\"line\":{\"color\":\"#000032\"}},\"type\":\"candlestick\"}],\"contourcarpet\":[{\"colorscale\":[[0.0,\"#000011\"],[0.1111111111111111,\"#000012\"],[0.2222222222222222,\"#000013\"],[0.3333333333333333,\"#000014\"],[0.4444444444444444,\"#000015\"],[0.5555555555555556,\"#000016\"],[0.6666666666666666,\"#000017\"],[0.7777777777777778,\"#000018\"],[0.8888888888888888,\"#000019\"],[1.0,\"#000020\"]],\"type\":\"contourcarpet\"}],\"contour\":[{\"colorscale\":[[0.0,\"#000011\"],[0.1111111111111111,\"#000012\"],[0.2222222222222222,\"#000013\"],[0.3333333333333333,\"#000014\"],[0.4444444444444444,\"#000015\"],[0.5555555555555556,\"#000016\"],[0.6666666666666666,\"#000017\"],[0.7777777777777778,\"#000018\"],[0.8888888888888888,\"#000019\"],[1.0,\"#000020\"]],\"type\":\"contour\"}],\"heatmap\":[{\"colorscale\":[[0.0,\"#000011\"],[0.1111111111111111,\"#000012\"],[0.2222222222222222,\"#000013\"],[0.3333333333333333,\"#000014\"],[0.4444444444444444,\"#000015\"],[0.5555555555555556,\"#000016\"],[0.6666666666666666,\"#000017\"],[0.7777777777777778,\"#000018\"],[0.8888888888888888,\"#000019\"],[1.0,\"#000020\"]],\"type\":\"heatmap\"}],\"histogram2d\":[{\"colorscale\":[[0.0,\"#000011\"],[0.1111111111111111,\"#000012\"],[0.2222222222222222,\"#000013\"],[0.3333333333333333,\"#000014\"],[0.4444444444444444,\"#000015\"],[0.5555555555555556,\"#000016\"],[0.6666666666666666,\"#000017\"],[0.7777777777777778,\"#000018\"],[0.8888888888888888,\"#000019\"],[1.0,\"#000020\"]],\"type\":\"histogram2d\"}],\"icicle\":[{\"textfont\":{\"color\":\"white\"},\"type\":\"icicle\"}],\"sankey\":[{\"textfont\":{\"color\":\"#000036\"},\"type\":\"sankey\"}],\"scatter\":[{\"marker\":{\"line\":{\"width\":0}},\"type\":\"scatter\"}],\"table\":[{\"cells\":{\"fill\":{\"color\":\"#000038\"},\"font\":{\"color\":\"#000037\"},\"line\":{\"color\":\"#000039\"}},\"header\":{\"fill\":{\"color\":\"#000040\"},\"font\":{\"color\":\"#000036\"},\"line\":{\"color\":\"#000039\"}},\"type\":\"table\"}],\"waterfall\":[{\"connector\":{\"line\":{\"color\":\"#000036\",\"width\":2}},\"decreasing\":{\"marker\":{\"color\":\"#000033\"}},\"increasing\":{\"marker\":{\"color\":\"#000032\"}},\"totals\":{\"marker\":{\"color\":\"#000034\"}},\"type\":\"waterfall\"}]},\"layout\":{\"coloraxis\":{\"colorscale\":[[0.0,\"#000011\"],[0.1111111111111111,\"#000012\"],[0.2222222222222222,\"#000013\"],[0.3333333333333333,\"#000014\"],[0.4444444444444444,\"#000015\"],[0.5555555555555556,\"#000016\"],[0.6666666666666666,\"#000017\"],[0.7777777777777778,\"#000018\"],[0.8888888888888888,\"#000019\"],[1.0,\"#000020\"]]},\"colorscale\":{\"diverging\":[[0.0,\"#000021\"],[0.1,\"#000022\"],[0.2,\"#000023\"],[0.3,\"#000024\"],[0.4,\"#000025\"],[0.5,\"#000026\"],[0.6,\"#000027\"],[0.7,\"#000028\"],[0.8,\"#000029\"],[0.9,\"#000030\"],[1.0,\"#000031\"]],\"sequential\":[[0.0,\"#000011\"],[0.1111111111111111,\"#000012\"],[0.2222222222222222,\"#000013\"],[0.3333333333333333,\"#000014\"],[0.4444444444444444,\"#000015\"],[0.5555555555555556,\"#000016\"],[0.6666666666666666,\"#000017\"],[0.7777777777777778,\"#000018\"],[0.8888888888888888,\"#000019\"],[1.0,\"#000020\"]],\"sequentialminus\":[[0.0,\"#000011\"],[0.1111111111111111,\"#000012\"],[0.2222222222222222,\"#000013\"],[0.3333333333333333,\"#000014\"],[0.4444444444444444,\"#000015\"],[0.5555555555555556,\"#000016\"],[0.6666666666666666,\"#000017\"],[0.7777777777777778,\"#000018\"],[0.8888888888888888,\"#000019\"],[1.0,\"#000020\"]]},\"colorway\":[\"#000001\",\"#000002\",\"#000003\",\"#000004\",\"#000005\",\"#000006\",\"#000007\",\"#000008\",\"#000009\",\"#000010\"]}},\"xaxis\":{\"anchor\":\"y\",\"domain\":[0.0,1.0],\"title\":{\"text\":\"Vertical\"}},\"yaxis\":{\"anchor\":\"x\",\"domain\":[0.0,1.0],\"title\":{\"text\":\"% Certificaciones Finalizadas\"},\"range\":[0,100]},\"legend\":{\"tracegroupgap\":0},\"title\":{\"text\":\"Procentaje de Certificaciones Finalizadas por Vertical\"},\"barmode\":\"relative\"},                        {\"responsive\": true}                    ).then(function(){\n",
       "                            \n",
       "var gd = document.getElementById('bdef2e77-c3cd-4018-9dc6-48f1c0b68e0a');\n",
       "var x = new MutationObserver(function (mutations, observer) {{\n",
       "        var display = window.getComputedStyle(gd).display;\n",
       "        if (!display || display === 'none') {{\n",
       "            console.log([gd, 'removed!']);\n",
       "            Plotly.purge(gd);\n",
       "            observer.disconnect();\n",
       "        }}\n",
       "}});\n",
       "\n",
       "// Listen for the removal of the full notebook cells\n",
       "var notebookContainer = gd.closest('#notebook-container');\n",
       "if (notebookContainer) {{\n",
       "    x.observe(notebookContainer, {childList: true});\n",
       "}}\n",
       "\n",
       "// Listen for the clearing of the current output cell\n",
       "var outputEl = gd.closest('.output');\n",
       "if (outputEl) {{\n",
       "    x.observe(outputEl, {childList: true});\n",
       "}}\n",
       "\n",
       "                        })                };                });            </script>        </div>"
      ]
     },
     "metadata": {},
     "output_type": "display_data"
    }
   ],
   "source": [
    "fig = px.bar(data_frame = df_resultado,\n",
    "             x          = \"Vertical\",\n",
    "             y          = \"Porcentaje Certificaciones Realizadas\",\n",
    "             range_y    = [0, 100],\n",
    "             text_auto  = True,\n",
    "             title      = \"Procentaje de Certificaciones Finalizadas por Vertical\")\n",
    "\n",
    "fig.update_layout(xaxis = dict(title = dict(text = \"Vertical\")),\n",
    "                  yaxis = dict(title = dict(text = \"% Certificaciones Finalizadas\")))\n",
    "\n",
    "fig.show()"
   ]
  },
  {
   "cell_type": "markdown",
   "id": "42ceb7e9-062e-45e8-a11c-98ba0c4d40a0",
   "metadata": {},
   "source": [
    "# Segunda Gráfica"
   ]
  },
  {
   "cell_type": "code",
   "execution_count": 103,
   "id": "e0001052-fca9-4a9f-bb10-ce84e2491ed9",
   "metadata": {},
   "outputs": [
    {
     "name": "stderr",
     "output_type": "stream",
     "text": [
      "C:\\Users\\danie\\AppData\\Local\\Temp\\ipykernel_19492\\667183489.py:31: FutureWarning:\n",
      "\n",
      "The default of observed=False is deprecated and will be changed to True in a future version of pandas. Pass observed=False to retain current behavior or observed=True to adopt the future default and silence this warning.\n",
      "\n"
     ]
    }
   ],
   "source": [
    "df = pd.merge(left = df_dicts[\"Trabajadores\"].explode(\"Nivel\").drop(\"id\", axis = 1),\n",
    "              right = df_dicts[\"Roles\"][[\"id\", \"Nivel de carrera MAPFRE\"]],\n",
    "              left_on = \"Nivel\",\n",
    "              right_on = \"id\")\n",
    "\n",
    "df = df[[\"Certificaciones\", \"Certificaciones (from Rol que le corresponde)\", \"Certificaciones faltantes para el rol (INFORME)\", \"Nivel de carrera MAPFRE\"]]\n",
    "\n",
    "puestos_orden = [\"TÉCNICO AVANZADO\",\n",
    "                 \"TÉCNICO SENIOR\",\n",
    "                 \"ESPECIALISTA\",\n",
    "                 \"EXPERTO\",\n",
    "                 \"CONSULTOR\",\n",
    "                 \"RESPONSABLE\",\n",
    "                 \"JEFE\",\n",
    "                 \"SUBDIRECTOR\",\n",
    "                 \"DIRECTOR\"]\n",
    "\n",
    "df[\"Nivel de carrera MAPFRE\"] = pd.Categorical(df[\"Nivel de carrera MAPFRE\"], categories = puestos_orden, ordered = True)\n",
    "df = df.sort_values(\"Nivel de carrera MAPFRE\")\n",
    "\n",
    "df = df.reset_index(drop = True)\n",
    "\n",
    "df[\"Certificaciones Totales\"] = df[\"Certificaciones\"].apply(lambda x : len(x) if type(x) == list else 0)\n",
    "\n",
    "df[\"Certificaciones Totales por Rol\"] = df[\"Certificaciones (from Rol que le corresponde)\"].apply(lambda x : len(x) if type(x) == list else 0)\n",
    "\n",
    "df[\"Certificaciones Faltantes\"] = df[\"Certificaciones faltantes para el rol (INFORME)\"].apply(lambda x : len(x) if type(x) == list else 0)\n",
    "\n",
    "df[\"Porcentaje Certificaciones Faltantes\"] = np.round(df[\"Certificaciones Faltantes\"] / df[\"Certificaciones Totales por Rol\"] * 100, 2)\n",
    "\n",
    "df_resultado = df.groupby(by = [\"Nivel de carrera MAPFRE\"], as_index = False).agg({\"Porcentaje Certificaciones Faltantes\" : \"mean\"})\n",
    "\n",
    "df_resultado[\"Porcentaje Certificaciones Faltantes\"] = df_resultado[\"Porcentaje Certificaciones Faltantes\"].clip(lower = 0, upper = 100)\n",
    "df_resultado[\"Porcentaje Certificaciones Realizadas\"] = 100 - df_resultado[\"Porcentaje Certificaciones Faltantes\"].clip(lower = 0, upper = 100)\n",
    "\n",
    "df_resultado[[\"Porcentaje Certificaciones Faltantes\", \"Porcentaje Certificaciones Realizadas\"]] = df_resultado[[\"Porcentaje Certificaciones Faltantes\", \"Porcentaje Certificaciones Realizadas\"]].round(decimals = 2)\n",
    "\n",
    "# df_resultado = df_resultado.sort_values(\"Porcentaje Certificaciones Faltantes\")"
   ]
  },
  {
   "cell_type": "code",
   "execution_count": 105,
   "id": "2ec10cbc-32c2-4fe8-9324-a981424e6036",
   "metadata": {},
   "outputs": [
    {
     "data": {
      "application/vnd.plotly.v1+json": {
       "config": {
        "plotlyServerURL": "https://plot.ly"
       },
       "data": [
        {
         "alignmentgroup": "True",
         "hovertemplate": "Nivel de carrera MAPFRE=%{x}<br>Porcentaje Certificaciones Realizadas=%{y}<extra></extra>",
         "legendgroup": "",
         "marker": {
          "color": "#000001",
          "pattern": {
           "shape": ""
          }
         },
         "name": "",
         "offsetgroup": "",
         "orientation": "v",
         "showlegend": false,
         "textposition": "auto",
         "texttemplate": "%{y}",
         "type": "bar",
         "x": [
          "TÉCNICO AVANZADO",
          "TÉCNICO SENIOR",
          "ESPECIALISTA",
          "EXPERTO",
          "CONSULTOR",
          "RESPONSABLE",
          "JEFE",
          "SUBDIRECTOR",
          "DIRECTOR"
         ],
         "xaxis": "x",
         "y": [
          0,
          3.16,
          0,
          0,
          0,
          null,
          null,
          null,
          null
         ],
         "yaxis": "y"
        }
       ],
       "layout": {
        "barmode": "relative",
        "legend": {
         "tracegroupgap": 0
        },
        "template": {
         "data": {
          "candlestick": [
           {
            "decreasing": {
             "line": {
              "color": "#000033"
             }
            },
            "increasing": {
             "line": {
              "color": "#000032"
             }
            },
            "type": "candlestick"
           }
          ],
          "contour": [
           {
            "colorscale": [
             [
              0,
              "#000011"
             ],
             [
              0.1111111111111111,
              "#000012"
             ],
             [
              0.2222222222222222,
              "#000013"
             ],
             [
              0.3333333333333333,
              "#000014"
             ],
             [
              0.4444444444444444,
              "#000015"
             ],
             [
              0.5555555555555556,
              "#000016"
             ],
             [
              0.6666666666666666,
              "#000017"
             ],
             [
              0.7777777777777778,
              "#000018"
             ],
             [
              0.8888888888888888,
              "#000019"
             ],
             [
              1,
              "#000020"
             ]
            ],
            "type": "contour"
           }
          ],
          "contourcarpet": [
           {
            "colorscale": [
             [
              0,
              "#000011"
             ],
             [
              0.1111111111111111,
              "#000012"
             ],
             [
              0.2222222222222222,
              "#000013"
             ],
             [
              0.3333333333333333,
              "#000014"
             ],
             [
              0.4444444444444444,
              "#000015"
             ],
             [
              0.5555555555555556,
              "#000016"
             ],
             [
              0.6666666666666666,
              "#000017"
             ],
             [
              0.7777777777777778,
              "#000018"
             ],
             [
              0.8888888888888888,
              "#000019"
             ],
             [
              1,
              "#000020"
             ]
            ],
            "type": "contourcarpet"
           }
          ],
          "heatmap": [
           {
            "colorscale": [
             [
              0,
              "#000011"
             ],
             [
              0.1111111111111111,
              "#000012"
             ],
             [
              0.2222222222222222,
              "#000013"
             ],
             [
              0.3333333333333333,
              "#000014"
             ],
             [
              0.4444444444444444,
              "#000015"
             ],
             [
              0.5555555555555556,
              "#000016"
             ],
             [
              0.6666666666666666,
              "#000017"
             ],
             [
              0.7777777777777778,
              "#000018"
             ],
             [
              0.8888888888888888,
              "#000019"
             ],
             [
              1,
              "#000020"
             ]
            ],
            "type": "heatmap"
           }
          ],
          "histogram2d": [
           {
            "colorscale": [
             [
              0,
              "#000011"
             ],
             [
              0.1111111111111111,
              "#000012"
             ],
             [
              0.2222222222222222,
              "#000013"
             ],
             [
              0.3333333333333333,
              "#000014"
             ],
             [
              0.4444444444444444,
              "#000015"
             ],
             [
              0.5555555555555556,
              "#000016"
             ],
             [
              0.6666666666666666,
              "#000017"
             ],
             [
              0.7777777777777778,
              "#000018"
             ],
             [
              0.8888888888888888,
              "#000019"
             ],
             [
              1,
              "#000020"
             ]
            ],
            "type": "histogram2d"
           }
          ],
          "icicle": [
           {
            "textfont": {
             "color": "white"
            },
            "type": "icicle"
           }
          ],
          "sankey": [
           {
            "textfont": {
             "color": "#000036"
            },
            "type": "sankey"
           }
          ],
          "scatter": [
           {
            "marker": {
             "line": {
              "width": 0
             }
            },
            "type": "scatter"
           }
          ],
          "table": [
           {
            "cells": {
             "fill": {
              "color": "#000038"
             },
             "font": {
              "color": "#000037"
             },
             "line": {
              "color": "#000039"
             }
            },
            "header": {
             "fill": {
              "color": "#000040"
             },
             "font": {
              "color": "#000036"
             },
             "line": {
              "color": "#000039"
             }
            },
            "type": "table"
           }
          ],
          "waterfall": [
           {
            "connector": {
             "line": {
              "color": "#000036",
              "width": 2
             }
            },
            "decreasing": {
             "marker": {
              "color": "#000033"
             }
            },
            "increasing": {
             "marker": {
              "color": "#000032"
             }
            },
            "totals": {
             "marker": {
              "color": "#000034"
             }
            },
            "type": "waterfall"
           }
          ]
         },
         "layout": {
          "coloraxis": {
           "colorscale": [
            [
             0,
             "#000011"
            ],
            [
             0.1111111111111111,
             "#000012"
            ],
            [
             0.2222222222222222,
             "#000013"
            ],
            [
             0.3333333333333333,
             "#000014"
            ],
            [
             0.4444444444444444,
             "#000015"
            ],
            [
             0.5555555555555556,
             "#000016"
            ],
            [
             0.6666666666666666,
             "#000017"
            ],
            [
             0.7777777777777778,
             "#000018"
            ],
            [
             0.8888888888888888,
             "#000019"
            ],
            [
             1,
             "#000020"
            ]
           ]
          },
          "colorscale": {
           "diverging": [
            [
             0,
             "#000021"
            ],
            [
             0.1,
             "#000022"
            ],
            [
             0.2,
             "#000023"
            ],
            [
             0.3,
             "#000024"
            ],
            [
             0.4,
             "#000025"
            ],
            [
             0.5,
             "#000026"
            ],
            [
             0.6,
             "#000027"
            ],
            [
             0.7,
             "#000028"
            ],
            [
             0.8,
             "#000029"
            ],
            [
             0.9,
             "#000030"
            ],
            [
             1,
             "#000031"
            ]
           ],
           "sequential": [
            [
             0,
             "#000011"
            ],
            [
             0.1111111111111111,
             "#000012"
            ],
            [
             0.2222222222222222,
             "#000013"
            ],
            [
             0.3333333333333333,
             "#000014"
            ],
            [
             0.4444444444444444,
             "#000015"
            ],
            [
             0.5555555555555556,
             "#000016"
            ],
            [
             0.6666666666666666,
             "#000017"
            ],
            [
             0.7777777777777778,
             "#000018"
            ],
            [
             0.8888888888888888,
             "#000019"
            ],
            [
             1,
             "#000020"
            ]
           ],
           "sequentialminus": [
            [
             0,
             "#000011"
            ],
            [
             0.1111111111111111,
             "#000012"
            ],
            [
             0.2222222222222222,
             "#000013"
            ],
            [
             0.3333333333333333,
             "#000014"
            ],
            [
             0.4444444444444444,
             "#000015"
            ],
            [
             0.5555555555555556,
             "#000016"
            ],
            [
             0.6666666666666666,
             "#000017"
            ],
            [
             0.7777777777777778,
             "#000018"
            ],
            [
             0.8888888888888888,
             "#000019"
            ],
            [
             1,
             "#000020"
            ]
           ]
          },
          "colorway": [
           "#000001",
           "#000002",
           "#000003",
           "#000004",
           "#000005",
           "#000006",
           "#000007",
           "#000008",
           "#000009",
           "#000010"
          ]
         }
        },
        "title": {
         "text": "Procentaje de Certificaciones Finalizadas por Nivel"
        },
        "xaxis": {
         "anchor": "y",
         "domain": [
          0,
          1
         ],
         "title": {
          "text": "Nivel"
         }
        },
        "yaxis": {
         "anchor": "x",
         "domain": [
          0,
          1
         ],
         "range": [
          0,
          100
         ],
         "title": {
          "text": "% Certificaciones Finalizadas"
         }
        }
       }
      },
      "image/png": "[encoded data removed]",
      "text/html": [
       "<div>                            <div id=\"30db886c-328e-41e3-a4bd-3995b73b32bd\" class=\"plotly-graph-div\" style=\"height:525px; width:100%;\"></div>            <script type=\"text/javascript\">                require([\"plotly\"], function(Plotly) {                    window.PLOTLYENV=window.PLOTLYENV || {};                                    if (document.getElementById(\"30db886c-328e-41e3-a4bd-3995b73b32bd\")) {                    Plotly.newPlot(                        \"30db886c-328e-41e3-a4bd-3995b73b32bd\",                        [{\"alignmentgroup\":\"True\",\"hovertemplate\":\"Nivel de carrera MAPFRE=%{x}\\u003cbr\\u003ePorcentaje Certificaciones Realizadas=%{y}\\u003cextra\\u003e\\u003c\\u002fextra\\u003e\",\"legendgroup\":\"\",\"marker\":{\"color\":\"#000001\",\"pattern\":{\"shape\":\"\"}},\"name\":\"\",\"offsetgroup\":\"\",\"orientation\":\"v\",\"showlegend\":false,\"textposition\":\"auto\",\"texttemplate\":\"%{y}\",\"x\":[\"T\\u00c9CNICO AVANZADO\",\"T\\u00c9CNICO SENIOR\",\"ESPECIALISTA\",\"EXPERTO\",\"CONSULTOR\",\"RESPONSABLE\",\"JEFE\",\"SUBDIRECTOR\",\"DIRECTOR\"],\"xaxis\":\"x\",\"y\":[0.0,3.16,0.0,0.0,0.0,null,null,null,null],\"yaxis\":\"y\",\"type\":\"bar\"}],                        {\"template\":{\"data\":{\"candlestick\":[{\"decreasing\":{\"line\":{\"color\":\"#000033\"}},\"increasing\":{\"line\":{\"color\":\"#000032\"}},\"type\":\"candlestick\"}],\"contourcarpet\":[{\"colorscale\":[[0.0,\"#000011\"],[0.1111111111111111,\"#000012\"],[0.2222222222222222,\"#000013\"],[0.3333333333333333,\"#000014\"],[0.4444444444444444,\"#000015\"],[0.5555555555555556,\"#000016\"],[0.6666666666666666,\"#000017\"],[0.7777777777777778,\"#000018\"],[0.8888888888888888,\"#000019\"],[1.0,\"#000020\"]],\"type\":\"contourcarpet\"}],\"contour\":[{\"colorscale\":[[0.0,\"#000011\"],[0.1111111111111111,\"#000012\"],[0.2222222222222222,\"#000013\"],[0.3333333333333333,\"#000014\"],[0.4444444444444444,\"#000015\"],[0.5555555555555556,\"#000016\"],[0.6666666666666666,\"#000017\"],[0.7777777777777778,\"#000018\"],[0.8888888888888888,\"#000019\"],[1.0,\"#000020\"]],\"type\":\"contour\"}],\"heatmap\":[{\"colorscale\":[[0.0,\"#000011\"],[0.1111111111111111,\"#000012\"],[0.2222222222222222,\"#000013\"],[0.3333333333333333,\"#000014\"],[0.4444444444444444,\"#000015\"],[0.5555555555555556,\"#000016\"],[0.6666666666666666,\"#000017\"],[0.7777777777777778,\"#000018\"],[0.8888888888888888,\"#000019\"],[1.0,\"#000020\"]],\"type\":\"heatmap\"}],\"histogram2d\":[{\"colorscale\":[[0.0,\"#000011\"],[0.1111111111111111,\"#000012\"],[0.2222222222222222,\"#000013\"],[0.3333333333333333,\"#000014\"],[0.4444444444444444,\"#000015\"],[0.5555555555555556,\"#000016\"],[0.6666666666666666,\"#000017\"],[0.7777777777777778,\"#000018\"],[0.8888888888888888,\"#000019\"],[1.0,\"#000020\"]],\"type\":\"histogram2d\"}],\"icicle\":[{\"textfont\":{\"color\":\"white\"},\"type\":\"icicle\"}],\"sankey\":[{\"textfont\":{\"color\":\"#000036\"},\"type\":\"sankey\"}],\"scatter\":[{\"marker\":{\"line\":{\"width\":0}},\"type\":\"scatter\"}],\"table\":[{\"cells\":{\"fill\":{\"color\":\"#000038\"},\"font\":{\"color\":\"#000037\"},\"line\":{\"color\":\"#000039\"}},\"header\":{\"fill\":{\"color\":\"#000040\"},\"font\":{\"color\":\"#000036\"},\"line\":{\"color\":\"#000039\"}},\"type\":\"table\"}],\"waterfall\":[{\"connector\":{\"line\":{\"color\":\"#000036\",\"width\":2}},\"decreasing\":{\"marker\":{\"color\":\"#000033\"}},\"increasing\":{\"marker\":{\"color\":\"#000032\"}},\"totals\":{\"marker\":{\"color\":\"#000034\"}},\"type\":\"waterfall\"}]},\"layout\":{\"coloraxis\":{\"colorscale\":[[0.0,\"#000011\"],[0.1111111111111111,\"#000012\"],[0.2222222222222222,\"#000013\"],[0.3333333333333333,\"#000014\"],[0.4444444444444444,\"#000015\"],[0.5555555555555556,\"#000016\"],[0.6666666666666666,\"#000017\"],[0.7777777777777778,\"#000018\"],[0.8888888888888888,\"#000019\"],[1.0,\"#000020\"]]},\"colorscale\":{\"diverging\":[[0.0,\"#000021\"],[0.1,\"#000022\"],[0.2,\"#000023\"],[0.3,\"#000024\"],[0.4,\"#000025\"],[0.5,\"#000026\"],[0.6,\"#000027\"],[0.7,\"#000028\"],[0.8,\"#000029\"],[0.9,\"#000030\"],[1.0,\"#000031\"]],\"sequential\":[[0.0,\"#000011\"],[0.1111111111111111,\"#000012\"],[0.2222222222222222,\"#000013\"],[0.3333333333333333,\"#000014\"],[0.4444444444444444,\"#000015\"],[0.5555555555555556,\"#000016\"],[0.6666666666666666,\"#000017\"],[0.7777777777777778,\"#000018\"],[0.8888888888888888,\"#000019\"],[1.0,\"#000020\"]],\"sequentialminus\":[[0.0,\"#000011\"],[0.1111111111111111,\"#000012\"],[0.2222222222222222,\"#000013\"],[0.3333333333333333,\"#000014\"],[0.4444444444444444,\"#000015\"],[0.5555555555555556,\"#000016\"],[0.6666666666666666,\"#000017\"],[0.7777777777777778,\"#000018\"],[0.8888888888888888,\"#000019\"],[1.0,\"#000020\"]]},\"colorway\":[\"#000001\",\"#000002\",\"#000003\",\"#000004\",\"#000005\",\"#000006\",\"#000007\",\"#000008\",\"#000009\",\"#000010\"]}},\"xaxis\":{\"anchor\":\"y\",\"domain\":[0.0,1.0],\"title\":{\"text\":\"Nivel\"}},\"yaxis\":{\"anchor\":\"x\",\"domain\":[0.0,1.0],\"title\":{\"text\":\"% Certificaciones Finalizadas\"},\"range\":[0,100]},\"legend\":{\"tracegroupgap\":0},\"title\":{\"text\":\"Procentaje de Certificaciones Finalizadas por Nivel\"},\"barmode\":\"relative\"},                        {\"responsive\": true}                    ).then(function(){\n",
       "                            \n",
       "var gd = document.getElementById('30db886c-328e-41e3-a4bd-3995b73b32bd');\n",
       "var x = new MutationObserver(function (mutations, observer) {{\n",
       "        var display = window.getComputedStyle(gd).display;\n",
       "        if (!display || display === 'none') {{\n",
       "            console.log([gd, 'removed!']);\n",
       "            Plotly.purge(gd);\n",
       "            observer.disconnect();\n",
       "        }}\n",
       "}});\n",
       "\n",
       "// Listen for the removal of the full notebook cells\n",
       "var notebookContainer = gd.closest('#notebook-container');\n",
       "if (notebookContainer) {{\n",
       "    x.observe(notebookContainer, {childList: true});\n",
       "}}\n",
       "\n",
       "// Listen for the clearing of the current output cell\n",
       "var outputEl = gd.closest('.output');\n",
       "if (outputEl) {{\n",
       "    x.observe(outputEl, {childList: true});\n",
       "}}\n",
       "\n",
       "                        })                };                });            </script>        </div>"
      ]
     },
     "metadata": {},
     "output_type": "display_data"
    }
   ],
   "source": [
    "fig = px.bar(data_frame = df_resultado,\n",
    "             x          = \"Nivel de carrera MAPFRE\",\n",
    "             y          = \"Porcentaje Certificaciones Realizadas\",\n",
    "             range_y    = [0, 100],\n",
    "             text_auto  = True,\n",
    "             title      = \"Procentaje de Certificaciones Finalizadas por Nivel\")\n",
    "\n",
    "fig.update_layout(xaxis = {\"title\" : {\"text\" : \"Nivel\"}},\n",
    "                  yaxis = {\"title\" : {\"text\" : \"% Certificaciones Finalizadas\"}})\n",
    "\n",
    "fig.show()"
   ]
  },
  {
   "cell_type": "markdown",
   "id": "80ccea78-a4bc-45bd-8bd3-ccac6e1effc9",
   "metadata": {},
   "source": [
    "# Tercera Gráfica"
   ]
  },
  {
   "cell_type": "code",
   "execution_count": 137,
   "id": "fb9fe5d7-a7c4-47b8-a225-958a57c4424b",
   "metadata": {},
   "outputs": [
    {
     "data": {
      "text/html": [
       "<div>\n",
       "<style scoped>\n",
       "    .dataframe tbody tr th:only-of-type {\n",
       "        vertical-align: middle;\n",
       "    }\n",
       "\n",
       "    .dataframe tbody tr th {\n",
       "        vertical-align: top;\n",
       "    }\n",
       "\n",
       "    .dataframe thead th {\n",
       "        text-align: right;\n",
       "    }\n",
       "</style>\n",
       "<table border=\"1\" class=\"dataframe\">\n",
       "  <thead>\n",
       "    <tr style=\"text-align: right;\">\n",
       "      <th></th>\n",
       "      <th>Certificaciones</th>\n",
       "      <th>Roles</th>\n",
       "      <th>id_x</th>\n",
       "      <th>id_y</th>\n",
       "      <th>Vertical</th>\n",
       "    </tr>\n",
       "  </thead>\n",
       "  <tbody>\n",
       "  </tbody>\n",
       "</table>\n",
       "</div>"
      ],
      "text/plain": [
       "Empty DataFrame\n",
       "Columns: [Certificaciones, Roles, id_x, id_y, Vertical]\n",
       "Index: []"
      ]
     },
     "execution_count": 137,
     "metadata": {},
     "output_type": "execute_result"
    }
   ],
   "source": [
    "# Certificaciones más predominantes por Rol\n",
    "pd.merge(left = df_dicts[\"Certificaciones\"].explode(\"Roles\").groupby(by = [\"Certificaciones\", \"Roles\"], as_index = False).agg({\"id\" : \"count\"}).sort_values(by = \"id\", ascending = False),\n",
    "         right = df_dicts[\"Verticales\"][[\"id\", \"Vertical\"]],\n",
    "         left_on = \"Roles\",\n",
    "         right_on = \"id\")"
   ]
  },
  {
   "cell_type": "code",
   "execution_count": 167,
   "id": "60600e02-f8a0-4f5e-b2a5-f4e8cc5c761f",
   "metadata": {},
   "outputs": [
    {
     "data": {
      "text/html": [
       "<div>\n",
       "<style scoped>\n",
       "    .dataframe tbody tr th:only-of-type {\n",
       "        vertical-align: middle;\n",
       "    }\n",
       "\n",
       "    .dataframe tbody tr th {\n",
       "        vertical-align: top;\n",
       "    }\n",
       "\n",
       "    .dataframe thead th {\n",
       "        text-align: right;\n",
       "    }\n",
       "</style>\n",
       "<table border=\"1\" class=\"dataframe\">\n",
       "  <thead>\n",
       "    <tr style=\"text-align: right;\">\n",
       "      <th></th>\n",
       "      <th>Certificaciones</th>\n",
       "      <th>Rol</th>\n",
       "    </tr>\n",
       "  </thead>\n",
       "  <tbody>\n",
       "    <tr>\n",
       "      <th>0</th>\n",
       "      <td>AI For Everyone – Andrew Ng</td>\n",
       "      <td>DATA &amp; AI Business Specialist</td>\n",
       "    </tr>\n",
       "    <tr>\n",
       "      <th>1</th>\n",
       "      <td>AWS AI and Deep Learning Courses (Skill Builder)</td>\n",
       "      <td>DATA &amp; AI Scientist</td>\n",
       "    </tr>\n",
       "    <tr>\n",
       "      <th>2</th>\n",
       "      <td>AWS Certified Advanced Networking Specialty</td>\n",
       "      <td>DATA &amp; AI Engineer</td>\n",
       "    </tr>\n",
       "  </tbody>\n",
       "</table>\n",
       "</div>"
      ],
      "text/plain": [
       "                                    Certificaciones  \\\n",
       "0                       AI For Everyone – Andrew Ng   \n",
       "1  AWS AI and Deep Learning Courses (Skill Builder)   \n",
       "2       AWS Certified Advanced Networking Specialty   \n",
       "\n",
       "                             Rol  \n",
       "0  DATA & AI Business Specialist  \n",
       "1            DATA & AI Scientist  \n",
       "2             DATA & AI Engineer  "
      ]
     },
     "execution_count": 167,
     "metadata": {},
     "output_type": "execute_result"
    }
   ],
   "source": [
    "# Roles y Cartificaciones\n",
    "df_rol_certificaciones = pd.merge(left = df_dicts[\"Certificaciones\"].explode(\"Roles\").groupby(by = [\"Certificaciones\", \"Roles\"], as_index = False).agg({\"id\" : \"count\"}).sort_values(by = \"id\", ascending = False),\n",
    "         right = df_dicts[\"Roles\"][[\"id\", \"Puesto\"]],\n",
    "         left_on = \"Roles\",\n",
    "         right_on = \"id\")[[\"Certificaciones\", \"Puesto\"]]\n",
    "\n",
    "df_rol_certificaciones.columns = [\"Certificaciones\", \"Rol\"]\n",
    "\n",
    "df_rol_certificaciones.head(3)"
   ]
  },
  {
   "cell_type": "code",
   "execution_count": 168,
   "id": "0d1d08c0-f6e5-412a-8f09-b34c9e67a1fc",
   "metadata": {
    "scrolled": true
   },
   "outputs": [
    {
     "data": {
      "text/html": [
       "<div>\n",
       "<style scoped>\n",
       "    .dataframe tbody tr th:only-of-type {\n",
       "        vertical-align: middle;\n",
       "    }\n",
       "\n",
       "    .dataframe tbody tr th {\n",
       "        vertical-align: top;\n",
       "    }\n",
       "\n",
       "    .dataframe thead th {\n",
       "        text-align: right;\n",
       "    }\n",
       "</style>\n",
       "<table border=\"1\" class=\"dataframe\">\n",
       "  <thead>\n",
       "    <tr style=\"text-align: right;\">\n",
       "      <th></th>\n",
       "      <th>Rol</th>\n",
       "      <th>Vertical</th>\n",
       "    </tr>\n",
       "  </thead>\n",
       "  <tbody>\n",
       "    <tr>\n",
       "      <th>0</th>\n",
       "      <td>DATA &amp; AI Scientist</td>\n",
       "      <td>DATA &amp; AI Scientist</td>\n",
       "    </tr>\n",
       "    <tr>\n",
       "      <th>1</th>\n",
       "      <td>DATA &amp; AI Strategy &amp; Operations Consultant</td>\n",
       "      <td>DATA &amp; AI Strategy &amp; Operations</td>\n",
       "    </tr>\n",
       "    <tr>\n",
       "      <th>2</th>\n",
       "      <td>DATA &amp; AI Architect</td>\n",
       "      <td>DATA &amp; AI Architect</td>\n",
       "    </tr>\n",
       "    <tr>\n",
       "      <th>3</th>\n",
       "      <td>Jefe de DATA &amp; IA</td>\n",
       "      <td>DATA &amp; AI Jerárquico</td>\n",
       "    </tr>\n",
       "    <tr>\n",
       "      <th>4</th>\n",
       "      <td>DATA &amp; IA Business Analyst Senior</td>\n",
       "      <td>DATA &amp; IA Business</td>\n",
       "    </tr>\n",
       "    <tr>\n",
       "      <th>5</th>\n",
       "      <td>DATA &amp; IA Business Analyst Specialist</td>\n",
       "      <td>DATA &amp; IA Business</td>\n",
       "    </tr>\n",
       "    <tr>\n",
       "      <th>6</th>\n",
       "      <td>DATA &amp; IA Business Analyst Expert</td>\n",
       "      <td>DATA &amp; IA Business</td>\n",
       "    </tr>\n",
       "    <tr>\n",
       "      <th>7</th>\n",
       "      <td>DATA &amp; AI Business Analyst</td>\n",
       "      <td>DATA &amp; IA Business</td>\n",
       "    </tr>\n",
       "    <tr>\n",
       "      <th>8</th>\n",
       "      <td>DATA &amp; AI Strategy &amp; Operations Analyst Senior</td>\n",
       "      <td>DATA &amp; AI Strategy &amp; Operations</td>\n",
       "    </tr>\n",
       "    <tr>\n",
       "      <th>9</th>\n",
       "      <td>DATA &amp; AI Scientist Senior</td>\n",
       "      <td>DATA &amp; IA Business</td>\n",
       "    </tr>\n",
       "    <tr>\n",
       "      <th>10</th>\n",
       "      <td>DATA &amp; AI Scientist Senior</td>\n",
       "      <td>DATA &amp; AI Scientist</td>\n",
       "    </tr>\n",
       "    <tr>\n",
       "      <th>11</th>\n",
       "      <td>DATA &amp; AI Architect Senior</td>\n",
       "      <td>DATA &amp; AI Architect</td>\n",
       "    </tr>\n",
       "    <tr>\n",
       "      <th>12</th>\n",
       "      <td>Director de DATA &amp; IA</td>\n",
       "      <td>DATA &amp; AI Jerárquico</td>\n",
       "    </tr>\n",
       "    <tr>\n",
       "      <th>13</th>\n",
       "      <td>DATA &amp; AI Engineer</td>\n",
       "      <td>DATA &amp; AI Engineering</td>\n",
       "    </tr>\n",
       "    <tr>\n",
       "      <th>14</th>\n",
       "      <td>DATA &amp; AI Architect Specialist</td>\n",
       "      <td>DATA &amp; AI Architect</td>\n",
       "    </tr>\n",
       "    <tr>\n",
       "      <th>15</th>\n",
       "      <td>DATA &amp; AI Strategy &amp; Operations Expert</td>\n",
       "      <td>DATA &amp; AI Strategy &amp; Operations</td>\n",
       "    </tr>\n",
       "    <tr>\n",
       "      <th>16</th>\n",
       "      <td>Responsable de DATA &amp; IA</td>\n",
       "      <td>DATA &amp; AI Jerárquico</td>\n",
       "    </tr>\n",
       "    <tr>\n",
       "      <th>17</th>\n",
       "      <td>DATA &amp; AI Strategy &amp; Operations Analyst</td>\n",
       "      <td>DATA &amp; AI Strategy &amp; Operations</td>\n",
       "    </tr>\n",
       "    <tr>\n",
       "      <th>18</th>\n",
       "      <td>Becario de DATA &amp; IA</td>\n",
       "      <td>DATA &amp; AI Jerárquico</td>\n",
       "    </tr>\n",
       "    <tr>\n",
       "      <th>19</th>\n",
       "      <td>DATA &amp; AI Scientist Consultant</td>\n",
       "      <td>DATA &amp; AI Scientist</td>\n",
       "    </tr>\n",
       "    <tr>\n",
       "      <th>20</th>\n",
       "      <td>DATA &amp; AI Strategy &amp; Operations Specialist</td>\n",
       "      <td>DATA &amp; AI Strategy &amp; Operations</td>\n",
       "    </tr>\n",
       "    <tr>\n",
       "      <th>21</th>\n",
       "      <td>DATA &amp; AI Engineer Senior</td>\n",
       "      <td>DATA &amp; AI Engineering</td>\n",
       "    </tr>\n",
       "    <tr>\n",
       "      <th>22</th>\n",
       "      <td>Subdirector de DATA &amp; IA</td>\n",
       "      <td>DATA &amp; AI Jerárquico</td>\n",
       "    </tr>\n",
       "    <tr>\n",
       "      <th>23</th>\n",
       "      <td>DATA &amp; AI Engineer Specialist</td>\n",
       "      <td>DATA &amp; AI Engineering</td>\n",
       "    </tr>\n",
       "    <tr>\n",
       "      <th>24</th>\n",
       "      <td>Data &amp; AI Scientist Specialist</td>\n",
       "      <td>DATA &amp; AI Scientist</td>\n",
       "    </tr>\n",
       "  </tbody>\n",
       "</table>\n",
       "</div>"
      ],
      "text/plain": [
       "                                               Rol  \\\n",
       "0                              DATA & AI Scientist   \n",
       "1       DATA & AI Strategy & Operations Consultant   \n",
       "2                              DATA & AI Architect   \n",
       "3                                Jefe de DATA & IA   \n",
       "4                DATA & IA Business Analyst Senior   \n",
       "5            DATA & IA Business Analyst Specialist   \n",
       "6                DATA & IA Business Analyst Expert   \n",
       "7                       DATA & AI Business Analyst   \n",
       "8   DATA & AI Strategy & Operations Analyst Senior   \n",
       "9                       DATA & AI Scientist Senior   \n",
       "10                      DATA & AI Scientist Senior   \n",
       "11                      DATA & AI Architect Senior   \n",
       "12                           Director de DATA & IA   \n",
       "13                              DATA & AI Engineer   \n",
       "14                  DATA & AI Architect Specialist   \n",
       "15          DATA & AI Strategy & Operations Expert   \n",
       "16                        Responsable de DATA & IA   \n",
       "17         DATA & AI Strategy & Operations Analyst   \n",
       "18                            Becario de DATA & IA   \n",
       "19                  DATA & AI Scientist Consultant   \n",
       "20      DATA & AI Strategy & Operations Specialist   \n",
       "21                       DATA & AI Engineer Senior   \n",
       "22                        Subdirector de DATA & IA   \n",
       "23                   DATA & AI Engineer Specialist   \n",
       "24                  Data & AI Scientist Specialist   \n",
       "\n",
       "                           Vertical  \n",
       "0               DATA & AI Scientist  \n",
       "1   DATA & AI Strategy & Operations  \n",
       "2               DATA & AI Architect  \n",
       "3              DATA & AI Jerárquico  \n",
       "4                DATA & IA Business  \n",
       "5                DATA & IA Business  \n",
       "6                DATA & IA Business  \n",
       "7                DATA & IA Business  \n",
       "8   DATA & AI Strategy & Operations  \n",
       "9                DATA & IA Business  \n",
       "10              DATA & AI Scientist  \n",
       "11              DATA & AI Architect  \n",
       "12             DATA & AI Jerárquico  \n",
       "13            DATA & AI Engineering  \n",
       "14              DATA & AI Architect  \n",
       "15  DATA & AI Strategy & Operations  \n",
       "16             DATA & AI Jerárquico  \n",
       "17  DATA & AI Strategy & Operations  \n",
       "18             DATA & AI Jerárquico  \n",
       "19              DATA & AI Scientist  \n",
       "20  DATA & AI Strategy & Operations  \n",
       "21            DATA & AI Engineering  \n",
       "22             DATA & AI Jerárquico  \n",
       "23            DATA & AI Engineering  \n",
       "24              DATA & AI Scientist  "
      ]
     },
     "execution_count": 168,
     "metadata": {},
     "output_type": "execute_result"
    }
   ],
   "source": [
    "# Roles y Vertical\n",
    "\n",
    "df_roles_vertical = pd.merge(left     = df_dicts[\"Trabajadores\"][[\"Nuevo puesto\", \"Nueva vertical\"]].explode(\"Nueva vertical\").drop_duplicates(),\n",
    "                             right    = df_dicts[\"Verticales\"][[\"id\", \"Vertical\"]],\n",
    "                             left_on  = \"Nueva vertical\",\n",
    "                             right_on = \"id\",\n",
    "                             how      = \"left\")[[\"Nuevo puesto\", \"Vertical\"]]\n",
    "\n",
    "df_roles_vertical.columns = [\"Rol\", \"Vertical\"]\n",
    "\n",
    "df_roles_vertical"
   ]
  },
  {
   "cell_type": "code",
   "execution_count": 172,
   "id": "bfdf862a-44ae-4527-8101-15bb8c46abc4",
   "metadata": {},
   "outputs": [
    {
     "data": {
      "text/html": [
       "<div>\n",
       "<style scoped>\n",
       "    .dataframe tbody tr th:only-of-type {\n",
       "        vertical-align: middle;\n",
       "    }\n",
       "\n",
       "    .dataframe tbody tr th {\n",
       "        vertical-align: top;\n",
       "    }\n",
       "\n",
       "    .dataframe thead th {\n",
       "        text-align: right;\n",
       "    }\n",
       "</style>\n",
       "<table border=\"1\" class=\"dataframe\">\n",
       "  <thead>\n",
       "    <tr style=\"text-align: right;\">\n",
       "      <th></th>\n",
       "      <th>Vertical</th>\n",
       "      <th>Certificaciones</th>\n",
       "      <th>Rol</th>\n",
       "    </tr>\n",
       "  </thead>\n",
       "  <tbody>\n",
       "    <tr>\n",
       "      <th>0</th>\n",
       "      <td>DATA &amp; AI Architect</td>\n",
       "      <td>AWS Certified Advanced Networking Specialty</td>\n",
       "      <td>2</td>\n",
       "    </tr>\n",
       "    <tr>\n",
       "      <th>1</th>\n",
       "      <td>DATA &amp; AI Architect</td>\n",
       "      <td>AWS Certified Cloud Practitioner (CLF-C01)</td>\n",
       "      <td>1</td>\n",
       "    </tr>\n",
       "    <tr>\n",
       "      <th>2</th>\n",
       "      <td>DATA &amp; AI Architect</td>\n",
       "      <td>AWS Certified Data Analytics – Specialty (DAS-...</td>\n",
       "      <td>2</td>\n",
       "    </tr>\n",
       "    <tr>\n",
       "      <th>3</th>\n",
       "      <td>DATA &amp; AI Architect</td>\n",
       "      <td>AWS Certified DevOps Engineer – Professional (...</td>\n",
       "      <td>2</td>\n",
       "    </tr>\n",
       "    <tr>\n",
       "      <th>4</th>\n",
       "      <td>DATA &amp; AI Architect</td>\n",
       "      <td>AWS Certified Developer – Associate (DVA-C02)</td>\n",
       "      <td>2</td>\n",
       "    </tr>\n",
       "    <tr>\n",
       "      <th>...</th>\n",
       "      <td>...</td>\n",
       "      <td>...</td>\n",
       "      <td>...</td>\n",
       "    </tr>\n",
       "    <tr>\n",
       "      <th>100</th>\n",
       "      <td>DATA &amp; IA Business</td>\n",
       "      <td>Google Cloud Certified: Professional Data Engi...</td>\n",
       "      <td>1</td>\n",
       "    </tr>\n",
       "    <tr>\n",
       "      <th>101</th>\n",
       "      <td>DATA &amp; IA Business</td>\n",
       "      <td>Google Data Analytics Professional Certificate</td>\n",
       "      <td>1</td>\n",
       "    </tr>\n",
       "    <tr>\n",
       "      <th>102</th>\n",
       "      <td>DATA &amp; IA Business</td>\n",
       "      <td>Hugging Face Transformers Certification</td>\n",
       "      <td>1</td>\n",
       "    </tr>\n",
       "    <tr>\n",
       "      <th>103</th>\n",
       "      <td>DATA &amp; IA Business</td>\n",
       "      <td>NVIDIA Certified AI Developer</td>\n",
       "      <td>1</td>\n",
       "    </tr>\n",
       "    <tr>\n",
       "      <th>104</th>\n",
       "      <td>DATA &amp; IA Business</td>\n",
       "      <td>OpenAI API Certification (No oficial)</td>\n",
       "      <td>1</td>\n",
       "    </tr>\n",
       "  </tbody>\n",
       "</table>\n",
       "<p>105 rows × 3 columns</p>\n",
       "</div>"
      ],
      "text/plain": [
       "                Vertical                                    Certificaciones  \\\n",
       "0    DATA & AI Architect        AWS Certified Advanced Networking Specialty   \n",
       "1    DATA & AI Architect         AWS Certified Cloud Practitioner (CLF-C01)   \n",
       "2    DATA & AI Architect  AWS Certified Data Analytics – Specialty (DAS-...   \n",
       "3    DATA & AI Architect  AWS Certified DevOps Engineer – Professional (...   \n",
       "4    DATA & AI Architect      AWS Certified Developer – Associate (DVA-C02)   \n",
       "..                   ...                                                ...   \n",
       "100   DATA & IA Business  Google Cloud Certified: Professional Data Engi...   \n",
       "101   DATA & IA Business     Google Data Analytics Professional Certificate   \n",
       "102   DATA & IA Business            Hugging Face Transformers Certification   \n",
       "103   DATA & IA Business                      NVIDIA Certified AI Developer   \n",
       "104   DATA & IA Business              OpenAI API Certification (No oficial)   \n",
       "\n",
       "     Rol  \n",
       "0      2  \n",
       "1      1  \n",
       "2      2  \n",
       "3      2  \n",
       "4      2  \n",
       "..   ...  \n",
       "100    1  \n",
       "101    1  \n",
       "102    1  \n",
       "103    1  \n",
       "104    1  \n",
       "\n",
       "[105 rows x 3 columns]"
      ]
     },
     "execution_count": 172,
     "metadata": {},
     "output_type": "execute_result"
    }
   ],
   "source": [
    "pd.merge(left = df_rol_certificaciones,\n",
    "         right = df_roles_vertical,\n",
    "         left_on = \"Rol\",\n",
    "         right_on = \"Rol\",\n",
    "         how = \"inner\").groupby(by = [\"Vertical\", \"Certificaciones\"], as_index = False).agg({\"Rol\" : \"count\"})"
   ]
  },
  {
   "cell_type": "code",
   "execution_count": null,
   "id": "f84cea05-1754-45de-861b-f0bc09c62962",
   "metadata": {},
   "outputs": [],
   "source": []
  },
  {
   "cell_type": "code",
   "execution_count": 112,
   "id": "65f2cc0c-a641-4260-9b5d-743e1f799ce6",
   "metadata": {},
   "outputs": [
    {
     "data": {
      "text/html": [
       "<div>\n",
       "<style scoped>\n",
       "    .dataframe tbody tr th:only-of-type {\n",
       "        vertical-align: middle;\n",
       "    }\n",
       "\n",
       "    .dataframe tbody tr th {\n",
       "        vertical-align: top;\n",
       "    }\n",
       "\n",
       "    .dataframe thead th {\n",
       "        text-align: right;\n",
       "    }\n",
       "</style>\n",
       "<table border=\"1\" class=\"dataframe\">\n",
       "  <thead>\n",
       "    <tr style=\"text-align: right;\">\n",
       "      <th></th>\n",
       "      <th>Tecnología asociada</th>\n",
       "      <th>Roles</th>\n",
       "    </tr>\n",
       "  </thead>\n",
       "  <tbody>\n",
       "    <tr>\n",
       "      <th>0</th>\n",
       "      <td>AWS</td>\n",
       "      <td>41</td>\n",
       "    </tr>\n",
       "    <tr>\n",
       "      <th>2</th>\n",
       "      <td>Azure</td>\n",
       "      <td>31</td>\n",
       "    </tr>\n",
       "    <tr>\n",
       "      <th>11</th>\n",
       "      <td>Google Cloud</td>\n",
       "      <td>20</td>\n",
       "    </tr>\n",
       "    <tr>\n",
       "      <th>5</th>\n",
       "      <td>Databricks</td>\n",
       "      <td>14</td>\n",
       "    </tr>\n",
       "    <tr>\n",
       "      <th>8</th>\n",
       "      <td>General</td>\n",
       "      <td>11</td>\n",
       "    </tr>\n",
       "    <tr>\n",
       "      <th>18</th>\n",
       "      <td>Microsoft / Power BI</td>\n",
       "      <td>6</td>\n",
       "    </tr>\n",
       "    <tr>\n",
       "      <th>27</th>\n",
       "      <td>Snowflake</td>\n",
       "      <td>6</td>\n",
       "    </tr>\n",
       "    <tr>\n",
       "      <th>10</th>\n",
       "      <td>Google</td>\n",
       "      <td>5</td>\n",
       "    </tr>\n",
       "    <tr>\n",
       "      <th>3</th>\n",
       "      <td>DAMA</td>\n",
       "      <td>4</td>\n",
       "    </tr>\n",
       "    <tr>\n",
       "      <th>29</th>\n",
       "      <td>Terraform</td>\n",
       "      <td>4</td>\n",
       "    </tr>\n",
       "    <tr>\n",
       "      <th>23</th>\n",
       "      <td>SAFe</td>\n",
       "      <td>3</td>\n",
       "    </tr>\n",
       "    <tr>\n",
       "      <th>12</th>\n",
       "      <td>Hugging Face</td>\n",
       "      <td>3</td>\n",
       "    </tr>\n",
       "    <tr>\n",
       "      <th>7</th>\n",
       "      <td>Fabric</td>\n",
       "      <td>2</td>\n",
       "    </tr>\n",
       "    <tr>\n",
       "      <th>1</th>\n",
       "      <td>Arquitectura empresarial</td>\n",
       "      <td>2</td>\n",
       "    </tr>\n",
       "    <tr>\n",
       "      <th>26</th>\n",
       "      <td>Seguridad en la nube</td>\n",
       "      <td>2</td>\n",
       "    </tr>\n",
       "    <tr>\n",
       "      <th>24</th>\n",
       "      <td>Scrum.org</td>\n",
       "      <td>2</td>\n",
       "    </tr>\n",
       "    <tr>\n",
       "      <th>19</th>\n",
       "      <td>NVIDIA</td>\n",
       "      <td>2</td>\n",
       "    </tr>\n",
       "    <tr>\n",
       "      <th>21</th>\n",
       "      <td>OpenAI</td>\n",
       "      <td>2</td>\n",
       "    </tr>\n",
       "    <tr>\n",
       "      <th>22</th>\n",
       "      <td>PMI</td>\n",
       "      <td>2</td>\n",
       "    </tr>\n",
       "    <tr>\n",
       "      <th>15</th>\n",
       "      <td>Kubernetes</td>\n",
       "      <td>2</td>\n",
       "    </tr>\n",
       "    <tr>\n",
       "      <th>6</th>\n",
       "      <td>Enterprise Architecture</td>\n",
       "      <td>1</td>\n",
       "    </tr>\n",
       "    <tr>\n",
       "      <th>4</th>\n",
       "      <td>DAMA / ISO</td>\n",
       "      <td>1</td>\n",
       "    </tr>\n",
       "    <tr>\n",
       "      <th>13</th>\n",
       "      <td>IBM</td>\n",
       "      <td>1</td>\n",
       "    </tr>\n",
       "    <tr>\n",
       "      <th>9</th>\n",
       "      <td>General/Strategy</td>\n",
       "      <td>1</td>\n",
       "    </tr>\n",
       "    <tr>\n",
       "      <th>16</th>\n",
       "      <td>MIT Sloan</td>\n",
       "      <td>1</td>\n",
       "    </tr>\n",
       "    <tr>\n",
       "      <th>17</th>\n",
       "      <td>Microsoft</td>\n",
       "      <td>1</td>\n",
       "    </tr>\n",
       "    <tr>\n",
       "      <th>20</th>\n",
       "      <td>NVIDIA / Stanford</td>\n",
       "      <td>1</td>\n",
       "    </tr>\n",
       "    <tr>\n",
       "      <th>14</th>\n",
       "      <td>INSEAD</td>\n",
       "      <td>1</td>\n",
       "    </tr>\n",
       "    <tr>\n",
       "      <th>25</th>\n",
       "      <td>Scrum.org / ScrumStudy</td>\n",
       "      <td>1</td>\n",
       "    </tr>\n",
       "    <tr>\n",
       "      <th>28</th>\n",
       "      <td>Stanford</td>\n",
       "      <td>1</td>\n",
       "    </tr>\n",
       "  </tbody>\n",
       "</table>\n",
       "</div>"
      ],
      "text/plain": [
       "         Tecnología asociada  Roles\n",
       "0                        AWS     41\n",
       "2                      Azure     31\n",
       "11              Google Cloud     20\n",
       "5                 Databricks     14\n",
       "8                    General     11\n",
       "18      Microsoft / Power BI      6\n",
       "27                 Snowflake      6\n",
       "10                    Google      5\n",
       "3                       DAMA      4\n",
       "29                 Terraform      4\n",
       "23                      SAFe      3\n",
       "12              Hugging Face      3\n",
       "7                     Fabric      2\n",
       "1   Arquitectura empresarial      2\n",
       "26      Seguridad en la nube      2\n",
       "24                 Scrum.org      2\n",
       "19                    NVIDIA      2\n",
       "21                    OpenAI      2\n",
       "22                       PMI      2\n",
       "15                Kubernetes      2\n",
       "6    Enterprise Architecture      1\n",
       "4                 DAMA / ISO      1\n",
       "13                       IBM      1\n",
       "9           General/Strategy      1\n",
       "16                 MIT Sloan      1\n",
       "17                 Microsoft      1\n",
       "20         NVIDIA / Stanford      1\n",
       "14                    INSEAD      1\n",
       "25    Scrum.org / ScrumStudy      1\n",
       "28                  Stanford      1"
      ]
     },
     "execution_count": 112,
     "metadata": {},
     "output_type": "execute_result"
    }
   ],
   "source": [
    "# Tecnología asociada más predominante por Rol\n",
    "df_dicts[\"Certificaciones\"].explode(\"Roles\").groupby(by = \"Tecnología asociada\", as_index = False).agg({\"Roles\" : \"count\"}).sort_values(by = \"Roles\", ascending = False)"
   ]
  },
  {
   "cell_type": "code",
   "execution_count": 113,
   "id": "73d9aeec-4fd5-45e5-a799-1232c9de1d9d",
   "metadata": {},
   "outputs": [
    {
     "data": {
      "text/html": [
       "<div>\n",
       "<style scoped>\n",
       "    .dataframe tbody tr th:only-of-type {\n",
       "        vertical-align: middle;\n",
       "    }\n",
       "\n",
       "    .dataframe tbody tr th {\n",
       "        vertical-align: top;\n",
       "    }\n",
       "\n",
       "    .dataframe thead th {\n",
       "        text-align: right;\n",
       "    }\n",
       "</style>\n",
       "<table border=\"1\" class=\"dataframe\">\n",
       "  <thead>\n",
       "    <tr style=\"text-align: right;\">\n",
       "      <th></th>\n",
       "      <th>Nivel asociado</th>\n",
       "      <th>Roles</th>\n",
       "    </tr>\n",
       "  </thead>\n",
       "  <tbody>\n",
       "    <tr>\n",
       "      <th>0</th>\n",
       "      <td>Avanzado</td>\n",
       "      <td>84</td>\n",
       "    </tr>\n",
       "    <tr>\n",
       "      <th>2</th>\n",
       "      <td>Intermedio</td>\n",
       "      <td>61</td>\n",
       "    </tr>\n",
       "    <tr>\n",
       "      <th>1</th>\n",
       "      <td>Básico</td>\n",
       "      <td>29</td>\n",
       "    </tr>\n",
       "  </tbody>\n",
       "</table>\n",
       "</div>"
      ],
      "text/plain": [
       "  Nivel asociado  Roles\n",
       "0       Avanzado     84\n",
       "2     Intermedio     61\n",
       "1         Básico     29"
      ]
     },
     "execution_count": 113,
     "metadata": {},
     "output_type": "execute_result"
    }
   ],
   "source": [
    "# Nivel asociado más predominante por Rol\n",
    "df_dicts[\"Certificaciones\"].explode(\"Roles\").groupby(by = \"Nivel asociado\", as_index = False).agg({\"Roles\" : \"count\"}).sort_values(by = \"Roles\", ascending = False)"
   ]
  },
  {
   "cell_type": "code",
   "execution_count": 120,
   "id": "08f5fb1a-f677-457f-9ae8-26500a1508aa",
   "metadata": {},
   "outputs": [
    {
     "name": "stderr",
     "output_type": "stream",
     "text": [
      "C:\\Users\\danie\\AppData\\Local\\Temp\\ipykernel_19492\\342993451.py:5: FutureWarning:\n",
      "\n",
      "Series.__getitem__ treating keys as positions is deprecated. In a future version, integer keys will always be treated as labels (consistent with DataFrame behavior). To access a value by position, use `ser.iloc[pos]`\n",
      "\n"
     ]
    }
   ],
   "source": [
    "# Certificaciones por finalizadas por Rol\n",
    "\n",
    "# [x for x in df_dicts[\"Trabajadores\"].columns if \"ertifi\" in x]\n",
    "\n",
    "certificaciones_sin_finalizar = df_dicts[\"Trabajadores\"][[\"Certificaciones\", \"Certificaciones faltantes para el rol (INFORME)\"]].apply(lambda row : [x for x in row[1] if x not in row[0]] if type(row[0]) == list and type(row[1]) == list else row[1], axis = 1)"
   ]
  },
  {
   "cell_type": "code",
   "execution_count": 130,
   "id": "a63bb39b-b5de-4f33-975e-373dedaaaae3",
   "metadata": {},
   "outputs": [
    {
     "data": {
      "text/html": [
       "<div>\n",
       "<style scoped>\n",
       "    .dataframe tbody tr th:only-of-type {\n",
       "        vertical-align: middle;\n",
       "    }\n",
       "\n",
       "    .dataframe tbody tr th {\n",
       "        vertical-align: top;\n",
       "    }\n",
       "\n",
       "    .dataframe thead th {\n",
       "        text-align: right;\n",
       "    }\n",
       "</style>\n",
       "<table border=\"1\" class=\"dataframe\">\n",
       "  <thead>\n",
       "    <tr style=\"text-align: right;\">\n",
       "      <th></th>\n",
       "      <th>Certificaciones</th>\n",
       "      <th>id</th>\n",
       "    </tr>\n",
       "  </thead>\n",
       "  <tbody>\n",
       "    <tr>\n",
       "      <th>12</th>\n",
       "      <td>Azure AI Engineer Associate (AI-102)</td>\n",
       "      <td>30</td>\n",
       "    </tr>\n",
       "    <tr>\n",
       "      <th>7</th>\n",
       "      <td>AWS Certified Machine Learning – Specialty (ML...</td>\n",
       "      <td>30</td>\n",
       "    </tr>\n",
       "    <tr>\n",
       "      <th>4</th>\n",
       "      <td>AWS Certified Data Analytics – Specialty (DAS-...</td>\n",
       "      <td>29</td>\n",
       "    </tr>\n",
       "    <tr>\n",
       "      <th>34</th>\n",
       "      <td>Google Cloud Certified: Professional Data Engi...</td>\n",
       "      <td>27</td>\n",
       "    </tr>\n",
       "    <tr>\n",
       "      <th>35</th>\n",
       "      <td>Google Cloud Certified: Professional Machine L...</td>\n",
       "      <td>21</td>\n",
       "    </tr>\n",
       "    <tr>\n",
       "      <th>...</th>\n",
       "      <td>...</td>\n",
       "      <td>...</td>\n",
       "    </tr>\n",
       "    <tr>\n",
       "      <th>20</th>\n",
       "      <td>Certified Analytics Professional (CAP)</td>\n",
       "      <td>2</td>\n",
       "    </tr>\n",
       "    <tr>\n",
       "      <th>51</th>\n",
       "      <td>PgMP (Program Management Professional – PMI)</td>\n",
       "      <td>2</td>\n",
       "    </tr>\n",
       "    <tr>\n",
       "      <th>30</th>\n",
       "      <td>Financial Modeling and Forecasting Financial S...</td>\n",
       "      <td>1</td>\n",
       "    </tr>\n",
       "    <tr>\n",
       "      <th>50</th>\n",
       "      <td>PMI Agile Certified Practitioner (PMI-ACP)</td>\n",
       "      <td>1</td>\n",
       "    </tr>\n",
       "    <tr>\n",
       "      <th>55</th>\n",
       "      <td>SAFe Program Consultant (SPC)</td>\n",
       "      <td>1</td>\n",
       "    </tr>\n",
       "  </tbody>\n",
       "</table>\n",
       "<p>62 rows × 2 columns</p>\n",
       "</div>"
      ],
      "text/plain": [
       "                                      Certificaciones  id\n",
       "12               Azure AI Engineer Associate (AI-102)  30\n",
       "7   AWS Certified Machine Learning – Specialty (ML...  30\n",
       "4   AWS Certified Data Analytics – Specialty (DAS-...  29\n",
       "34  Google Cloud Certified: Professional Data Engi...  27\n",
       "35  Google Cloud Certified: Professional Machine L...  21\n",
       "..                                                ...  ..\n",
       "20             Certified Analytics Professional (CAP)   2\n",
       "51       PgMP (Program Management Professional – PMI)   2\n",
       "30  Financial Modeling and Forecasting Financial S...   1\n",
       "50         PMI Agile Certified Practitioner (PMI-ACP)   1\n",
       "55                      SAFe Program Consultant (SPC)   1\n",
       "\n",
       "[62 rows x 2 columns]"
      ]
     },
     "execution_count": 130,
     "metadata": {},
     "output_type": "execute_result"
    }
   ],
   "source": [
    "pd.merge(left     = pd.DataFrame(data = certificaciones_sin_finalizar.explode(), columns = [\"certificaciones_id\"]),\n",
    "         right    = df_dicts[\"Certificaciones\"],\n",
    "         left_on  = \"certificaciones_id\",\n",
    "         right_on = \"id\",\n",
    "         how      = \"left\").groupby(by = \"Certificaciones\", as_index = False).agg({\"id\" : \"count\"}).sort_values(\"id\", ascending = False)"
   ]
  },
  {
   "cell_type": "markdown",
   "id": "eb7f8dd3-f83a-44fe-8efe-d2c53db21c05",
   "metadata": {},
   "source": [
    "# Veredicto"
   ]
  },
  {
   "cell_type": "code",
   "execution_count": 210,
   "id": "dcca6ba9-8945-4019-85e0-1dfed1ecd927",
   "metadata": {},
   "outputs": [
    {
     "data": {
      "application/vnd.plotly.v1+json": {
       "config": {
        "plotlyServerURL": "https://plot.ly"
       },
       "data": [
        {
         "alignmentgroup": "True",
         "hovertemplate": "Veredicto=Cumple con el nivel y vertical asignado<br>Vertical=%{x}<br>count=%{y}<extra></extra>",
         "legendgroup": "Cumple con el nivel y vertical asignado",
         "marker": {
          "color": "#000001",
          "pattern": {
           "shape": ""
          }
         },
         "name": "Cumple con el nivel y vertical asignado",
         "offsetgroup": "Cumple con el nivel y vertical asignado",
         "orientation": "v",
         "showlegend": true,
         "textposition": "auto",
         "type": "bar",
         "x": [
          "DATA & AI Jerárquico",
          "DATA & AI Strategy & Operations",
          "DATA & AI Architect",
          "DATA & IA Business",
          "DATA & AI Scientist",
          "DATA & AI Engineering"
         ],
         "xaxis": "x",
         "y": [
          6,
          9,
          2,
          11,
          12,
          5
         ],
         "yaxis": "y"
        },
        {
         "alignmentgroup": "True",
         "hovertemplate": "Veredicto=Cumple la vertical, pero no con el nivel asignado<br>Vertical=%{x}<br>count=%{y}<extra></extra>",
         "legendgroup": "Cumple la vertical, pero no con el nivel asignado",
         "marker": {
          "color": "#000002",
          "pattern": {
           "shape": ""
          }
         },
         "name": "Cumple la vertical, pero no con el nivel asignado",
         "offsetgroup": "Cumple la vertical, pero no con el nivel asignado",
         "orientation": "v",
         "showlegend": true,
         "textposition": "auto",
         "type": "bar",
         "x": [
          "DATA & AI Architect",
          "DATA & IA Business",
          "DATA & AI Scientist",
          "DATA & AI Strategy & Operations",
          "DATA & AI Jerárquico",
          "DATA & AI Engineering"
         ],
         "xaxis": "x",
         "y": [
          2,
          2,
          2,
          3,
          1,
          6
         ],
         "yaxis": "y"
        },
        {
         "alignmentgroup": "True",
         "hovertemplate": "Veredicto=Excede el nivel de la vertical prevista<br>Vertical=%{x}<br>count=%{y}<extra></extra>",
         "legendgroup": "Excede el nivel de la vertical prevista",
         "marker": {
          "color": "#000003",
          "pattern": {
           "shape": ""
          }
         },
         "name": "Excede el nivel de la vertical prevista",
         "offsetgroup": "Excede el nivel de la vertical prevista",
         "orientation": "v",
         "showlegend": true,
         "textposition": "auto",
         "type": "bar",
         "x": [
          "DATA & AI Strategy & Operations",
          "DATA & IA Business"
         ],
         "xaxis": "x",
         "y": [
          2,
          2
         ],
         "yaxis": "y"
        },
        {
         "alignmentgroup": "True",
         "hovertemplate": "Veredicto=Cumple con el nivel, pero no con la vertical asignada<br>Vertical=%{x}<br>count=%{y}<extra></extra>",
         "legendgroup": "Cumple con el nivel, pero no con la vertical asignada",
         "marker": {
          "color": "#000004",
          "pattern": {
           "shape": ""
          }
         },
         "name": "Cumple con el nivel, pero no con la vertical asignada",
         "offsetgroup": "Cumple con el nivel, pero no con la vertical asignada",
         "orientation": "v",
         "showlegend": true,
         "textposition": "auto",
         "type": "bar",
         "x": [
          "DATA & AI Scientist"
         ],
         "xaxis": "x",
         "y": [
          2
         ],
         "yaxis": "y"
        },
        {
         "alignmentgroup": "True",
         "hovertemplate": "Veredicto=No cumple con nivel, ni vertical previsto<br>Vertical=%{x}<br>count=%{y}<extra></extra>",
         "legendgroup": "No cumple con nivel, ni vertical previsto",
         "marker": {
          "color": "#000005",
          "pattern": {
           "shape": ""
          }
         },
         "name": "No cumple con nivel, ni vertical previsto",
         "offsetgroup": "No cumple con nivel, ni vertical previsto",
         "orientation": "v",
         "showlegend": true,
         "textposition": "auto",
         "type": "bar",
         "x": [
          "DATA & AI Scientist",
          "DATA & AI Strategy & Operations"
         ],
         "xaxis": "x",
         "y": [
          1,
          1
         ],
         "yaxis": "y"
        }
       ],
       "layout": {
        "barmode": "relative",
        "legend": {
         "title": {
          "text": "Veredicto"
         },
         "tracegroupgap": 0
        },
        "margin": {
         "t": 60
        },
        "template": {
         "data": {
          "candlestick": [
           {
            "decreasing": {
             "line": {
              "color": "#000033"
             }
            },
            "increasing": {
             "line": {
              "color": "#000032"
             }
            },
            "type": "candlestick"
           }
          ],
          "contour": [
           {
            "colorscale": [
             [
              0,
              "#000011"
             ],
             [
              0.1111111111111111,
              "#000012"
             ],
             [
              0.2222222222222222,
              "#000013"
             ],
             [
              0.3333333333333333,
              "#000014"
             ],
             [
              0.4444444444444444,
              "#000015"
             ],
             [
              0.5555555555555556,
              "#000016"
             ],
             [
              0.6666666666666666,
              "#000017"
             ],
             [
              0.7777777777777778,
              "#000018"
             ],
             [
              0.8888888888888888,
              "#000019"
             ],
             [
              1,
              "#000020"
             ]
            ],
            "type": "contour"
           }
          ],
          "contourcarpet": [
           {
            "colorscale": [
             [
              0,
              "#000011"
             ],
             [
              0.1111111111111111,
              "#000012"
             ],
             [
              0.2222222222222222,
              "#000013"
             ],
             [
              0.3333333333333333,
              "#000014"
             ],
             [
              0.4444444444444444,
              "#000015"
             ],
             [
              0.5555555555555556,
              "#000016"
             ],
             [
              0.6666666666666666,
              "#000017"
             ],
             [
              0.7777777777777778,
              "#000018"
             ],
             [
              0.8888888888888888,
              "#000019"
             ],
             [
              1,
              "#000020"
             ]
            ],
            "type": "contourcarpet"
           }
          ],
          "heatmap": [
           {
            "colorscale": [
             [
              0,
              "#000011"
             ],
             [
              0.1111111111111111,
              "#000012"
             ],
             [
              0.2222222222222222,
              "#000013"
             ],
             [
              0.3333333333333333,
              "#000014"
             ],
             [
              0.4444444444444444,
              "#000015"
             ],
             [
              0.5555555555555556,
              "#000016"
             ],
             [
              0.6666666666666666,
              "#000017"
             ],
             [
              0.7777777777777778,
              "#000018"
             ],
             [
              0.8888888888888888,
              "#000019"
             ],
             [
              1,
              "#000020"
             ]
            ],
            "type": "heatmap"
           }
          ],
          "histogram2d": [
           {
            "colorscale": [
             [
              0,
              "#000011"
             ],
             [
              0.1111111111111111,
              "#000012"
             ],
             [
              0.2222222222222222,
              "#000013"
             ],
             [
              0.3333333333333333,
              "#000014"
             ],
             [
              0.4444444444444444,
              "#000015"
             ],
             [
              0.5555555555555556,
              "#000016"
             ],
             [
              0.6666666666666666,
              "#000017"
             ],
             [
              0.7777777777777778,
              "#000018"
             ],
             [
              0.8888888888888888,
              "#000019"
             ],
             [
              1,
              "#000020"
             ]
            ],
            "type": "histogram2d"
           }
          ],
          "icicle": [
           {
            "textfont": {
             "color": "white"
            },
            "type": "icicle"
           }
          ],
          "sankey": [
           {
            "textfont": {
             "color": "#000036"
            },
            "type": "sankey"
           }
          ],
          "scatter": [
           {
            "marker": {
             "line": {
              "width": 0
             }
            },
            "type": "scatter"
           }
          ],
          "table": [
           {
            "cells": {
             "fill": {
              "color": "#000038"
             },
             "font": {
              "color": "#000037"
             },
             "line": {
              "color": "#000039"
             }
            },
            "header": {
             "fill": {
              "color": "#000040"
             },
             "font": {
              "color": "#000036"
             },
             "line": {
              "color": "#000039"
             }
            },
            "type": "table"
           }
          ],
          "waterfall": [
           {
            "connector": {
             "line": {
              "color": "#000036",
              "width": 2
             }
            },
            "decreasing": {
             "marker": {
              "color": "#000033"
             }
            },
            "increasing": {
             "marker": {
              "color": "#000032"
             }
            },
            "totals": {
             "marker": {
              "color": "#000034"
             }
            },
            "type": "waterfall"
           }
          ]
         },
         "layout": {
          "coloraxis": {
           "colorscale": [
            [
             0,
             "#000011"
            ],
            [
             0.1111111111111111,
             "#000012"
            ],
            [
             0.2222222222222222,
             "#000013"
            ],
            [
             0.3333333333333333,
             "#000014"
            ],
            [
             0.4444444444444444,
             "#000015"
            ],
            [
             0.5555555555555556,
             "#000016"
            ],
            [
             0.6666666666666666,
             "#000017"
            ],
            [
             0.7777777777777778,
             "#000018"
            ],
            [
             0.8888888888888888,
             "#000019"
            ],
            [
             1,
             "#000020"
            ]
           ]
          },
          "colorscale": {
           "diverging": [
            [
             0,
             "#000021"
            ],
            [
             0.1,
             "#000022"
            ],
            [
             0.2,
             "#000023"
            ],
            [
             0.3,
             "#000024"
            ],
            [
             0.4,
             "#000025"
            ],
            [
             0.5,
             "#000026"
            ],
            [
             0.6,
             "#000027"
            ],
            [
             0.7,
             "#000028"
            ],
            [
             0.8,
             "#000029"
            ],
            [
             0.9,
             "#000030"
            ],
            [
             1,
             "#000031"
            ]
           ],
           "sequential": [
            [
             0,
             "#000011"
            ],
            [
             0.1111111111111111,
             "#000012"
            ],
            [
             0.2222222222222222,
             "#000013"
            ],
            [
             0.3333333333333333,
             "#000014"
            ],
            [
             0.4444444444444444,
             "#000015"
            ],
            [
             0.5555555555555556,
             "#000016"
            ],
            [
             0.6666666666666666,
             "#000017"
            ],
            [
             0.7777777777777778,
             "#000018"
            ],
            [
             0.8888888888888888,
             "#000019"
            ],
            [
             1,
             "#000020"
            ]
           ],
           "sequentialminus": [
            [
             0,
             "#000011"
            ],
            [
             0.1111111111111111,
             "#000012"
            ],
            [
             0.2222222222222222,
             "#000013"
            ],
            [
             0.3333333333333333,
             "#000014"
            ],
            [
             0.4444444444444444,
             "#000015"
            ],
            [
             0.5555555555555556,
             "#000016"
            ],
            [
             0.6666666666666666,
             "#000017"
            ],
            [
             0.7777777777777778,
             "#000018"
            ],
            [
             0.8888888888888888,
             "#000019"
            ],
            [
             1,
             "#000020"
            ]
           ]
          },
          "colorway": [
           "#000001",
           "#000002",
           "#000003",
           "#000004",
           "#000005",
           "#000006",
           "#000007",
           "#000008",
           "#000009",
           "#000010"
          ]
         }
        },
        "xaxis": {
         "anchor": "y",
         "domain": [
          0,
          1
         ],
         "title": {
          "text": "Vertical"
         }
        },
        "yaxis": {
         "anchor": "x",
         "domain": [
          0,
          1
         ],
         "title": {
          "text": "count"
         }
        }
       }
      },
      "image/png": "[encoded data removed]",
      "text/html": [
       "<div>                            <div id=\"6cfbf402-41d5-40ba-ba14-d5b33c59b2db\" class=\"plotly-graph-div\" style=\"height:525px; width:100%;\"></div>            <script type=\"text/javascript\">                require([\"plotly\"], function(Plotly) {                    window.PLOTLYENV=window.PLOTLYENV || {};                                    if (document.getElementById(\"6cfbf402-41d5-40ba-ba14-d5b33c59b2db\")) {                    Plotly.newPlot(                        \"6cfbf402-41d5-40ba-ba14-d5b33c59b2db\",                        [{\"alignmentgroup\":\"True\",\"hovertemplate\":\"Veredicto=Cumple con el nivel y vertical asignado\\u003cbr\\u003eVertical=%{x}\\u003cbr\\u003ecount=%{y}\\u003cextra\\u003e\\u003c\\u002fextra\\u003e\",\"legendgroup\":\"Cumple con el nivel y vertical asignado\",\"marker\":{\"color\":\"#000001\",\"pattern\":{\"shape\":\"\"}},\"name\":\"Cumple con el nivel y vertical asignado\",\"offsetgroup\":\"Cumple con el nivel y vertical asignado\",\"orientation\":\"v\",\"showlegend\":true,\"textposition\":\"auto\",\"x\":[\"DATA & AI Jer\\u00e1rquico\",\"DATA & AI Strategy & Operations\",\"DATA & AI Architect\",\"DATA & IA Business\",\"DATA & AI Scientist\",\"DATA & AI Engineering\"],\"xaxis\":\"x\",\"y\":[6,9,2,11,12,5],\"yaxis\":\"y\",\"type\":\"bar\"},{\"alignmentgroup\":\"True\",\"hovertemplate\":\"Veredicto=Cumple la vertical, pero no con el nivel asignado\\u003cbr\\u003eVertical=%{x}\\u003cbr\\u003ecount=%{y}\\u003cextra\\u003e\\u003c\\u002fextra\\u003e\",\"legendgroup\":\"Cumple la vertical, pero no con el nivel asignado\",\"marker\":{\"color\":\"#000002\",\"pattern\":{\"shape\":\"\"}},\"name\":\"Cumple la vertical, pero no con el nivel asignado\",\"offsetgroup\":\"Cumple la vertical, pero no con el nivel asignado\",\"orientation\":\"v\",\"showlegend\":true,\"textposition\":\"auto\",\"x\":[\"DATA & AI Architect\",\"DATA & IA Business\",\"DATA & AI Scientist\",\"DATA & AI Strategy & Operations\",\"DATA & AI Jer\\u00e1rquico\",\"DATA & AI Engineering\"],\"xaxis\":\"x\",\"y\":[2,2,2,3,1,6],\"yaxis\":\"y\",\"type\":\"bar\"},{\"alignmentgroup\":\"True\",\"hovertemplate\":\"Veredicto=Excede el nivel de la vertical prevista\\u003cbr\\u003eVertical=%{x}\\u003cbr\\u003ecount=%{y}\\u003cextra\\u003e\\u003c\\u002fextra\\u003e\",\"legendgroup\":\"Excede el nivel de la vertical prevista\",\"marker\":{\"color\":\"#000003\",\"pattern\":{\"shape\":\"\"}},\"name\":\"Excede el nivel de la vertical prevista\",\"offsetgroup\":\"Excede el nivel de la vertical prevista\",\"orientation\":\"v\",\"showlegend\":true,\"textposition\":\"auto\",\"x\":[\"DATA & AI Strategy & Operations\",\"DATA & IA Business\"],\"xaxis\":\"x\",\"y\":[2,2],\"yaxis\":\"y\",\"type\":\"bar\"},{\"alignmentgroup\":\"True\",\"hovertemplate\":\"Veredicto=Cumple con el nivel, pero no con la vertical asignada\\u003cbr\\u003eVertical=%{x}\\u003cbr\\u003ecount=%{y}\\u003cextra\\u003e\\u003c\\u002fextra\\u003e\",\"legendgroup\":\"Cumple con el nivel, pero no con la vertical asignada\",\"marker\":{\"color\":\"#000004\",\"pattern\":{\"shape\":\"\"}},\"name\":\"Cumple con el nivel, pero no con la vertical asignada\",\"offsetgroup\":\"Cumple con el nivel, pero no con la vertical asignada\",\"orientation\":\"v\",\"showlegend\":true,\"textposition\":\"auto\",\"x\":[\"DATA & AI Scientist\"],\"xaxis\":\"x\",\"y\":[2],\"yaxis\":\"y\",\"type\":\"bar\"},{\"alignmentgroup\":\"True\",\"hovertemplate\":\"Veredicto=No cumple con nivel, ni vertical previsto\\u003cbr\\u003eVertical=%{x}\\u003cbr\\u003ecount=%{y}\\u003cextra\\u003e\\u003c\\u002fextra\\u003e\",\"legendgroup\":\"No cumple con nivel, ni vertical previsto\",\"marker\":{\"color\":\"#000005\",\"pattern\":{\"shape\":\"\"}},\"name\":\"No cumple con nivel, ni vertical previsto\",\"offsetgroup\":\"No cumple con nivel, ni vertical previsto\",\"orientation\":\"v\",\"showlegend\":true,\"textposition\":\"auto\",\"x\":[\"DATA & AI Scientist\",\"DATA & AI Strategy & Operations\"],\"xaxis\":\"x\",\"y\":[1,1],\"yaxis\":\"y\",\"type\":\"bar\"}],                        {\"template\":{\"data\":{\"candlestick\":[{\"decreasing\":{\"line\":{\"color\":\"#000033\"}},\"increasing\":{\"line\":{\"color\":\"#000032\"}},\"type\":\"candlestick\"}],\"contourcarpet\":[{\"colorscale\":[[0.0,\"#000011\"],[0.1111111111111111,\"#000012\"],[0.2222222222222222,\"#000013\"],[0.3333333333333333,\"#000014\"],[0.4444444444444444,\"#000015\"],[0.5555555555555556,\"#000016\"],[0.6666666666666666,\"#000017\"],[0.7777777777777778,\"#000018\"],[0.8888888888888888,\"#000019\"],[1.0,\"#000020\"]],\"type\":\"contourcarpet\"}],\"contour\":[{\"colorscale\":[[0.0,\"#000011\"],[0.1111111111111111,\"#000012\"],[0.2222222222222222,\"#000013\"],[0.3333333333333333,\"#000014\"],[0.4444444444444444,\"#000015\"],[0.5555555555555556,\"#000016\"],[0.6666666666666666,\"#000017\"],[0.7777777777777778,\"#000018\"],[0.8888888888888888,\"#000019\"],[1.0,\"#000020\"]],\"type\":\"contour\"}],\"heatmap\":[{\"colorscale\":[[0.0,\"#000011\"],[0.1111111111111111,\"#000012\"],[0.2222222222222222,\"#000013\"],[0.3333333333333333,\"#000014\"],[0.4444444444444444,\"#000015\"],[0.5555555555555556,\"#000016\"],[0.6666666666666666,\"#000017\"],[0.7777777777777778,\"#000018\"],[0.8888888888888888,\"#000019\"],[1.0,\"#000020\"]],\"type\":\"heatmap\"}],\"histogram2d\":[{\"colorscale\":[[0.0,\"#000011\"],[0.1111111111111111,\"#000012\"],[0.2222222222222222,\"#000013\"],[0.3333333333333333,\"#000014\"],[0.4444444444444444,\"#000015\"],[0.5555555555555556,\"#000016\"],[0.6666666666666666,\"#000017\"],[0.7777777777777778,\"#000018\"],[0.8888888888888888,\"#000019\"],[1.0,\"#000020\"]],\"type\":\"histogram2d\"}],\"icicle\":[{\"textfont\":{\"color\":\"white\"},\"type\":\"icicle\"}],\"sankey\":[{\"textfont\":{\"color\":\"#000036\"},\"type\":\"sankey\"}],\"scatter\":[{\"marker\":{\"line\":{\"width\":0}},\"type\":\"scatter\"}],\"table\":[{\"cells\":{\"fill\":{\"color\":\"#000038\"},\"font\":{\"color\":\"#000037\"},\"line\":{\"color\":\"#000039\"}},\"header\":{\"fill\":{\"color\":\"#000040\"},\"font\":{\"color\":\"#000036\"},\"line\":{\"color\":\"#000039\"}},\"type\":\"table\"}],\"waterfall\":[{\"connector\":{\"line\":{\"color\":\"#000036\",\"width\":2}},\"decreasing\":{\"marker\":{\"color\":\"#000033\"}},\"increasing\":{\"marker\":{\"color\":\"#000032\"}},\"totals\":{\"marker\":{\"color\":\"#000034\"}},\"type\":\"waterfall\"}]},\"layout\":{\"coloraxis\":{\"colorscale\":[[0.0,\"#000011\"],[0.1111111111111111,\"#000012\"],[0.2222222222222222,\"#000013\"],[0.3333333333333333,\"#000014\"],[0.4444444444444444,\"#000015\"],[0.5555555555555556,\"#000016\"],[0.6666666666666666,\"#000017\"],[0.7777777777777778,\"#000018\"],[0.8888888888888888,\"#000019\"],[1.0,\"#000020\"]]},\"colorscale\":{\"diverging\":[[0.0,\"#000021\"],[0.1,\"#000022\"],[0.2,\"#000023\"],[0.3,\"#000024\"],[0.4,\"#000025\"],[0.5,\"#000026\"],[0.6,\"#000027\"],[0.7,\"#000028\"],[0.8,\"#000029\"],[0.9,\"#000030\"],[1.0,\"#000031\"]],\"sequential\":[[0.0,\"#000011\"],[0.1111111111111111,\"#000012\"],[0.2222222222222222,\"#000013\"],[0.3333333333333333,\"#000014\"],[0.4444444444444444,\"#000015\"],[0.5555555555555556,\"#000016\"],[0.6666666666666666,\"#000017\"],[0.7777777777777778,\"#000018\"],[0.8888888888888888,\"#000019\"],[1.0,\"#000020\"]],\"sequentialminus\":[[0.0,\"#000011\"],[0.1111111111111111,\"#000012\"],[0.2222222222222222,\"#000013\"],[0.3333333333333333,\"#000014\"],[0.4444444444444444,\"#000015\"],[0.5555555555555556,\"#000016\"],[0.6666666666666666,\"#000017\"],[0.7777777777777778,\"#000018\"],[0.8888888888888888,\"#000019\"],[1.0,\"#000020\"]]},\"colorway\":[\"#000001\",\"#000002\",\"#000003\",\"#000004\",\"#000005\",\"#000006\",\"#000007\",\"#000008\",\"#000009\",\"#000010\"]}},\"xaxis\":{\"anchor\":\"y\",\"domain\":[0.0,1.0],\"title\":{\"text\":\"Vertical\"}},\"yaxis\":{\"anchor\":\"x\",\"domain\":[0.0,1.0],\"title\":{\"text\":\"count\"}},\"legend\":{\"title\":{\"text\":\"Veredicto\"},\"tracegroupgap\":0},\"margin\":{\"t\":60},\"barmode\":\"relative\"},                        {\"responsive\": true}                    ).then(function(){\n",
       "                            \n",
       "var gd = document.getElementById('6cfbf402-41d5-40ba-ba14-d5b33c59b2db');\n",
       "var x = new MutationObserver(function (mutations, observer) {{\n",
       "        var display = window.getComputedStyle(gd).display;\n",
       "        if (!display || display === 'none') {{\n",
       "            console.log([gd, 'removed!']);\n",
       "            Plotly.purge(gd);\n",
       "            observer.disconnect();\n",
       "        }}\n",
       "}});\n",
       "\n",
       "// Listen for the removal of the full notebook cells\n",
       "var notebookContainer = gd.closest('#notebook-container');\n",
       "if (notebookContainer) {{\n",
       "    x.observe(notebookContainer, {childList: true});\n",
       "}}\n",
       "\n",
       "// Listen for the clearing of the current output cell\n",
       "var outputEl = gd.closest('.output');\n",
       "if (outputEl) {{\n",
       "    x.observe(outputEl, {childList: true});\n",
       "}}\n",
       "\n",
       "                        })                };                });            </script>        </div>"
      ]
     },
     "metadata": {},
     "output_type": "display_data"
    }
   ],
   "source": [
    "# Vertical y Veredicto\n",
    "\n",
    "def grafica_veredicto_vertical(df_dicts):\n",
    "    df_vertical_veredicto = pd.merge(left = df_dicts[\"Trabajadores\"].explode(\"Nueva vertical\").groupby(by = [\"Nueva vertical\", \"Veredicto\"], as_index = False).agg({\"id\" : \"count\"}),\n",
    "                                     right = df_dicts[\"Verticales\"][[\"id\", \"Vertical\"]],\n",
    "                                     left_on = \"Nueva vertical\",\n",
    "                                     right_on = \"id\")[[\"Vertical\", \"Veredicto\", \"id_x\"]]\n",
    "    \n",
    "    df_vertical_veredicto.columns = [\"Vertical\", \"Veredicto\", \"count\"]\n",
    "    \n",
    "    veredicto_orden = [\"Cumple con el nivel y vertical asignado\",\n",
    "                       \"Cumple la vertical, pero no con el nivel asignado\",\n",
    "                       \"Excede el nivel de la vertical prevista\",\n",
    "                       \"Cumple con el nivel, pero no con la vertical asignada\",\n",
    "                       \"No cumple con nivel, ni vertical previsto\"]\n",
    "    \n",
    "    df_vertical_veredicto[\"Veredicto\"] = pd.Categorical(df_vertical_veredicto[\"Veredicto\"], categories = veredicto_orden, ordered = True)\n",
    "    df_vertical_veredicto = df_vertical_veredicto.sort_values(\"Veredicto\")\n",
    "    \n",
    "    fig = px.bar(data_frame = df_vertical_veredicto, x = \"Vertical\", y = \"count\", color = \"Veredicto\")\n",
    "\n",
    "    return fig\n",
    "\n",
    "grafica_veredicto_vertical(df_dicts)"
   ]
  },
  {
   "cell_type": "code",
   "execution_count": 191,
   "id": "67a8dd9e-26bc-4121-9830-f989d7d4c4cf",
   "metadata": {},
   "outputs": [
    {
     "data": {
      "application/vnd.plotly.v1+json": {
       "config": {
        "plotlyServerURL": "https://plot.ly"
       },
       "data": [
        {
         "alignmentgroup": "True",
         "hovertemplate": "Veredicto=Cumple con el nivel y vertical asignado<br>Vertical=%{x}<br>count=%{y}<extra></extra>",
         "legendgroup": "Cumple con el nivel y vertical asignado",
         "marker": {
          "color": "#000001",
          "pattern": {
           "shape": ""
          }
         },
         "name": "Cumple con el nivel y vertical asignado",
         "offsetgroup": "Cumple con el nivel y vertical asignado",
         "orientation": "v",
         "showlegend": true,
         "textposition": "auto",
         "type": "bar",
         "x": [
          "DATA & AI Jerárquico",
          "DATA & AI Strategy & Operations",
          "DATA & AI Architect",
          "DATA & IA Business",
          "DATA & AI Scientist",
          "DATA & AI Engineering"
         ],
         "xaxis": "x",
         "y": [
          6,
          9,
          2,
          11,
          12,
          5
         ],
         "yaxis": "y"
        },
        {
         "alignmentgroup": "True",
         "hovertemplate": "Veredicto=Cumple la vertical, pero no con el nivel asignado<br>Vertical=%{x}<br>count=%{y}<extra></extra>",
         "legendgroup": "Cumple la vertical, pero no con el nivel asignado",
         "marker": {
          "color": "#000002",
          "pattern": {
           "shape": ""
          }
         },
         "name": "Cumple la vertical, pero no con el nivel asignado",
         "offsetgroup": "Cumple la vertical, pero no con el nivel asignado",
         "orientation": "v",
         "showlegend": true,
         "textposition": "auto",
         "type": "bar",
         "x": [
          "DATA & AI Architect",
          "DATA & IA Business",
          "DATA & AI Scientist",
          "DATA & AI Strategy & Operations",
          "DATA & AI Jerárquico",
          "DATA & AI Engineering"
         ],
         "xaxis": "x",
         "y": [
          2,
          2,
          2,
          3,
          1,
          6
         ],
         "yaxis": "y"
        },
        {
         "alignmentgroup": "True",
         "hovertemplate": "Veredicto=Excede el nivel de la vertical prevista<br>Vertical=%{x}<br>count=%{y}<extra></extra>",
         "legendgroup": "Excede el nivel de la vertical prevista",
         "marker": {
          "color": "#000003",
          "pattern": {
           "shape": ""
          }
         },
         "name": "Excede el nivel de la vertical prevista",
         "offsetgroup": "Excede el nivel de la vertical prevista",
         "orientation": "v",
         "showlegend": true,
         "textposition": "auto",
         "type": "bar",
         "x": [
          "DATA & AI Strategy & Operations",
          "DATA & IA Business"
         ],
         "xaxis": "x",
         "y": [
          2,
          2
         ],
         "yaxis": "y"
        },
        {
         "alignmentgroup": "True",
         "hovertemplate": "Veredicto=Cumple con el nivel, pero no con la vertical asignada<br>Vertical=%{x}<br>count=%{y}<extra></extra>",
         "legendgroup": "Cumple con el nivel, pero no con la vertical asignada",
         "marker": {
          "color": "#000004",
          "pattern": {
           "shape": ""
          }
         },
         "name": "Cumple con el nivel, pero no con la vertical asignada",
         "offsetgroup": "Cumple con el nivel, pero no con la vertical asignada",
         "orientation": "v",
         "showlegend": true,
         "textposition": "auto",
         "type": "bar",
         "x": [
          "DATA & AI Scientist"
         ],
         "xaxis": "x",
         "y": [
          2
         ],
         "yaxis": "y"
        },
        {
         "alignmentgroup": "True",
         "hovertemplate": "Veredicto=No cumple con nivel, ni vertical previsto<br>Vertical=%{x}<br>count=%{y}<extra></extra>",
         "legendgroup": "No cumple con nivel, ni vertical previsto",
         "marker": {
          "color": "#000005",
          "pattern": {
           "shape": ""
          }
         },
         "name": "No cumple con nivel, ni vertical previsto",
         "offsetgroup": "No cumple con nivel, ni vertical previsto",
         "orientation": "v",
         "showlegend": true,
         "textposition": "auto",
         "type": "bar",
         "x": [
          "DATA & AI Scientist",
          "DATA & AI Strategy & Operations"
         ],
         "xaxis": "x",
         "y": [
          1,
          1
         ],
         "yaxis": "y"
        }
       ],
       "layout": {
        "barmode": "relative",
        "legend": {
         "title": {
          "text": "Veredicto"
         },
         "tracegroupgap": 0
        },
        "margin": {
         "t": 60
        },
        "template": {
         "data": {
          "candlestick": [
           {
            "decreasing": {
             "line": {
              "color": "#000033"
             }
            },
            "increasing": {
             "line": {
              "color": "#000032"
             }
            },
            "type": "candlestick"
           }
          ],
          "contour": [
           {
            "colorscale": [
             [
              0,
              "#000011"
             ],
             [
              0.1111111111111111,
              "#000012"
             ],
             [
              0.2222222222222222,
              "#000013"
             ],
             [
              0.3333333333333333,
              "#000014"
             ],
             [
              0.4444444444444444,
              "#000015"
             ],
             [
              0.5555555555555556,
              "#000016"
             ],
             [
              0.6666666666666666,
              "#000017"
             ],
             [
              0.7777777777777778,
              "#000018"
             ],
             [
              0.8888888888888888,
              "#000019"
             ],
             [
              1,
              "#000020"
             ]
            ],
            "type": "contour"
           }
          ],
          "contourcarpet": [
           {
            "colorscale": [
             [
              0,
              "#000011"
             ],
             [
              0.1111111111111111,
              "#000012"
             ],
             [
              0.2222222222222222,
              "#000013"
             ],
             [
              0.3333333333333333,
              "#000014"
             ],
             [
              0.4444444444444444,
              "#000015"
             ],
             [
              0.5555555555555556,
              "#000016"
             ],
             [
              0.6666666666666666,
              "#000017"
             ],
             [
              0.7777777777777778,
              "#000018"
             ],
             [
              0.8888888888888888,
              "#000019"
             ],
             [
              1,
              "#000020"
             ]
            ],
            "type": "contourcarpet"
           }
          ],
          "heatmap": [
           {
            "colorscale": [
             [
              0,
              "#000011"
             ],
             [
              0.1111111111111111,
              "#000012"
             ],
             [
              0.2222222222222222,
              "#000013"
             ],
             [
              0.3333333333333333,
              "#000014"
             ],
             [
              0.4444444444444444,
              "#000015"
             ],
             [
              0.5555555555555556,
              "#000016"
             ],
             [
              0.6666666666666666,
              "#000017"
             ],
             [
              0.7777777777777778,
              "#000018"
             ],
             [
              0.8888888888888888,
              "#000019"
             ],
             [
              1,
              "#000020"
             ]
            ],
            "type": "heatmap"
           }
          ],
          "histogram2d": [
           {
            "colorscale": [
             [
              0,
              "#000011"
             ],
             [
              0.1111111111111111,
              "#000012"
             ],
             [
              0.2222222222222222,
              "#000013"
             ],
             [
              0.3333333333333333,
              "#000014"
             ],
             [
              0.4444444444444444,
              "#000015"
             ],
             [
              0.5555555555555556,
              "#000016"
             ],
             [
              0.6666666666666666,
              "#000017"
             ],
             [
              0.7777777777777778,
              "#000018"
             ],
             [
              0.8888888888888888,
              "#000019"
             ],
             [
              1,
              "#000020"
             ]
            ],
            "type": "histogram2d"
           }
          ],
          "icicle": [
           {
            "textfont": {
             "color": "white"
            },
            "type": "icicle"
           }
          ],
          "sankey": [
           {
            "textfont": {
             "color": "#000036"
            },
            "type": "sankey"
           }
          ],
          "scatter": [
           {
            "marker": {
             "line": {
              "width": 0
             }
            },
            "type": "scatter"
           }
          ],
          "table": [
           {
            "cells": {
             "fill": {
              "color": "#000038"
             },
             "font": {
              "color": "#000037"
             },
             "line": {
              "color": "#000039"
             }
            },
            "header": {
             "fill": {
              "color": "#000040"
             },
             "font": {
              "color": "#000036"
             },
             "line": {
              "color": "#000039"
             }
            },
            "type": "table"
           }
          ],
          "waterfall": [
           {
            "connector": {
             "line": {
              "color": "#000036",
              "width": 2
             }
            },
            "decreasing": {
             "marker": {
              "color": "#000033"
             }
            },
            "increasing": {
             "marker": {
              "color": "#000032"
             }
            },
            "totals": {
             "marker": {
              "color": "#000034"
             }
            },
            "type": "waterfall"
           }
          ]
         },
         "layout": {
          "coloraxis": {
           "colorscale": [
            [
             0,
             "#000011"
            ],
            [
             0.1111111111111111,
             "#000012"
            ],
            [
             0.2222222222222222,
             "#000013"
            ],
            [
             0.3333333333333333,
             "#000014"
            ],
            [
             0.4444444444444444,
             "#000015"
            ],
            [
             0.5555555555555556,
             "#000016"
            ],
            [
             0.6666666666666666,
             "#000017"
            ],
            [
             0.7777777777777778,
             "#000018"
            ],
            [
             0.8888888888888888,
             "#000019"
            ],
            [
             1,
             "#000020"
            ]
           ]
          },
          "colorscale": {
           "diverging": [
            [
             0,
             "#000021"
            ],
            [
             0.1,
             "#000022"
            ],
            [
             0.2,
             "#000023"
            ],
            [
             0.3,
             "#000024"
            ],
            [
             0.4,
             "#000025"
            ],
            [
             0.5,
             "#000026"
            ],
            [
             0.6,
             "#000027"
            ],
            [
             0.7,
             "#000028"
            ],
            [
             0.8,
             "#000029"
            ],
            [
             0.9,
             "#000030"
            ],
            [
             1,
             "#000031"
            ]
           ],
           "sequential": [
            [
             0,
             "#000011"
            ],
            [
             0.1111111111111111,
             "#000012"
            ],
            [
             0.2222222222222222,
             "#000013"
            ],
            [
             0.3333333333333333,
             "#000014"
            ],
            [
             0.4444444444444444,
             "#000015"
            ],
            [
             0.5555555555555556,
             "#000016"
            ],
            [
             0.6666666666666666,
             "#000017"
            ],
            [
             0.7777777777777778,
             "#000018"
            ],
            [
             0.8888888888888888,
             "#000019"
            ],
            [
             1,
             "#000020"
            ]
           ],
           "sequentialminus": [
            [
             0,
             "#000011"
            ],
            [
             0.1111111111111111,
             "#000012"
            ],
            [
             0.2222222222222222,
             "#000013"
            ],
            [
             0.3333333333333333,
             "#000014"
            ],
            [
             0.4444444444444444,
             "#000015"
            ],
            [
             0.5555555555555556,
             "#000016"
            ],
            [
             0.6666666666666666,
             "#000017"
            ],
            [
             0.7777777777777778,
             "#000018"
            ],
            [
             0.8888888888888888,
             "#000019"
            ],
            [
             1,
             "#000020"
            ]
           ]
          },
          "colorway": [
           "#000001",
           "#000002",
           "#000003",
           "#000004",
           "#000005",
           "#000006",
           "#000007",
           "#000008",
           "#000009",
           "#000010"
          ]
         }
        },
        "xaxis": {
         "anchor": "y",
         "domain": [
          0,
          1
         ],
         "title": {
          "text": "Vertical"
         }
        },
        "yaxis": {
         "anchor": "x",
         "domain": [
          0,
          1
         ],
         "title": {
          "text": "count"
         }
        }
       }
      },
      "image/png": "[encoded data removed]",
      "text/html": [
       "<div>                            <div id=\"5f7177b2-713a-4745-9598-f26328dd82f3\" class=\"plotly-graph-div\" style=\"height:525px; width:100%;\"></div>            <script type=\"text/javascript\">                require([\"plotly\"], function(Plotly) {                    window.PLOTLYENV=window.PLOTLYENV || {};                                    if (document.getElementById(\"5f7177b2-713a-4745-9598-f26328dd82f3\")) {                    Plotly.newPlot(                        \"5f7177b2-713a-4745-9598-f26328dd82f3\",                        [{\"alignmentgroup\":\"True\",\"hovertemplate\":\"Veredicto=Cumple con el nivel y vertical asignado\\u003cbr\\u003eVertical=%{x}\\u003cbr\\u003ecount=%{y}\\u003cextra\\u003e\\u003c\\u002fextra\\u003e\",\"legendgroup\":\"Cumple con el nivel y vertical asignado\",\"marker\":{\"color\":\"#000001\",\"pattern\":{\"shape\":\"\"}},\"name\":\"Cumple con el nivel y vertical asignado\",\"offsetgroup\":\"Cumple con el nivel y vertical asignado\",\"orientation\":\"v\",\"showlegend\":true,\"textposition\":\"auto\",\"x\":[\"DATA & AI Jer\\u00e1rquico\",\"DATA & AI Strategy & Operations\",\"DATA & AI Architect\",\"DATA & IA Business\",\"DATA & AI Scientist\",\"DATA & AI Engineering\"],\"xaxis\":\"x\",\"y\":[6,9,2,11,12,5],\"yaxis\":\"y\",\"type\":\"bar\"},{\"alignmentgroup\":\"True\",\"hovertemplate\":\"Veredicto=Cumple la vertical, pero no con el nivel asignado\\u003cbr\\u003eVertical=%{x}\\u003cbr\\u003ecount=%{y}\\u003cextra\\u003e\\u003c\\u002fextra\\u003e\",\"legendgroup\":\"Cumple la vertical, pero no con el nivel asignado\",\"marker\":{\"color\":\"#000002\",\"pattern\":{\"shape\":\"\"}},\"name\":\"Cumple la vertical, pero no con el nivel asignado\",\"offsetgroup\":\"Cumple la vertical, pero no con el nivel asignado\",\"orientation\":\"v\",\"showlegend\":true,\"textposition\":\"auto\",\"x\":[\"DATA & AI Architect\",\"DATA & IA Business\",\"DATA & AI Scientist\",\"DATA & AI Strategy & Operations\",\"DATA & AI Jer\\u00e1rquico\",\"DATA & AI Engineering\"],\"xaxis\":\"x\",\"y\":[2,2,2,3,1,6],\"yaxis\":\"y\",\"type\":\"bar\"},{\"alignmentgroup\":\"True\",\"hovertemplate\":\"Veredicto=Excede el nivel de la vertical prevista\\u003cbr\\u003eVertical=%{x}\\u003cbr\\u003ecount=%{y}\\u003cextra\\u003e\\u003c\\u002fextra\\u003e\",\"legendgroup\":\"Excede el nivel de la vertical prevista\",\"marker\":{\"color\":\"#000003\",\"pattern\":{\"shape\":\"\"}},\"name\":\"Excede el nivel de la vertical prevista\",\"offsetgroup\":\"Excede el nivel de la vertical prevista\",\"orientation\":\"v\",\"showlegend\":true,\"textposition\":\"auto\",\"x\":[\"DATA & AI Strategy & Operations\",\"DATA & IA Business\"],\"xaxis\":\"x\",\"y\":[2,2],\"yaxis\":\"y\",\"type\":\"bar\"},{\"alignmentgroup\":\"True\",\"hovertemplate\":\"Veredicto=Cumple con el nivel, pero no con la vertical asignada\\u003cbr\\u003eVertical=%{x}\\u003cbr\\u003ecount=%{y}\\u003cextra\\u003e\\u003c\\u002fextra\\u003e\",\"legendgroup\":\"Cumple con el nivel, pero no con la vertical asignada\",\"marker\":{\"color\":\"#000004\",\"pattern\":{\"shape\":\"\"}},\"name\":\"Cumple con el nivel, pero no con la vertical asignada\",\"offsetgroup\":\"Cumple con el nivel, pero no con la vertical asignada\",\"orientation\":\"v\",\"showlegend\":true,\"textposition\":\"auto\",\"x\":[\"DATA & AI Scientist\"],\"xaxis\":\"x\",\"y\":[2],\"yaxis\":\"y\",\"type\":\"bar\"},{\"alignmentgroup\":\"True\",\"hovertemplate\":\"Veredicto=No cumple con nivel, ni vertical previsto\\u003cbr\\u003eVertical=%{x}\\u003cbr\\u003ecount=%{y}\\u003cextra\\u003e\\u003c\\u002fextra\\u003e\",\"legendgroup\":\"No cumple con nivel, ni vertical previsto\",\"marker\":{\"color\":\"#000005\",\"pattern\":{\"shape\":\"\"}},\"name\":\"No cumple con nivel, ni vertical previsto\",\"offsetgroup\":\"No cumple con nivel, ni vertical previsto\",\"orientation\":\"v\",\"showlegend\":true,\"textposition\":\"auto\",\"x\":[\"DATA & AI Scientist\",\"DATA & AI Strategy & Operations\"],\"xaxis\":\"x\",\"y\":[1,1],\"yaxis\":\"y\",\"type\":\"bar\"}],                        {\"template\":{\"data\":{\"candlestick\":[{\"decreasing\":{\"line\":{\"color\":\"#000033\"}},\"increasing\":{\"line\":{\"color\":\"#000032\"}},\"type\":\"candlestick\"}],\"contourcarpet\":[{\"colorscale\":[[0.0,\"#000011\"],[0.1111111111111111,\"#000012\"],[0.2222222222222222,\"#000013\"],[0.3333333333333333,\"#000014\"],[0.4444444444444444,\"#000015\"],[0.5555555555555556,\"#000016\"],[0.6666666666666666,\"#000017\"],[0.7777777777777778,\"#000018\"],[0.8888888888888888,\"#000019\"],[1.0,\"#000020\"]],\"type\":\"contourcarpet\"}],\"contour\":[{\"colorscale\":[[0.0,\"#000011\"],[0.1111111111111111,\"#000012\"],[0.2222222222222222,\"#000013\"],[0.3333333333333333,\"#000014\"],[0.4444444444444444,\"#000015\"],[0.5555555555555556,\"#000016\"],[0.6666666666666666,\"#000017\"],[0.7777777777777778,\"#000018\"],[0.8888888888888888,\"#000019\"],[1.0,\"#000020\"]],\"type\":\"contour\"}],\"heatmap\":[{\"colorscale\":[[0.0,\"#000011\"],[0.1111111111111111,\"#000012\"],[0.2222222222222222,\"#000013\"],[0.3333333333333333,\"#000014\"],[0.4444444444444444,\"#000015\"],[0.5555555555555556,\"#000016\"],[0.6666666666666666,\"#000017\"],[0.7777777777777778,\"#000018\"],[0.8888888888888888,\"#000019\"],[1.0,\"#000020\"]],\"type\":\"heatmap\"}],\"histogram2d\":[{\"colorscale\":[[0.0,\"#000011\"],[0.1111111111111111,\"#000012\"],[0.2222222222222222,\"#000013\"],[0.3333333333333333,\"#000014\"],[0.4444444444444444,\"#000015\"],[0.5555555555555556,\"#000016\"],[0.6666666666666666,\"#000017\"],[0.7777777777777778,\"#000018\"],[0.8888888888888888,\"#000019\"],[1.0,\"#000020\"]],\"type\":\"histogram2d\"}],\"icicle\":[{\"textfont\":{\"color\":\"white\"},\"type\":\"icicle\"}],\"sankey\":[{\"textfont\":{\"color\":\"#000036\"},\"type\":\"sankey\"}],\"scatter\":[{\"marker\":{\"line\":{\"width\":0}},\"type\":\"scatter\"}],\"table\":[{\"cells\":{\"fill\":{\"color\":\"#000038\"},\"font\":{\"color\":\"#000037\"},\"line\":{\"color\":\"#000039\"}},\"header\":{\"fill\":{\"color\":\"#000040\"},\"font\":{\"color\":\"#000036\"},\"line\":{\"color\":\"#000039\"}},\"type\":\"table\"}],\"waterfall\":[{\"connector\":{\"line\":{\"color\":\"#000036\",\"width\":2}},\"decreasing\":{\"marker\":{\"color\":\"#000033\"}},\"increasing\":{\"marker\":{\"color\":\"#000032\"}},\"totals\":{\"marker\":{\"color\":\"#000034\"}},\"type\":\"waterfall\"}]},\"layout\":{\"coloraxis\":{\"colorscale\":[[0.0,\"#000011\"],[0.1111111111111111,\"#000012\"],[0.2222222222222222,\"#000013\"],[0.3333333333333333,\"#000014\"],[0.4444444444444444,\"#000015\"],[0.5555555555555556,\"#000016\"],[0.6666666666666666,\"#000017\"],[0.7777777777777778,\"#000018\"],[0.8888888888888888,\"#000019\"],[1.0,\"#000020\"]]},\"colorscale\":{\"diverging\":[[0.0,\"#000021\"],[0.1,\"#000022\"],[0.2,\"#000023\"],[0.3,\"#000024\"],[0.4,\"#000025\"],[0.5,\"#000026\"],[0.6,\"#000027\"],[0.7,\"#000028\"],[0.8,\"#000029\"],[0.9,\"#000030\"],[1.0,\"#000031\"]],\"sequential\":[[0.0,\"#000011\"],[0.1111111111111111,\"#000012\"],[0.2222222222222222,\"#000013\"],[0.3333333333333333,\"#000014\"],[0.4444444444444444,\"#000015\"],[0.5555555555555556,\"#000016\"],[0.6666666666666666,\"#000017\"],[0.7777777777777778,\"#000018\"],[0.8888888888888888,\"#000019\"],[1.0,\"#000020\"]],\"sequentialminus\":[[0.0,\"#000011\"],[0.1111111111111111,\"#000012\"],[0.2222222222222222,\"#000013\"],[0.3333333333333333,\"#000014\"],[0.4444444444444444,\"#000015\"],[0.5555555555555556,\"#000016\"],[0.6666666666666666,\"#000017\"],[0.7777777777777778,\"#000018\"],[0.8888888888888888,\"#000019\"],[1.0,\"#000020\"]]},\"colorway\":[\"#000001\",\"#000002\",\"#000003\",\"#000004\",\"#000005\",\"#000006\",\"#000007\",\"#000008\",\"#000009\",\"#000010\"]}},\"xaxis\":{\"anchor\":\"y\",\"domain\":[0.0,1.0],\"title\":{\"text\":\"Vertical\"}},\"yaxis\":{\"anchor\":\"x\",\"domain\":[0.0,1.0],\"title\":{\"text\":\"count\"}},\"legend\":{\"title\":{\"text\":\"Veredicto\"},\"tracegroupgap\":0},\"margin\":{\"t\":60},\"barmode\":\"relative\"},                        {\"responsive\": true}                    ).then(function(){\n",
       "                            \n",
       "var gd = document.getElementById('5f7177b2-713a-4745-9598-f26328dd82f3');\n",
       "var x = new MutationObserver(function (mutations, observer) {{\n",
       "        var display = window.getComputedStyle(gd).display;\n",
       "        if (!display || display === 'none') {{\n",
       "            console.log([gd, 'removed!']);\n",
       "            Plotly.purge(gd);\n",
       "            observer.disconnect();\n",
       "        }}\n",
       "}});\n",
       "\n",
       "// Listen for the removal of the full notebook cells\n",
       "var notebookContainer = gd.closest('#notebook-container');\n",
       "if (notebookContainer) {{\n",
       "    x.observe(notebookContainer, {childList: true});\n",
       "}}\n",
       "\n",
       "// Listen for the clearing of the current output cell\n",
       "var outputEl = gd.closest('.output');\n",
       "if (outputEl) {{\n",
       "    x.observe(outputEl, {childList: true});\n",
       "}}\n",
       "\n",
       "                        })                };                });            </script>        </div>"
      ]
     },
     "metadata": {},
     "output_type": "display_data"
    }
   ],
   "source": []
  },
  {
   "cell_type": "code",
   "execution_count": 209,
   "id": "2fb32028-d0ad-4292-9f3a-ddf2a8f4da21",
   "metadata": {},
   "outputs": [
    {
     "data": {
      "application/vnd.plotly.v1+json": {
       "config": {
        "plotlyServerURL": "https://plot.ly"
       },
       "data": [
        {
         "alignmentgroup": "True",
         "hovertemplate": "Veredicto=Cumple con el nivel y vertical asignado<br>Rol=%{x}<br>count=%{y}<extra></extra>",
         "legendgroup": "Cumple con el nivel y vertical asignado",
         "marker": {
          "color": "#000001",
          "pattern": {
           "shape": ""
          }
         },
         "name": "Cumple con el nivel y vertical asignado",
         "offsetgroup": "Cumple con el nivel y vertical asignado",
         "orientation": "v",
         "showlegend": true,
         "textposition": "auto",
         "type": "bar",
         "x": [
          "TÉCNICO AVANZADO",
          "TÉCNICO SENIOR",
          "TÉCNICO SENIOR",
          "TÉCNICO AVANZADO",
          "TÉCNICO AVANZADO",
          "TÉCNICO AVANZADO",
          "TÉCNICO SENIOR",
          "TÉCNICO SENIOR",
          "ESPECIALISTA",
          "CONSULTOR",
          "TÉCNICO AVANZADO",
          "CONSULTOR"
         ],
         "xaxis": "x",
         "y": [
          1,
          4,
          1,
          6,
          4,
          3,
          1,
          2,
          1,
          2,
          7,
          1
         ],
         "yaxis": "y"
        },
        {
         "alignmentgroup": "True",
         "hovertemplate": "Veredicto=Cumple la vertical, pero no con el nivel asignado<br>Rol=%{x}<br>count=%{y}<extra></extra>",
         "legendgroup": "Cumple la vertical, pero no con el nivel asignado",
         "marker": {
          "color": "#000002",
          "pattern": {
           "shape": ""
          }
         },
         "name": "Cumple la vertical, pero no con el nivel asignado",
         "offsetgroup": "Cumple la vertical, pero no con el nivel asignado",
         "orientation": "v",
         "showlegend": true,
         "textposition": "auto",
         "type": "bar",
         "x": [
          "TÉCNICO AVANZADO",
          "TÉCNICO SENIOR",
          "EXPERTO",
          "ESPECIALISTA",
          "TÉCNICO SENIOR",
          "TÉCNICO AVANZADO",
          "ESPECIALISTA",
          "TÉCNICO AVANZADO",
          "TÉCNICO AVANZADO"
         ],
         "xaxis": "x",
         "y": [
          1,
          1,
          2,
          1,
          1,
          4,
          1,
          1,
          1
         ],
         "yaxis": "y"
        },
        {
         "alignmentgroup": "True",
         "hovertemplate": "Veredicto=Excede el nivel de la vertical prevista<br>Rol=%{x}<br>count=%{y}<extra></extra>",
         "legendgroup": "Excede el nivel de la vertical prevista",
         "marker": {
          "color": "#000003",
          "pattern": {
           "shape": ""
          }
         },
         "name": "Excede el nivel de la vertical prevista",
         "offsetgroup": "Excede el nivel de la vertical prevista",
         "orientation": "v",
         "showlegend": true,
         "textposition": "auto",
         "type": "bar",
         "x": [
          "TÉCNICO AVANZADO",
          "TÉCNICO AVANZADO",
          "TÉCNICO SENIOR"
         ],
         "xaxis": "x",
         "y": [
          2,
          1,
          1
         ],
         "yaxis": "y"
        },
        {
         "alignmentgroup": "True",
         "hovertemplate": "Veredicto=Cumple con el nivel, pero no con la vertical asignada<br>Rol=%{x}<br>count=%{y}<extra></extra>",
         "legendgroup": "Cumple con el nivel, pero no con la vertical asignada",
         "marker": {
          "color": "#000004",
          "pattern": {
           "shape": ""
          }
         },
         "name": "Cumple con el nivel, pero no con la vertical asignada",
         "offsetgroup": "Cumple con el nivel, pero no con la vertical asignada",
         "orientation": "v",
         "showlegend": true,
         "textposition": "auto",
         "type": "bar",
         "x": [
          "TÉCNICO AVANZADO"
         ],
         "xaxis": "x",
         "y": [
          2
         ],
         "yaxis": "y"
        },
        {
         "alignmentgroup": "True",
         "hovertemplate": "Veredicto=No cumple con nivel, ni vertical previsto<br>Rol=%{x}<br>count=%{y}<extra></extra>",
         "legendgroup": "No cumple con nivel, ni vertical previsto",
         "marker": {
          "color": "#000005",
          "pattern": {
           "shape": ""
          }
         },
         "name": "No cumple con nivel, ni vertical previsto",
         "offsetgroup": "No cumple con nivel, ni vertical previsto",
         "orientation": "v",
         "showlegend": true,
         "textposition": "auto",
         "type": "bar",
         "x": [
          "TÉCNICO SENIOR",
          "TÉCNICO AVANZADO"
         ],
         "xaxis": "x",
         "y": [
          1,
          1
         ],
         "yaxis": "y"
        }
       ],
       "layout": {
        "barmode": "relative",
        "legend": {
         "title": {
          "text": "Veredicto"
         },
         "tracegroupgap": 0
        },
        "margin": {
         "t": 60
        },
        "template": {
         "data": {
          "candlestick": [
           {
            "decreasing": {
             "line": {
              "color": "#000033"
             }
            },
            "increasing": {
             "line": {
              "color": "#000032"
             }
            },
            "type": "candlestick"
           }
          ],
          "contour": [
           {
            "colorscale": [
             [
              0,
              "#000011"
             ],
             [
              0.1111111111111111,
              "#000012"
             ],
             [
              0.2222222222222222,
              "#000013"
             ],
             [
              0.3333333333333333,
              "#000014"
             ],
             [
              0.4444444444444444,
              "#000015"
             ],
             [
              0.5555555555555556,
              "#000016"
             ],
             [
              0.6666666666666666,
              "#000017"
             ],
             [
              0.7777777777777778,
              "#000018"
             ],
             [
              0.8888888888888888,
              "#000019"
             ],
             [
              1,
              "#000020"
             ]
            ],
            "type": "contour"
           }
          ],
          "contourcarpet": [
           {
            "colorscale": [
             [
              0,
              "#000011"
             ],
             [
              0.1111111111111111,
              "#000012"
             ],
             [
              0.2222222222222222,
              "#000013"
             ],
             [
              0.3333333333333333,
              "#000014"
             ],
             [
              0.4444444444444444,
              "#000015"
             ],
             [
              0.5555555555555556,
              "#000016"
             ],
             [
              0.6666666666666666,
              "#000017"
             ],
             [
              0.7777777777777778,
              "#000018"
             ],
             [
              0.8888888888888888,
              "#000019"
             ],
             [
              1,
              "#000020"
             ]
            ],
            "type": "contourcarpet"
           }
          ],
          "heatmap": [
           {
            "colorscale": [
             [
              0,
              "#000011"
             ],
             [
              0.1111111111111111,
              "#000012"
             ],
             [
              0.2222222222222222,
              "#000013"
             ],
             [
              0.3333333333333333,
              "#000014"
             ],
             [
              0.4444444444444444,
              "#000015"
             ],
             [
              0.5555555555555556,
              "#000016"
             ],
             [
              0.6666666666666666,
              "#000017"
             ],
             [
              0.7777777777777778,
              "#000018"
             ],
             [
              0.8888888888888888,
              "#000019"
             ],
             [
              1,
              "#000020"
             ]
            ],
            "type": "heatmap"
           }
          ],
          "histogram2d": [
           {
            "colorscale": [
             [
              0,
              "#000011"
             ],
             [
              0.1111111111111111,
              "#000012"
             ],
             [
              0.2222222222222222,
              "#000013"
             ],
             [
              0.3333333333333333,
              "#000014"
             ],
             [
              0.4444444444444444,
              "#000015"
             ],
             [
              0.5555555555555556,
              "#000016"
             ],
             [
              0.6666666666666666,
              "#000017"
             ],
             [
              0.7777777777777778,
              "#000018"
             ],
             [
              0.8888888888888888,
              "#000019"
             ],
             [
              1,
              "#000020"
             ]
            ],
            "type": "histogram2d"
           }
          ],
          "icicle": [
           {
            "textfont": {
             "color": "white"
            },
            "type": "icicle"
           }
          ],
          "sankey": [
           {
            "textfont": {
             "color": "#000036"
            },
            "type": "sankey"
           }
          ],
          "scatter": [
           {
            "marker": {
             "line": {
              "width": 0
             }
            },
            "type": "scatter"
           }
          ],
          "table": [
           {
            "cells": {
             "fill": {
              "color": "#000038"
             },
             "font": {
              "color": "#000037"
             },
             "line": {
              "color": "#000039"
             }
            },
            "header": {
             "fill": {
              "color": "#000040"
             },
             "font": {
              "color": "#000036"
             },
             "line": {
              "color": "#000039"
             }
            },
            "type": "table"
           }
          ],
          "waterfall": [
           {
            "connector": {
             "line": {
              "color": "#000036",
              "width": 2
             }
            },
            "decreasing": {
             "marker": {
              "color": "#000033"
             }
            },
            "increasing": {
             "marker": {
              "color": "#000032"
             }
            },
            "totals": {
             "marker": {
              "color": "#000034"
             }
            },
            "type": "waterfall"
           }
          ]
         },
         "layout": {
          "coloraxis": {
           "colorscale": [
            [
             0,
             "#000011"
            ],
            [
             0.1111111111111111,
             "#000012"
            ],
            [
             0.2222222222222222,
             "#000013"
            ],
            [
             0.3333333333333333,
             "#000014"
            ],
            [
             0.4444444444444444,
             "#000015"
            ],
            [
             0.5555555555555556,
             "#000016"
            ],
            [
             0.6666666666666666,
             "#000017"
            ],
            [
             0.7777777777777778,
             "#000018"
            ],
            [
             0.8888888888888888,
             "#000019"
            ],
            [
             1,
             "#000020"
            ]
           ]
          },
          "colorscale": {
           "diverging": [
            [
             0,
             "#000021"
            ],
            [
             0.1,
             "#000022"
            ],
            [
             0.2,
             "#000023"
            ],
            [
             0.3,
             "#000024"
            ],
            [
             0.4,
             "#000025"
            ],
            [
             0.5,
             "#000026"
            ],
            [
             0.6,
             "#000027"
            ],
            [
             0.7,
             "#000028"
            ],
            [
             0.8,
             "#000029"
            ],
            [
             0.9,
             "#000030"
            ],
            [
             1,
             "#000031"
            ]
           ],
           "sequential": [
            [
             0,
             "#000011"
            ],
            [
             0.1111111111111111,
             "#000012"
            ],
            [
             0.2222222222222222,
             "#000013"
            ],
            [
             0.3333333333333333,
             "#000014"
            ],
            [
             0.4444444444444444,
             "#000015"
            ],
            [
             0.5555555555555556,
             "#000016"
            ],
            [
             0.6666666666666666,
             "#000017"
            ],
            [
             0.7777777777777778,
             "#000018"
            ],
            [
             0.8888888888888888,
             "#000019"
            ],
            [
             1,
             "#000020"
            ]
           ],
           "sequentialminus": [
            [
             0,
             "#000011"
            ],
            [
             0.1111111111111111,
             "#000012"
            ],
            [
             0.2222222222222222,
             "#000013"
            ],
            [
             0.3333333333333333,
             "#000014"
            ],
            [
             0.4444444444444444,
             "#000015"
            ],
            [
             0.5555555555555556,
             "#000016"
            ],
            [
             0.6666666666666666,
             "#000017"
            ],
            [
             0.7777777777777778,
             "#000018"
            ],
            [
             0.8888888888888888,
             "#000019"
            ],
            [
             1,
             "#000020"
            ]
           ]
          },
          "colorway": [
           "#000001",
           "#000002",
           "#000003",
           "#000004",
           "#000005",
           "#000006",
           "#000007",
           "#000008",
           "#000009",
           "#000010"
          ]
         }
        },
        "xaxis": {
         "anchor": "y",
         "domain": [
          0,
          1
         ],
         "title": {
          "text": "Rol"
         }
        },
        "yaxis": {
         "anchor": "x",
         "domain": [
          0,
          1
         ],
         "title": {
          "text": "count"
         }
        }
       }
      },
      "image/png": "[encoded data removed]",
      "text/html": [
       "<div>                            <div id=\"2fbfb4f9-26ce-4ab5-a565-2c310aafbc33\" class=\"plotly-graph-div\" style=\"height:525px; width:100%;\"></div>            <script type=\"text/javascript\">                require([\"plotly\"], function(Plotly) {                    window.PLOTLYENV=window.PLOTLYENV || {};                                    if (document.getElementById(\"2fbfb4f9-26ce-4ab5-a565-2c310aafbc33\")) {                    Plotly.newPlot(                        \"2fbfb4f9-26ce-4ab5-a565-2c310aafbc33\",                        [{\"alignmentgroup\":\"True\",\"hovertemplate\":\"Veredicto=Cumple con el nivel y vertical asignado\\u003cbr\\u003eRol=%{x}\\u003cbr\\u003ecount=%{y}\\u003cextra\\u003e\\u003c\\u002fextra\\u003e\",\"legendgroup\":\"Cumple con el nivel y vertical asignado\",\"marker\":{\"color\":\"#000001\",\"pattern\":{\"shape\":\"\"}},\"name\":\"Cumple con el nivel y vertical asignado\",\"offsetgroup\":\"Cumple con el nivel y vertical asignado\",\"orientation\":\"v\",\"showlegend\":true,\"textposition\":\"auto\",\"x\":[\"T\\u00c9CNICO AVANZADO\",\"T\\u00c9CNICO SENIOR\",\"T\\u00c9CNICO SENIOR\",\"T\\u00c9CNICO AVANZADO\",\"T\\u00c9CNICO AVANZADO\",\"T\\u00c9CNICO AVANZADO\",\"T\\u00c9CNICO SENIOR\",\"T\\u00c9CNICO SENIOR\",\"ESPECIALISTA\",\"CONSULTOR\",\"T\\u00c9CNICO AVANZADO\",\"CONSULTOR\"],\"xaxis\":\"x\",\"y\":[1,4,1,6,4,3,1,2,1,2,7,1],\"yaxis\":\"y\",\"type\":\"bar\"},{\"alignmentgroup\":\"True\",\"hovertemplate\":\"Veredicto=Cumple la vertical, pero no con el nivel asignado\\u003cbr\\u003eRol=%{x}\\u003cbr\\u003ecount=%{y}\\u003cextra\\u003e\\u003c\\u002fextra\\u003e\",\"legendgroup\":\"Cumple la vertical, pero no con el nivel asignado\",\"marker\":{\"color\":\"#000002\",\"pattern\":{\"shape\":\"\"}},\"name\":\"Cumple la vertical, pero no con el nivel asignado\",\"offsetgroup\":\"Cumple la vertical, pero no con el nivel asignado\",\"orientation\":\"v\",\"showlegend\":true,\"textposition\":\"auto\",\"x\":[\"T\\u00c9CNICO AVANZADO\",\"T\\u00c9CNICO SENIOR\",\"EXPERTO\",\"ESPECIALISTA\",\"T\\u00c9CNICO SENIOR\",\"T\\u00c9CNICO AVANZADO\",\"ESPECIALISTA\",\"T\\u00c9CNICO AVANZADO\",\"T\\u00c9CNICO AVANZADO\"],\"xaxis\":\"x\",\"y\":[1,1,2,1,1,4,1,1,1],\"yaxis\":\"y\",\"type\":\"bar\"},{\"alignmentgroup\":\"True\",\"hovertemplate\":\"Veredicto=Excede el nivel de la vertical prevista\\u003cbr\\u003eRol=%{x}\\u003cbr\\u003ecount=%{y}\\u003cextra\\u003e\\u003c\\u002fextra\\u003e\",\"legendgroup\":\"Excede el nivel de la vertical prevista\",\"marker\":{\"color\":\"#000003\",\"pattern\":{\"shape\":\"\"}},\"name\":\"Excede el nivel de la vertical prevista\",\"offsetgroup\":\"Excede el nivel de la vertical prevista\",\"orientation\":\"v\",\"showlegend\":true,\"textposition\":\"auto\",\"x\":[\"T\\u00c9CNICO AVANZADO\",\"T\\u00c9CNICO AVANZADO\",\"T\\u00c9CNICO SENIOR\"],\"xaxis\":\"x\",\"y\":[2,1,1],\"yaxis\":\"y\",\"type\":\"bar\"},{\"alignmentgroup\":\"True\",\"hovertemplate\":\"Veredicto=Cumple con el nivel, pero no con la vertical asignada\\u003cbr\\u003eRol=%{x}\\u003cbr\\u003ecount=%{y}\\u003cextra\\u003e\\u003c\\u002fextra\\u003e\",\"legendgroup\":\"Cumple con el nivel, pero no con la vertical asignada\",\"marker\":{\"color\":\"#000004\",\"pattern\":{\"shape\":\"\"}},\"name\":\"Cumple con el nivel, pero no con la vertical asignada\",\"offsetgroup\":\"Cumple con el nivel, pero no con la vertical asignada\",\"orientation\":\"v\",\"showlegend\":true,\"textposition\":\"auto\",\"x\":[\"T\\u00c9CNICO AVANZADO\"],\"xaxis\":\"x\",\"y\":[2],\"yaxis\":\"y\",\"type\":\"bar\"},{\"alignmentgroup\":\"True\",\"hovertemplate\":\"Veredicto=No cumple con nivel, ni vertical previsto\\u003cbr\\u003eRol=%{x}\\u003cbr\\u003ecount=%{y}\\u003cextra\\u003e\\u003c\\u002fextra\\u003e\",\"legendgroup\":\"No cumple con nivel, ni vertical previsto\",\"marker\":{\"color\":\"#000005\",\"pattern\":{\"shape\":\"\"}},\"name\":\"No cumple con nivel, ni vertical previsto\",\"offsetgroup\":\"No cumple con nivel, ni vertical previsto\",\"orientation\":\"v\",\"showlegend\":true,\"textposition\":\"auto\",\"x\":[\"T\\u00c9CNICO SENIOR\",\"T\\u00c9CNICO AVANZADO\"],\"xaxis\":\"x\",\"y\":[1,1],\"yaxis\":\"y\",\"type\":\"bar\"}],                        {\"template\":{\"data\":{\"candlestick\":[{\"decreasing\":{\"line\":{\"color\":\"#000033\"}},\"increasing\":{\"line\":{\"color\":\"#000032\"}},\"type\":\"candlestick\"}],\"contourcarpet\":[{\"colorscale\":[[0.0,\"#000011\"],[0.1111111111111111,\"#000012\"],[0.2222222222222222,\"#000013\"],[0.3333333333333333,\"#000014\"],[0.4444444444444444,\"#000015\"],[0.5555555555555556,\"#000016\"],[0.6666666666666666,\"#000017\"],[0.7777777777777778,\"#000018\"],[0.8888888888888888,\"#000019\"],[1.0,\"#000020\"]],\"type\":\"contourcarpet\"}],\"contour\":[{\"colorscale\":[[0.0,\"#000011\"],[0.1111111111111111,\"#000012\"],[0.2222222222222222,\"#000013\"],[0.3333333333333333,\"#000014\"],[0.4444444444444444,\"#000015\"],[0.5555555555555556,\"#000016\"],[0.6666666666666666,\"#000017\"],[0.7777777777777778,\"#000018\"],[0.8888888888888888,\"#000019\"],[1.0,\"#000020\"]],\"type\":\"contour\"}],\"heatmap\":[{\"colorscale\":[[0.0,\"#000011\"],[0.1111111111111111,\"#000012\"],[0.2222222222222222,\"#000013\"],[0.3333333333333333,\"#000014\"],[0.4444444444444444,\"#000015\"],[0.5555555555555556,\"#000016\"],[0.6666666666666666,\"#000017\"],[0.7777777777777778,\"#000018\"],[0.8888888888888888,\"#000019\"],[1.0,\"#000020\"]],\"type\":\"heatmap\"}],\"histogram2d\":[{\"colorscale\":[[0.0,\"#000011\"],[0.1111111111111111,\"#000012\"],[0.2222222222222222,\"#000013\"],[0.3333333333333333,\"#000014\"],[0.4444444444444444,\"#000015\"],[0.5555555555555556,\"#000016\"],[0.6666666666666666,\"#000017\"],[0.7777777777777778,\"#000018\"],[0.8888888888888888,\"#000019\"],[1.0,\"#000020\"]],\"type\":\"histogram2d\"}],\"icicle\":[{\"textfont\":{\"color\":\"white\"},\"type\":\"icicle\"}],\"sankey\":[{\"textfont\":{\"color\":\"#000036\"},\"type\":\"sankey\"}],\"scatter\":[{\"marker\":{\"line\":{\"width\":0}},\"type\":\"scatter\"}],\"table\":[{\"cells\":{\"fill\":{\"color\":\"#000038\"},\"font\":{\"color\":\"#000037\"},\"line\":{\"color\":\"#000039\"}},\"header\":{\"fill\":{\"color\":\"#000040\"},\"font\":{\"color\":\"#000036\"},\"line\":{\"color\":\"#000039\"}},\"type\":\"table\"}],\"waterfall\":[{\"connector\":{\"line\":{\"color\":\"#000036\",\"width\":2}},\"decreasing\":{\"marker\":{\"color\":\"#000033\"}},\"increasing\":{\"marker\":{\"color\":\"#000032\"}},\"totals\":{\"marker\":{\"color\":\"#000034\"}},\"type\":\"waterfall\"}]},\"layout\":{\"coloraxis\":{\"colorscale\":[[0.0,\"#000011\"],[0.1111111111111111,\"#000012\"],[0.2222222222222222,\"#000013\"],[0.3333333333333333,\"#000014\"],[0.4444444444444444,\"#000015\"],[0.5555555555555556,\"#000016\"],[0.6666666666666666,\"#000017\"],[0.7777777777777778,\"#000018\"],[0.8888888888888888,\"#000019\"],[1.0,\"#000020\"]]},\"colorscale\":{\"diverging\":[[0.0,\"#000021\"],[0.1,\"#000022\"],[0.2,\"#000023\"],[0.3,\"#000024\"],[0.4,\"#000025\"],[0.5,\"#000026\"],[0.6,\"#000027\"],[0.7,\"#000028\"],[0.8,\"#000029\"],[0.9,\"#000030\"],[1.0,\"#000031\"]],\"sequential\":[[0.0,\"#000011\"],[0.1111111111111111,\"#000012\"],[0.2222222222222222,\"#000013\"],[0.3333333333333333,\"#000014\"],[0.4444444444444444,\"#000015\"],[0.5555555555555556,\"#000016\"],[0.6666666666666666,\"#000017\"],[0.7777777777777778,\"#000018\"],[0.8888888888888888,\"#000019\"],[1.0,\"#000020\"]],\"sequentialminus\":[[0.0,\"#000011\"],[0.1111111111111111,\"#000012\"],[0.2222222222222222,\"#000013\"],[0.3333333333333333,\"#000014\"],[0.4444444444444444,\"#000015\"],[0.5555555555555556,\"#000016\"],[0.6666666666666666,\"#000017\"],[0.7777777777777778,\"#000018\"],[0.8888888888888888,\"#000019\"],[1.0,\"#000020\"]]},\"colorway\":[\"#000001\",\"#000002\",\"#000003\",\"#000004\",\"#000005\",\"#000006\",\"#000007\",\"#000008\",\"#000009\",\"#000010\"]}},\"xaxis\":{\"anchor\":\"y\",\"domain\":[0.0,1.0],\"title\":{\"text\":\"Rol\"}},\"yaxis\":{\"anchor\":\"x\",\"domain\":[0.0,1.0],\"title\":{\"text\":\"count\"}},\"legend\":{\"title\":{\"text\":\"Veredicto\"},\"tracegroupgap\":0},\"margin\":{\"t\":60},\"barmode\":\"relative\"},                        {\"responsive\": true}                    ).then(function(){\n",
       "                            \n",
       "var gd = document.getElementById('2fbfb4f9-26ce-4ab5-a565-2c310aafbc33');\n",
       "var x = new MutationObserver(function (mutations, observer) {{\n",
       "        var display = window.getComputedStyle(gd).display;\n",
       "        if (!display || display === 'none') {{\n",
       "            console.log([gd, 'removed!']);\n",
       "            Plotly.purge(gd);\n",
       "            observer.disconnect();\n",
       "        }}\n",
       "}});\n",
       "\n",
       "// Listen for the removal of the full notebook cells\n",
       "var notebookContainer = gd.closest('#notebook-container');\n",
       "if (notebookContainer) {{\n",
       "    x.observe(notebookContainer, {childList: true});\n",
       "}}\n",
       "\n",
       "// Listen for the clearing of the current output cell\n",
       "var outputEl = gd.closest('.output');\n",
       "if (outputEl) {{\n",
       "    x.observe(outputEl, {childList: true});\n",
       "}}\n",
       "\n",
       "                        })                };                });            </script>        </div>"
      ]
     },
     "metadata": {},
     "output_type": "display_data"
    }
   ],
   "source": [
    "# Rol y Veredicto\n",
    "df_rol_veredicto = pd.merge(left = df_dicts[\"Trabajadores\"].explode(\"Nuevo puesto\").groupby(by = [\"Nuevo puesto\", \"Veredicto\"], as_index = False).agg({\"id\" : \"count\"}),\n",
    "                            right = df_dicts[\"Roles\"][[\"Nivel de carrera MAPFRE\", \"Puesto\"]],\n",
    "                            left_on = \"Nuevo puesto\",\n",
    "                            right_on = \"Puesto\")[[\"Nivel de carrera MAPFRE\", \"Veredicto\", \"id\"]]\n",
    "\n",
    "df_rol_veredicto.columns = [\"Rol\", \"Veredicto\", \"count\"]\n",
    "\n",
    "veredicto_orden = [\"Cumple con el nivel y vertical asignado\",\n",
    "                   \"Cumple la vertical, pero no con el nivel asignado\",\n",
    "                   \"Excede el nivel de la vertical prevista\",\n",
    "                   \"Cumple con el nivel, pero no con la vertical asignada\",\n",
    "                   \"No cumple con nivel, ni vertical previsto\"]\n",
    "\n",
    "df_rol_veredicto[\"Veredicto\"] = pd.Categorical(df_rol_veredicto[\"Veredicto\"], categories = veredicto_orden, ordered = True)\n",
    "df_rol_veredicto = df_rol_veredicto.sort_values(\"Veredicto\")\n",
    "\n",
    "px.bar(data_frame = df_rol_veredicto, x = \"Rol\", y = \"count\", color = \"Veredicto\")"
   ]
  },
  {
   "cell_type": "code",
   "execution_count": null,
   "id": "6b94b5d7-ce5d-4094-adbe-8d9a26217d2c",
   "metadata": {},
   "outputs": [],
   "source": []
  },
  {
   "cell_type": "code",
   "execution_count": null,
   "id": "849eb03c-1dc4-4da1-b3a7-20881f84dca6",
   "metadata": {},
   "outputs": [],
   "source": []
  },
  {
   "cell_type": "code",
   "execution_count": null,
   "id": "c146599c-db81-43fb-9bee-4054c616d059",
   "metadata": {},
   "outputs": [],
   "source": []
  },
  {
   "cell_type": "code",
   "execution_count": null,
   "id": "215586ad-c8a3-45f4-a3bc-d63870bfea5f",
   "metadata": {},
   "outputs": [],
   "source": []
  }
 ],
 "metadata": {
  "kernelspec": {
   "display_name": "Python 3 (ipykernel)",
   "language": "python",
   "name": "python3"
  },
  "language_info": {
   "codemirror_mode": {
    "name": "ipython",
    "version": 3
   },
   "file_extension": ".py",
   "mimetype": "text/x-python",
   "name": "python",
   "nbconvert_exporter": "python",
   "pygments_lexer": "ipython3",
   "version": "3.13.5"
  }
 },
 "nbformat": 4,
 "nbformat_minor": 5
}
